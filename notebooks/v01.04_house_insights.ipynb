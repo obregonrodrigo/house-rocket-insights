{
 "cells": [
  {
   "cell_type": "markdown",
   "id": "b5a7f391",
   "metadata": {},
   "source": [
    "# 0. Imports"
   ]
  },
  {
   "cell_type": "code",
   "execution_count": 2,
   "id": "53b917ca",
   "metadata": {},
   "outputs": [],
   "source": [
    "import pandas as pd\n",
    "import numpy as np\n",
    "import plotly.express as px\n",
    "from matplotlib import pyplot as plt\n",
    "import ipywidgets as widgets\n",
    "from ipywidgets import fixed\n",
    "from geopy.geocoders import  Nominatim"
   ]
  },
  {
   "cell_type": "markdown",
   "id": "9dad3293",
   "metadata": {},
   "source": [
    "### 0.1 Auxiliares"
   ]
  },
  {
   "cell_type": "markdown",
   "id": "f05f6d60",
   "metadata": {},
   "source": [
    "### 0.1.1 Formata números cientificos para as casas decimais, elimita a necessidade de ficar usando round"
   ]
  },
  {
   "cell_type": "code",
   "execution_count": 3,
   "id": "a72effd5",
   "metadata": {},
   "outputs": [],
   "source": [
    "pd.set_option('display.float_format', lambda x: '%.2f' % x) "
   ]
  },
  {
   "cell_type": "markdown",
   "id": "3c61e4d4",
   "metadata": {},
   "source": [
    "# 1. Data collection"
   ]
  },
  {
   "cell_type": "code",
   "execution_count": 8,
   "id": "6525a958",
   "metadata": {},
   "outputs": [],
   "source": [
    "data = pd.read_csv('../data/kc_house_data.csv')"
   ]
  },
  {
   "cell_type": "code",
   "execution_count": 10,
   "id": "fc1cccc7",
   "metadata": {},
   "outputs": [
    {
     "name": "stdout",
     "output_type": "stream",
     "text": [
      "47.5112,-122.257\n",
      "47.721,-122.319\n",
      "47.7379,-122.233\n",
      "47.5208,-122.393\n",
      "47.6168,-122.045\n",
      "47.6561,-122.005\n",
      "47.3097,-122.327\n",
      "47.4095,-122.315\n",
      "47.5123,-122.337\n",
      "47.3684,-122.031\n",
      "fim\n"
     ]
    }
   ],
   "source": [
    "data = data.head(10) #dataset teste \n",
    "# Novas colunas\n",
    "data['road'] = 'NA'\n",
    "data['house_number'] = 'NA'\n",
    "data['neighbourhood'] = 'NA'\n",
    "data['city'] = 'NA'\n",
    "data['country'] = 'NA'\n",
    "data['state'] = 'NA'\n",
    "data['osm'] = 'NA'\n",
    "\n",
    "#Iniciar o nominatim\n",
    "geolocator = Nominatim( user_agent='geoapiExercises')\n",
    "\n",
    "for i in range( len(data)):\n",
    "  query = str(data.loc[i, 'lat']) + ',' + str(data.loc[i,'long'])\n",
    "  print(query)\n",
    "  \n",
    "  response = geolocator.reverse(query) #API Request\n",
    "\n",
    "  #Populate data\n",
    "  # if house number existir na tabela address ele executa a ação senão deixa NA\n",
    "  if 'house_number' in response.raw['address']:\n",
    "    data.loc[i, 'house_number'] = response.raw['address']['house_number']\n",
    "  \n",
    "  if 'road' in response.raw['address']:\n",
    "    data.loc[i, 'road'] = response.raw['address']['road']\n",
    "  \n",
    "  if 'neighbourhood' in response.raw['address']:\n",
    "    data.loc[i, 'neighbourhood'] = response.raw['address']['neighbourhood']\n",
    "  \n",
    "  if 'city' in response.raw['address']:\n",
    "    data.loc[i, 'city'] = response.raw['address']['city']\n",
    "  \n",
    "  if 'country' in response.raw['address']:\n",
    "    data.loc[i, 'country'] = response.raw['address']['country']\n",
    "  \n",
    "  if 'state' in response.raw['address']:\n",
    "    data.loc[i, 'state'] = response.raw['address']['state']\n",
    "\n",
    "  if 'osm_type' in response.raw:\n",
    "    data.loc[i, 'osm'] = response.raw['osm_type']\n",
    "print('fim')"
   ]
  },
  {
   "cell_type": "code",
   "execution_count": 55,
   "id": "a41cf133",
   "metadata": {},
   "outputs": [],
   "source": [
    "report = data\n",
    "report.to_csv('data/dataset.csv', index=False)"
   ]
  },
  {
   "cell_type": "code",
   "execution_count": 69,
   "id": "ffa15a09",
   "metadata": {},
   "outputs": [
    {
     "data": {
      "text/html": [
       "<div>\n",
       "<style scoped>\n",
       "    .dataframe tbody tr th:only-of-type {\n",
       "        vertical-align: middle;\n",
       "    }\n",
       "\n",
       "    .dataframe tbody tr th {\n",
       "        vertical-align: top;\n",
       "    }\n",
       "\n",
       "    .dataframe thead th {\n",
       "        text-align: right;\n",
       "    }\n",
       "</style>\n",
       "<table border=\"1\" class=\"dataframe\">\n",
       "  <thead>\n",
       "    <tr style=\"text-align: right;\">\n",
       "      <th></th>\n",
       "      <th>id</th>\n",
       "      <th>date</th>\n",
       "      <th>price</th>\n",
       "      <th>bedrooms</th>\n",
       "      <th>bathrooms</th>\n",
       "      <th>sqft_living</th>\n",
       "      <th>sqft_lot</th>\n",
       "      <th>floors</th>\n",
       "      <th>waterfront</th>\n",
       "      <th>view</th>\n",
       "      <th>...</th>\n",
       "      <th>long</th>\n",
       "      <th>sqft_living15</th>\n",
       "      <th>sqft_lot15</th>\n",
       "      <th>road</th>\n",
       "      <th>house_number</th>\n",
       "      <th>neighbourhood</th>\n",
       "      <th>city</th>\n",
       "      <th>country</th>\n",
       "      <th>state</th>\n",
       "      <th>osm</th>\n",
       "    </tr>\n",
       "  </thead>\n",
       "  <tbody>\n",
       "    <tr>\n",
       "      <th>0</th>\n",
       "      <td>7129300520</td>\n",
       "      <td>20141013T000000</td>\n",
       "      <td>221900.00</td>\n",
       "      <td>3</td>\n",
       "      <td>1.00</td>\n",
       "      <td>1180</td>\n",
       "      <td>5650</td>\n",
       "      <td>1.00</td>\n",
       "      <td>0</td>\n",
       "      <td>0</td>\n",
       "      <td>...</td>\n",
       "      <td>-122.26</td>\n",
       "      <td>1340</td>\n",
       "      <td>5650</td>\n",
       "      <td>61st Avenue South</td>\n",
       "      <td>10012.00</td>\n",
       "      <td>Rainier Beach</td>\n",
       "      <td>Seattle</td>\n",
       "      <td>United States</td>\n",
       "      <td>Washington</td>\n",
       "      <td>way</td>\n",
       "    </tr>\n",
       "    <tr>\n",
       "      <th>1</th>\n",
       "      <td>6414100192</td>\n",
       "      <td>20141209T000000</td>\n",
       "      <td>538000.00</td>\n",
       "      <td>3</td>\n",
       "      <td>2.25</td>\n",
       "      <td>2570</td>\n",
       "      <td>7242</td>\n",
       "      <td>2.00</td>\n",
       "      <td>0</td>\n",
       "      <td>0</td>\n",
       "      <td>...</td>\n",
       "      <td>-122.32</td>\n",
       "      <td>1690</td>\n",
       "      <td>7639</td>\n",
       "      <td>Northeast 127th Street</td>\n",
       "      <td>837.00</td>\n",
       "      <td>NaN</td>\n",
       "      <td>Seattle</td>\n",
       "      <td>United States</td>\n",
       "      <td>Washington</td>\n",
       "      <td>way</td>\n",
       "    </tr>\n",
       "    <tr>\n",
       "      <th>2</th>\n",
       "      <td>5631500400</td>\n",
       "      <td>20150225T000000</td>\n",
       "      <td>180000.00</td>\n",
       "      <td>2</td>\n",
       "      <td>1.00</td>\n",
       "      <td>770</td>\n",
       "      <td>10000</td>\n",
       "      <td>1.00</td>\n",
       "      <td>0</td>\n",
       "      <td>0</td>\n",
       "      <td>...</td>\n",
       "      <td>-122.23</td>\n",
       "      <td>2720</td>\n",
       "      <td>8062</td>\n",
       "      <td>81st Avenue Northeast</td>\n",
       "      <td>15109.00</td>\n",
       "      <td>NaN</td>\n",
       "      <td>NaN</td>\n",
       "      <td>United States</td>\n",
       "      <td>Washington</td>\n",
       "      <td>node</td>\n",
       "    </tr>\n",
       "    <tr>\n",
       "      <th>3</th>\n",
       "      <td>2487200875</td>\n",
       "      <td>20141209T000000</td>\n",
       "      <td>604000.00</td>\n",
       "      <td>4</td>\n",
       "      <td>3.00</td>\n",
       "      <td>1960</td>\n",
       "      <td>5000</td>\n",
       "      <td>1.00</td>\n",
       "      <td>0</td>\n",
       "      <td>0</td>\n",
       "      <td>...</td>\n",
       "      <td>-122.39</td>\n",
       "      <td>1360</td>\n",
       "      <td>5000</td>\n",
       "      <td>Fauntleroy Way Southwest</td>\n",
       "      <td>9236.00</td>\n",
       "      <td>NaN</td>\n",
       "      <td>Seattle</td>\n",
       "      <td>United States</td>\n",
       "      <td>Washington</td>\n",
       "      <td>way</td>\n",
       "    </tr>\n",
       "    <tr>\n",
       "      <th>4</th>\n",
       "      <td>1954400510</td>\n",
       "      <td>20150218T000000</td>\n",
       "      <td>510000.00</td>\n",
       "      <td>3</td>\n",
       "      <td>2.00</td>\n",
       "      <td>1680</td>\n",
       "      <td>8080</td>\n",
       "      <td>1.00</td>\n",
       "      <td>0</td>\n",
       "      <td>0</td>\n",
       "      <td>...</td>\n",
       "      <td>-122.05</td>\n",
       "      <td>1800</td>\n",
       "      <td>7503</td>\n",
       "      <td>221st Avenue Northeast</td>\n",
       "      <td>923.00</td>\n",
       "      <td>NaN</td>\n",
       "      <td>NaN</td>\n",
       "      <td>United States</td>\n",
       "      <td>Washington</td>\n",
       "      <td>way</td>\n",
       "    </tr>\n",
       "  </tbody>\n",
       "</table>\n",
       "<p>5 rows × 28 columns</p>\n",
       "</div>"
      ],
      "text/plain": [
       "           id             date     price  bedrooms  bathrooms  sqft_living  \\\n",
       "0  7129300520  20141013T000000 221900.00         3       1.00         1180   \n",
       "1  6414100192  20141209T000000 538000.00         3       2.25         2570   \n",
       "2  5631500400  20150225T000000 180000.00         2       1.00          770   \n",
       "3  2487200875  20141209T000000 604000.00         4       3.00         1960   \n",
       "4  1954400510  20150218T000000 510000.00         3       2.00         1680   \n",
       "\n",
       "   sqft_lot  floors  waterfront  view  ...    long  sqft_living15  sqft_lot15  \\\n",
       "0      5650    1.00           0     0  ... -122.26           1340        5650   \n",
       "1      7242    2.00           0     0  ... -122.32           1690        7639   \n",
       "2     10000    1.00           0     0  ... -122.23           2720        8062   \n",
       "3      5000    1.00           0     0  ... -122.39           1360        5000   \n",
       "4      8080    1.00           0     0  ... -122.05           1800        7503   \n",
       "\n",
       "                       road  house_number  neighbourhood     city  \\\n",
       "0         61st Avenue South      10012.00  Rainier Beach  Seattle   \n",
       "1    Northeast 127th Street        837.00            NaN  Seattle   \n",
       "2     81st Avenue Northeast      15109.00            NaN      NaN   \n",
       "3  Fauntleroy Way Southwest       9236.00            NaN  Seattle   \n",
       "4    221st Avenue Northeast        923.00            NaN      NaN   \n",
       "\n",
       "         country       state   osm  \n",
       "0  United States  Washington   way  \n",
       "1  United States  Washington   way  \n",
       "2  United States  Washington  node  \n",
       "3  United States  Washington   way  \n",
       "4  United States  Washington   way  \n",
       "\n",
       "[5 rows x 28 columns]"
      ]
     },
     "execution_count": 69,
     "metadata": {},
     "output_type": "execute_result"
    }
   ],
   "source": [
    "data = pd.read_csv('data/dataset.csv')\n",
    "data.head()"
   ]
  },
  {
   "cell_type": "markdown",
   "id": "c277bf33",
   "metadata": {},
   "source": [
    "# 2. Data Preparation"
   ]
  },
  {
   "cell_type": "code",
   "execution_count": 70,
   "id": "41119704",
   "metadata": {},
   "outputs": [
    {
     "data": {
      "text/plain": [
       "id                 int64\n",
       "date              object\n",
       "price            float64\n",
       "bedrooms           int64\n",
       "bathrooms        float64\n",
       "sqft_living        int64\n",
       "sqft_lot           int64\n",
       "floors           float64\n",
       "waterfront         int64\n",
       "view               int64\n",
       "condition          int64\n",
       "grade              int64\n",
       "sqft_above         int64\n",
       "sqft_basement      int64\n",
       "yr_built           int64\n",
       "yr_renovated       int64\n",
       "zipcode            int64\n",
       "lat              float64\n",
       "long             float64\n",
       "sqft_living15      int64\n",
       "sqft_lot15         int64\n",
       "road              object\n",
       "house_number     float64\n",
       "neighbourhood     object\n",
       "city              object\n",
       "country           object\n",
       "state             object\n",
       "osm               object\n",
       "dtype: object"
      ]
     },
     "execution_count": 70,
     "metadata": {},
     "output_type": "execute_result"
    }
   ],
   "source": [
    "data.dtypes"
   ]
  },
  {
   "cell_type": "markdown",
   "id": "7c4a4a5c",
   "metadata": {},
   "source": [
    "### 2.1.0 Converte o campo date e yr_built de objetct para date"
   ]
  },
  {
   "cell_type": "code",
   "execution_count": 71,
   "id": "87e6c7df",
   "metadata": {},
   "outputs": [],
   "source": [
    "data['date'] = pd.to_datetime(data['date'])\n",
    "data['yr_built'] = pd.to_datetime( data['yr_built'], format='%Y') "
   ]
  },
  {
   "cell_type": "markdown",
   "id": "82276555",
   "metadata": {},
   "source": [
    "### 2.1.1 Exclusão das coluna 'sqft_living15' e 'sqft_lot15'"
   ]
  },
  {
   "cell_type": "code",
   "execution_count": 72,
   "id": "c9f4ba2a",
   "metadata": {},
   "outputs": [],
   "source": [
    "data.drop(['sqft_living15','sqft_lot15'],inplace=True, axis=1)"
   ]
  },
  {
   "cell_type": "markdown",
   "id": "ef543a44",
   "metadata": {},
   "source": [
    "### 2.2.0 Classificação dos imóveis por idade\n",
    "#### Data > 2015-01-01: New House || Data < 2015-01-01: Old House"
   ]
  },
  {
   "cell_type": "code",
   "execution_count": 73,
   "id": "1d6c86ec",
   "metadata": {},
   "outputs": [],
   "source": [
    "data['house_age'] = 'age'\n",
    "\n",
    "data.loc[data['date'] > '2015-01-01', 'house_age'] = 'new house'\n",
    "data.loc[data['date'] <= '2015-01-01', 'house_age'] = 'old house'"
   ]
  },
  {
   "cell_type": "markdown",
   "id": "97fb011c",
   "metadata": {},
   "source": [
    "### 2.2.1 Classificação de imóveis por número de quartos\n",
    "#### 1 quarto: studio || 2 quartos: apartamento || 3 quartos: casa"
   ]
  },
  {
   "cell_type": "code",
   "execution_count": 74,
   "id": "e9e75eb6",
   "metadata": {},
   "outputs": [],
   "source": [
    "data['dormitory_type'] = 'values'\n",
    "data.loc[data['bedrooms'] == 1, 'dormitory_type'] = 'studio'\n",
    "data.loc[data['bedrooms'] == 2, 'dormitory_type'] = 'apartament'\n",
    "data.loc[data['bedrooms'] >= 3, 'dormitory_type'] = 'house'"
   ]
  },
  {
   "cell_type": "markdown",
   "id": "f7626c8f",
   "metadata": {},
   "source": [
    "### 2.2.2 Classificação dos imóveis pelo seu estado de conservação"
   ]
  },
  {
   "cell_type": "code",
   "execution_count": 75,
   "id": "b121918e",
   "metadata": {},
   "outputs": [],
   "source": [
    "data['condition_type'] = 'status'\n",
    "data.loc[data['condition'] <= 2, 'condition_type'] = 'bad'\n",
    "data.loc[(data['condition'] > 2) & (data['condition'] < 5), 'condition_type' ] = 'regular'\n",
    "data.loc[data['condition'] >= 5, 'condition_type'] = 'good'"
   ]
  },
  {
   "cell_type": "markdown",
   "id": "976b72ce",
   "metadata": {},
   "source": [
    "### 2.2.3 Classificação de imóveis por nivel de preço\n",
    "###### Nivel 0: preço entre RS 0.00 e RS 321.950\n",
    "###### Nivel 1: preço entre RS321.950 e RS 450.000\n",
    "###### Nivel 2: preço entre RS 450.000 e RS 645.000\n",
    "###### Nivel 3: preço acima de RS 645.000"
   ]
  },
  {
   "cell_type": "code",
   "execution_count": 76,
   "id": "5611f240",
   "metadata": {},
   "outputs": [],
   "source": [
    "for i in range(len(data)):\n",
    "  if (data.loc[i, 'price'] > 0) & (data.loc[i, 'price'] < 321950):\n",
    "    data.loc[i, 'nivel'] = 'nivel_0'\n",
    "  \n",
    "  elif (data.loc[i, 'price'] >= 321950) & (data.loc[i, 'price'] < 450000):\n",
    "    data.loc[i, 'nivel'] = 'nivel_1'\n",
    "\n",
    "  elif (data.loc[i, 'price'] >= 450000) & (data.loc[i, 'price'] < 645000):\n",
    "    data.loc[i, 'nivel'] = 'nivel_2'\n",
    "  \n",
    "  else:\n",
    "    data.loc[i, 'nivel'] = 'nivel_3'"
   ]
  },
  {
   "cell_type": "markdown",
   "id": "33314d68",
   "metadata": {},
   "source": [
    "# 3. Data exploration"
   ]
  },
  {
   "cell_type": "markdown",
   "id": "02060fc5",
   "metadata": {},
   "source": [
    "## 3.1 Quantas casas estão disponíveis para compra?"
   ]
  },
  {
   "cell_type": "code",
   "execution_count": 77,
   "id": "fd08afcb",
   "metadata": {},
   "outputs": [
    {
     "name": "stdout",
     "output_type": "stream",
     "text": [
      "500\n"
     ]
    }
   ],
   "source": [
    "df = pd.DataFrame(data)\n",
    "print(df.shape[0])"
   ]
  },
  {
   "cell_type": "markdown",
   "id": "fa22b9da",
   "metadata": {},
   "source": [
    "## 3.2 Qual a casa mais cara do portifólio?"
   ]
  },
  {
   "cell_type": "code",
   "execution_count": 19,
   "id": "6366fd37",
   "metadata": {},
   "outputs": [
    {
     "name": "stdout",
     "output_type": "stream",
     "text": [
      "               id      price\n",
      "7252   6762700020  7700000.0\n",
      "3914   9808700762  7062500.0\n",
      "9254   9208900037  6885000.0\n",
      "4411   2470100110  5570000.0\n",
      "1448   8907500070  5350000.0\n",
      "...           ...        ...\n",
      "8274   3883800011    82000.0\n",
      "16198  3028200080    81000.0\n",
      "465    8658300340    80000.0\n",
      "15293    40000362    78000.0\n",
      "1149   3421079032    75000.0\n",
      "\n",
      "[21613 rows x 2 columns]\n"
     ]
    }
   ],
   "source": [
    "print(df[['id','price']].sort_values('price', ascending=False))"
   ]
  },
  {
   "cell_type": "markdown",
   "id": "1e8dfd86",
   "metadata": {},
   "source": [
    "## 3.3 Quantas casas possuem dois banheiros?"
   ]
  },
  {
   "cell_type": "code",
   "execution_count": 20,
   "id": "06ef550c",
   "metadata": {},
   "outputs": [
    {
     "name": "stdout",
     "output_type": "stream",
     "text": [
      "1930\n"
     ]
    }
   ],
   "source": [
    "sum(df.iloc[:,4] == 2)\n",
    "print( df[df['bathrooms'] == 2].shape[0] )"
   ]
  },
  {
   "cell_type": "markdown",
   "id": "84c85a2e",
   "metadata": {},
   "source": [
    "## 3.4 Quantas casas possuem mais de 300 metros quadrados na sala de estar?"
   ]
  },
  {
   "cell_type": "code",
   "execution_count": 21,
   "id": "7b7b88f8",
   "metadata": {},
   "outputs": [
    {
     "data": {
      "text/plain": [
       "2141"
      ]
     },
     "execution_count": 21,
     "metadata": {},
     "output_type": "execute_result"
    }
   ],
   "source": [
    "df['m2_living'] = df['sqft_living']*0.092 # convert 1 pé = 0.092 m2\n",
    "len(df.loc[df['m2_living'] > 300])"
   ]
  },
  {
   "cell_type": "markdown",
   "id": "35f58145",
   "metadata": {},
   "source": [
    "## 3.5 Das casas com vista para o mar, quantas tem 3 quartos?"
   ]
  },
  {
   "cell_type": "code",
   "execution_count": 23,
   "id": "d318a1f0",
   "metadata": {},
   "outputs": [
    {
     "data": {
      "text/plain": [
       "64"
      ]
     },
     "execution_count": 23,
     "metadata": {},
     "output_type": "execute_result"
    }
   ],
   "source": [
    "len(df.loc[(df.waterfront == 1) & (df.bedrooms == 3)])"
   ]
  },
  {
   "cell_type": "markdown",
   "id": "ca09e203",
   "metadata": {},
   "source": [
    "## 3.6 Quantos imóveis estão em condição 'bad' e possuem 'vista para água'?"
   ]
  },
  {
   "cell_type": "code",
   "execution_count": 25,
   "id": "4f092f4a",
   "metadata": {},
   "outputs": [
    {
     "data": {
      "text/plain": [
       "2"
      ]
     },
     "execution_count": 25,
     "metadata": {},
     "output_type": "execute_result"
    }
   ],
   "source": [
    "data.loc[(data['condition_type'] == 'bad') & (data['waterfront'] == 1)].shape[0]"
   ]
  },
  {
   "cell_type": "markdown",
   "id": "b088abb2",
   "metadata": {},
   "source": [
    "## 3.7 Qual o número de imóveis por ano de construção?"
   ]
  },
  {
   "cell_type": "code",
   "execution_count": 26,
   "id": "899b5434",
   "metadata": {},
   "outputs": [
    {
     "name": "stdout",
     "output_type": "stream",
     "text": [
      "Número de imóveis construidos em 1900-01-01 00:00:00 é: 87\n",
      "Número de imóveis construidos em 1901-01-01 00:00:00 é: 29\n",
      "Número de imóveis construidos em 1902-01-01 00:00:00 é: 27\n",
      "Número de imóveis construidos em 1903-01-01 00:00:00 é: 46\n",
      "Número de imóveis construidos em 1904-01-01 00:00:00 é: 45\n",
      "Número de imóveis construidos em 1905-01-01 00:00:00 é: 74\n",
      "Número de imóveis construidos em 1906-01-01 00:00:00 é: 92\n",
      "Número de imóveis construidos em 1907-01-01 00:00:00 é: 65\n",
      "Número de imóveis construidos em 1908-01-01 00:00:00 é: 86\n",
      "Número de imóveis construidos em 1909-01-01 00:00:00 é: 94\n",
      "Número de imóveis construidos em 1910-01-01 00:00:00 é: 134\n",
      "Número de imóveis construidos em 1911-01-01 00:00:00 é: 73\n",
      "Número de imóveis construidos em 1912-01-01 00:00:00 é: 79\n",
      "Número de imóveis construidos em 1913-01-01 00:00:00 é: 59\n",
      "Número de imóveis construidos em 1914-01-01 00:00:00 é: 54\n",
      "Número de imóveis construidos em 1915-01-01 00:00:00 é: 64\n",
      "Número de imóveis construidos em 1916-01-01 00:00:00 é: 79\n",
      "Número de imóveis construidos em 1917-01-01 00:00:00 é: 56\n",
      "Número de imóveis construidos em 1918-01-01 00:00:00 é: 120\n",
      "Número de imóveis construidos em 1919-01-01 00:00:00 é: 88\n",
      "Número de imóveis construidos em 1920-01-01 00:00:00 é: 98\n",
      "Número de imóveis construidos em 1921-01-01 00:00:00 é: 76\n",
      "Número de imóveis construidos em 1922-01-01 00:00:00 é: 95\n",
      "Número de imóveis construidos em 1923-01-01 00:00:00 é: 84\n",
      "Número de imóveis construidos em 1924-01-01 00:00:00 é: 139\n",
      "Número de imóveis construidos em 1925-01-01 00:00:00 é: 165\n",
      "Número de imóveis construidos em 1926-01-01 00:00:00 é: 180\n",
      "Número de imóveis construidos em 1927-01-01 00:00:00 é: 115\n",
      "Número de imóveis construidos em 1928-01-01 00:00:00 é: 126\n",
      "Número de imóveis construidos em 1929-01-01 00:00:00 é: 114\n",
      "Número de imóveis construidos em 1930-01-01 00:00:00 é: 90\n",
      "Número de imóveis construidos em 1931-01-01 00:00:00 é: 61\n",
      "Número de imóveis construidos em 1932-01-01 00:00:00 é: 38\n",
      "Número de imóveis construidos em 1933-01-01 00:00:00 é: 30\n",
      "Número de imóveis construidos em 1934-01-01 00:00:00 é: 21\n",
      "Número de imóveis construidos em 1935-01-01 00:00:00 é: 24\n",
      "Número de imóveis construidos em 1936-01-01 00:00:00 é: 40\n",
      "Número de imóveis construidos em 1937-01-01 00:00:00 é: 68\n",
      "Número de imóveis construidos em 1938-01-01 00:00:00 é: 52\n",
      "Número de imóveis construidos em 1939-01-01 00:00:00 é: 106\n",
      "Número de imóveis construidos em 1940-01-01 00:00:00 é: 156\n",
      "Número de imóveis construidos em 1941-01-01 00:00:00 é: 161\n",
      "Número de imóveis construidos em 1942-01-01 00:00:00 é: 223\n",
      "Número de imóveis construidos em 1943-01-01 00:00:00 é: 170\n",
      "Número de imóveis construidos em 1944-01-01 00:00:00 é: 140\n",
      "Número de imóveis construidos em 1945-01-01 00:00:00 é: 95\n",
      "Número de imóveis construidos em 1946-01-01 00:00:00 é: 126\n",
      "Número de imóveis construidos em 1947-01-01 00:00:00 é: 263\n",
      "Número de imóveis construidos em 1948-01-01 00:00:00 é: 235\n",
      "Número de imóveis construidos em 1949-01-01 00:00:00 é: 195\n",
      "Número de imóveis construidos em 1950-01-01 00:00:00 é: 250\n",
      "Número de imóveis construidos em 1951-01-01 00:00:00 é: 229\n",
      "Número de imóveis construidos em 1952-01-01 00:00:00 é: 220\n",
      "Número de imóveis construidos em 1953-01-01 00:00:00 é: 223\n",
      "Número de imóveis construidos em 1954-01-01 00:00:00 é: 305\n",
      "Número de imóveis construidos em 1955-01-01 00:00:00 é: 271\n",
      "Número de imóveis construidos em 1956-01-01 00:00:00 é: 198\n",
      "Número de imóveis construidos em 1957-01-01 00:00:00 é: 198\n",
      "Número de imóveis construidos em 1958-01-01 00:00:00 é: 224\n",
      "Número de imóveis construidos em 1959-01-01 00:00:00 é: 334\n",
      "Número de imóveis construidos em 1960-01-01 00:00:00 é: 248\n",
      "Número de imóveis construidos em 1961-01-01 00:00:00 é: 224\n",
      "Número de imóveis construidos em 1962-01-01 00:00:00 é: 312\n",
      "Número de imóveis construidos em 1963-01-01 00:00:00 é: 256\n",
      "Número de imóveis construidos em 1964-01-01 00:00:00 é: 172\n",
      "Número de imóveis construidos em 1965-01-01 00:00:00 é: 187\n",
      "Número de imóveis construidos em 1966-01-01 00:00:00 é: 250\n",
      "Número de imóveis construidos em 1967-01-01 00:00:00 é: 350\n",
      "Número de imóveis construidos em 1968-01-01 00:00:00 é: 381\n",
      "Número de imóveis construidos em 1969-01-01 00:00:00 é: 280\n",
      "Número de imóveis construidos em 1970-01-01 00:00:00 é: 132\n",
      "Número de imóveis construidos em 1971-01-01 00:00:00 é: 104\n",
      "Número de imóveis construidos em 1972-01-01 00:00:00 é: 149\n",
      "Número de imóveis construidos em 1973-01-01 00:00:00 é: 149\n",
      "Número de imóveis construidos em 1974-01-01 00:00:00 é: 162\n",
      "Número de imóveis construidos em 1975-01-01 00:00:00 é: 189\n",
      "Número de imóveis construidos em 1976-01-01 00:00:00 é: 253\n",
      "Número de imóveis construidos em 1977-01-01 00:00:00 é: 417\n",
      "Número de imóveis construidos em 1978-01-01 00:00:00 é: 387\n",
      "Número de imóveis construidos em 1979-01-01 00:00:00 é: 343\n",
      "Número de imóveis construidos em 1980-01-01 00:00:00 é: 240\n",
      "Número de imóveis construidos em 1981-01-01 00:00:00 é: 199\n",
      "Número de imóveis construidos em 1982-01-01 00:00:00 é: 105\n",
      "Número de imóveis construidos em 1983-01-01 00:00:00 é: 212\n",
      "Número de imóveis construidos em 1984-01-01 00:00:00 é: 229\n",
      "Número de imóveis construidos em 1985-01-01 00:00:00 é: 228\n",
      "Número de imóveis construidos em 1986-01-01 00:00:00 é: 215\n",
      "Número de imóveis construidos em 1987-01-01 00:00:00 é: 294\n",
      "Número de imóveis construidos em 1988-01-01 00:00:00 é: 270\n",
      "Número de imóveis construidos em 1989-01-01 00:00:00 é: 290\n",
      "Número de imóveis construidos em 1990-01-01 00:00:00 é: 320\n",
      "Número de imóveis construidos em 1991-01-01 00:00:00 é: 224\n",
      "Número de imóveis construidos em 1992-01-01 00:00:00 é: 198\n",
      "Número de imóveis construidos em 1993-01-01 00:00:00 é: 202\n",
      "Número de imóveis construidos em 1994-01-01 00:00:00 é: 249\n",
      "Número de imóveis construidos em 1995-01-01 00:00:00 é: 169\n",
      "Número de imóveis construidos em 1996-01-01 00:00:00 é: 195\n",
      "Número de imóveis construidos em 1997-01-01 00:00:00 é: 177\n",
      "Número de imóveis construidos em 1998-01-01 00:00:00 é: 239\n",
      "Número de imóveis construidos em 1999-01-01 00:00:00 é: 265\n",
      "Número de imóveis construidos em 2000-01-01 00:00:00 é: 218\n",
      "Número de imóveis construidos em 2001-01-01 00:00:00 é: 305\n",
      "Número de imóveis construidos em 2002-01-01 00:00:00 é: 222\n",
      "Número de imóveis construidos em 2003-01-01 00:00:00 é: 422\n",
      "Número de imóveis construidos em 2004-01-01 00:00:00 é: 433\n",
      "Número de imóveis construidos em 2005-01-01 00:00:00 é: 450\n",
      "Número de imóveis construidos em 2006-01-01 00:00:00 é: 454\n",
      "Número de imóveis construidos em 2007-01-01 00:00:00 é: 417\n",
      "Número de imóveis construidos em 2008-01-01 00:00:00 é: 367\n",
      "Número de imóveis construidos em 2009-01-01 00:00:00 é: 230\n",
      "Número de imóveis construidos em 2010-01-01 00:00:00 é: 143\n",
      "Número de imóveis construidos em 2011-01-01 00:00:00 é: 130\n",
      "Número de imóveis construidos em 2012-01-01 00:00:00 é: 170\n",
      "Número de imóveis construidos em 2013-01-01 00:00:00 é: 201\n",
      "Número de imóveis construidos em 2014-01-01 00:00:00 é: 559\n",
      "Número de imóveis construidos em 2015-01-01 00:00:00 é: 38\n"
     ]
    }
   ],
   "source": [
    "group_year = data[['id', 'yr_built']].groupby('yr_built')\n",
    "for year, propriety in group_year:\n",
    "  print('Número de imóveis construidos em {} é: {}'.format(year, propriety.shape[0]))"
   ]
  },
  {
   "cell_type": "markdown",
   "id": "af0d0839",
   "metadata": {},
   "source": [
    "## 3.8 Qual o tamanho médio da salas dos imóveis por ano de contrução?"
   ]
  },
  {
   "cell_type": "code",
   "execution_count": 27,
   "id": "14edc1a1",
   "metadata": {},
   "outputs": [
    {
     "data": {
      "text/html": [
       "<div>\n",
       "<style scoped>\n",
       "    .dataframe tbody tr th:only-of-type {\n",
       "        vertical-align: middle;\n",
       "    }\n",
       "\n",
       "    .dataframe tbody tr th {\n",
       "        vertical-align: top;\n",
       "    }\n",
       "\n",
       "    .dataframe thead th {\n",
       "        text-align: right;\n",
       "    }\n",
       "</style>\n",
       "<table border=\"1\" class=\"dataframe\">\n",
       "  <thead>\n",
       "    <tr style=\"text-align: right;\">\n",
       "      <th></th>\n",
       "      <th>sqft_living</th>\n",
       "    </tr>\n",
       "    <tr>\n",
       "      <th>yr_built</th>\n",
       "      <th></th>\n",
       "    </tr>\n",
       "  </thead>\n",
       "  <tbody>\n",
       "    <tr>\n",
       "      <th>1900-01-01</th>\n",
       "      <td>1732.011494</td>\n",
       "    </tr>\n",
       "    <tr>\n",
       "      <th>1901-01-01</th>\n",
       "      <td>1763.620690</td>\n",
       "    </tr>\n",
       "    <tr>\n",
       "      <th>1902-01-01</th>\n",
       "      <td>1919.629630</td>\n",
       "    </tr>\n",
       "    <tr>\n",
       "      <th>1903-01-01</th>\n",
       "      <td>1507.739130</td>\n",
       "    </tr>\n",
       "    <tr>\n",
       "      <th>1904-01-01</th>\n",
       "      <td>1603.177778</td>\n",
       "    </tr>\n",
       "    <tr>\n",
       "      <th>...</th>\n",
       "      <td>...</td>\n",
       "    </tr>\n",
       "    <tr>\n",
       "      <th>2011-01-01</th>\n",
       "      <td>2313.684615</td>\n",
       "    </tr>\n",
       "    <tr>\n",
       "      <th>2012-01-01</th>\n",
       "      <td>2378.741176</td>\n",
       "    </tr>\n",
       "    <tr>\n",
       "      <th>2013-01-01</th>\n",
       "      <td>2636.592040</td>\n",
       "    </tr>\n",
       "    <tr>\n",
       "      <th>2014-01-01</th>\n",
       "      <td>2615.389982</td>\n",
       "    </tr>\n",
       "    <tr>\n",
       "      <th>2015-01-01</th>\n",
       "      <td>2596.315789</td>\n",
       "    </tr>\n",
       "  </tbody>\n",
       "</table>\n",
       "<p>116 rows × 1 columns</p>\n",
       "</div>"
      ],
      "text/plain": [
       "            sqft_living\n",
       "yr_built               \n",
       "1900-01-01  1732.011494\n",
       "1901-01-01  1763.620690\n",
       "1902-01-01  1919.629630\n",
       "1903-01-01  1507.739130\n",
       "1904-01-01  1603.177778\n",
       "...                 ...\n",
       "2011-01-01  2313.684615\n",
       "2012-01-01  2378.741176\n",
       "2013-01-01  2636.592040\n",
       "2014-01-01  2615.389982\n",
       "2015-01-01  2596.315789\n",
       "\n",
       "[116 rows x 1 columns]"
      ]
     },
     "execution_count": 27,
     "metadata": {},
     "output_type": "execute_result"
    }
   ],
   "source": [
    "average_living = data[['yr_built','sqft_living']].groupby('yr_built').mean()\n",
    "average_living"
   ]
  },
  {
   "cell_type": "markdown",
   "id": "da07b927",
   "metadata": {},
   "source": [
    "## 3.9 Qual o tamanho mediano das salas dos imóveis por ano de contrução?"
   ]
  },
  {
   "cell_type": "code",
   "execution_count": 28,
   "id": "4afc7071",
   "metadata": {},
   "outputs": [
    {
     "data": {
      "text/html": [
       "<div>\n",
       "<style scoped>\n",
       "    .dataframe tbody tr th:only-of-type {\n",
       "        vertical-align: middle;\n",
       "    }\n",
       "\n",
       "    .dataframe tbody tr th {\n",
       "        vertical-align: top;\n",
       "    }\n",
       "\n",
       "    .dataframe thead th {\n",
       "        text-align: right;\n",
       "    }\n",
       "</style>\n",
       "<table border=\"1\" class=\"dataframe\">\n",
       "  <thead>\n",
       "    <tr style=\"text-align: right;\">\n",
       "      <th></th>\n",
       "      <th>sqft_living</th>\n",
       "    </tr>\n",
       "    <tr>\n",
       "      <th>yr_built</th>\n",
       "      <th></th>\n",
       "    </tr>\n",
       "  </thead>\n",
       "  <tbody>\n",
       "    <tr>\n",
       "      <th>1900-01-01</th>\n",
       "      <td>1540.0</td>\n",
       "    </tr>\n",
       "    <tr>\n",
       "      <th>1901-01-01</th>\n",
       "      <td>1610.0</td>\n",
       "    </tr>\n",
       "    <tr>\n",
       "      <th>1902-01-01</th>\n",
       "      <td>1600.0</td>\n",
       "    </tr>\n",
       "    <tr>\n",
       "      <th>1903-01-01</th>\n",
       "      <td>1505.0</td>\n",
       "    </tr>\n",
       "    <tr>\n",
       "      <th>1904-01-01</th>\n",
       "      <td>1280.0</td>\n",
       "    </tr>\n",
       "    <tr>\n",
       "      <th>...</th>\n",
       "      <td>...</td>\n",
       "    </tr>\n",
       "    <tr>\n",
       "      <th>2011-01-01</th>\n",
       "      <td>2270.0</td>\n",
       "    </tr>\n",
       "    <tr>\n",
       "      <th>2012-01-01</th>\n",
       "      <td>2237.5</td>\n",
       "    </tr>\n",
       "    <tr>\n",
       "      <th>2013-01-01</th>\n",
       "      <td>2580.0</td>\n",
       "    </tr>\n",
       "    <tr>\n",
       "      <th>2014-01-01</th>\n",
       "      <td>2650.0</td>\n",
       "    </tr>\n",
       "    <tr>\n",
       "      <th>2015-01-01</th>\n",
       "      <td>2590.0</td>\n",
       "    </tr>\n",
       "  </tbody>\n",
       "</table>\n",
       "<p>116 rows × 1 columns</p>\n",
       "</div>"
      ],
      "text/plain": [
       "            sqft_living\n",
       "yr_built               \n",
       "1900-01-01       1540.0\n",
       "1901-01-01       1610.0\n",
       "1902-01-01       1600.0\n",
       "1903-01-01       1505.0\n",
       "1904-01-01       1280.0\n",
       "...                 ...\n",
       "2011-01-01       2270.0\n",
       "2012-01-01       2237.5\n",
       "2013-01-01       2580.0\n",
       "2014-01-01       2650.0\n",
       "2015-01-01       2590.0\n",
       "\n",
       "[116 rows x 1 columns]"
      ]
     },
     "execution_count": 28,
     "metadata": {},
     "output_type": "execute_result"
    }
   ],
   "source": [
    "median_living = data[['yr_built', 'sqft_living']].groupby('yr_built').median()\n",
    "median_living"
   ]
  },
  {
   "cell_type": "markdown",
   "id": "272b416d",
   "metadata": {},
   "source": [
    "## 3.10 Qual o desvio-padrão do tamanho das salas do imóveis por ano de construção?"
   ]
  },
  {
   "cell_type": "code",
   "execution_count": 29,
   "id": "c2ad2388",
   "metadata": {},
   "outputs": [
    {
     "data": {
      "text/html": [
       "<div>\n",
       "<style scoped>\n",
       "    .dataframe tbody tr th:only-of-type {\n",
       "        vertical-align: middle;\n",
       "    }\n",
       "\n",
       "    .dataframe tbody tr th {\n",
       "        vertical-align: top;\n",
       "    }\n",
       "\n",
       "    .dataframe thead th {\n",
       "        text-align: right;\n",
       "    }\n",
       "</style>\n",
       "<table border=\"1\" class=\"dataframe\">\n",
       "  <thead>\n",
       "    <tr style=\"text-align: right;\">\n",
       "      <th></th>\n",
       "      <th>sqft_living</th>\n",
       "    </tr>\n",
       "    <tr>\n",
       "      <th>yr_built</th>\n",
       "      <th></th>\n",
       "    </tr>\n",
       "  </thead>\n",
       "  <tbody>\n",
       "    <tr>\n",
       "      <th>1900-01-01</th>\n",
       "      <td>732.944373</td>\n",
       "    </tr>\n",
       "    <tr>\n",
       "      <th>1901-01-01</th>\n",
       "      <td>668.231804</td>\n",
       "    </tr>\n",
       "    <tr>\n",
       "      <th>1902-01-01</th>\n",
       "      <td>878.659300</td>\n",
       "    </tr>\n",
       "    <tr>\n",
       "      <th>1903-01-01</th>\n",
       "      <td>469.723438</td>\n",
       "    </tr>\n",
       "    <tr>\n",
       "      <th>1904-01-01</th>\n",
       "      <td>1076.870620</td>\n",
       "    </tr>\n",
       "    <tr>\n",
       "      <th>...</th>\n",
       "      <td>...</td>\n",
       "    </tr>\n",
       "    <tr>\n",
       "      <th>2011-01-01</th>\n",
       "      <td>804.863521</td>\n",
       "    </tr>\n",
       "    <tr>\n",
       "      <th>2012-01-01</th>\n",
       "      <td>771.430350</td>\n",
       "    </tr>\n",
       "    <tr>\n",
       "      <th>2013-01-01</th>\n",
       "      <td>883.499390</td>\n",
       "    </tr>\n",
       "    <tr>\n",
       "      <th>2014-01-01</th>\n",
       "      <td>893.810049</td>\n",
       "    </tr>\n",
       "    <tr>\n",
       "      <th>2015-01-01</th>\n",
       "      <td>1155.605425</td>\n",
       "    </tr>\n",
       "  </tbody>\n",
       "</table>\n",
       "<p>116 rows × 1 columns</p>\n",
       "</div>"
      ],
      "text/plain": [
       "            sqft_living\n",
       "yr_built               \n",
       "1900-01-01   732.944373\n",
       "1901-01-01   668.231804\n",
       "1902-01-01   878.659300\n",
       "1903-01-01   469.723438\n",
       "1904-01-01  1076.870620\n",
       "...                 ...\n",
       "2011-01-01   804.863521\n",
       "2012-01-01   771.430350\n",
       "2013-01-01   883.499390\n",
       "2014-01-01   893.810049\n",
       "2015-01-01  1155.605425\n",
       "\n",
       "[116 rows x 1 columns]"
      ]
     },
     "execution_count": 29,
     "metadata": {},
     "output_type": "execute_result"
    }
   ],
   "source": [
    "desviation_living = data[['yr_built', 'sqft_living']].groupby('yr_built').std() \n",
    "desviation_living"
   ]
  },
  {
   "cell_type": "markdown",
   "id": "888b2b28",
   "metadata": {},
   "source": [
    "## 3.11 Quantos imóveis existem por número de quartos?"
   ]
  },
  {
   "cell_type": "code",
   "execution_count": 35,
   "id": "b55e37a6",
   "metadata": {},
   "outputs": [
    {
     "name": "stdout",
     "output_type": "stream",
     "text": [
      "Número de quartos 0\n",
      "13\n",
      "\n",
      "Número de quartos 1\n",
      "199\n",
      "\n",
      "Número de quartos 2\n",
      "2760\n",
      "\n",
      "Número de quartos 3\n",
      "9824\n",
      "\n",
      "Número de quartos 4\n",
      "6882\n",
      "\n",
      "Número de quartos 5\n",
      "1601\n",
      "\n",
      "Número de quartos 6\n",
      "272\n",
      "\n",
      "Número de quartos 7\n",
      "38\n",
      "\n",
      "Número de quartos 8\n",
      "13\n",
      "\n",
      "Número de quartos 9\n",
      "6\n",
      "\n",
      "Número de quartos 10\n",
      "3\n",
      "\n",
      "Número de quartos 11\n",
      "1\n",
      "\n",
      "Número de quartos 33\n",
      "1\n",
      "\n"
     ]
    }
   ],
   "source": [
    "df_grouped = data[['id','bedrooms']].groupby('bedrooms')\n",
    "for bedrooms, frame in df_grouped:\n",
    "  print('Número de quartos {}'.format( bedrooms))\n",
    "  print(frame.shape[0], end='\\n\\n')"
   ]
  },
  {
   "cell_type": "markdown",
   "id": "0aa5bddf",
   "metadata": {},
   "source": [
    "## 3.12 Análise do crescimento médio de preço de compra de imóveis por ano, semana e dia"
   ]
  },
  {
   "cell_type": "markdown",
   "id": "0c502701",
   "metadata": {},
   "source": [
    "### Crescimento médio de preços de compras de imóveis por ano\n",
    "##### eixo X = anos , eixo Y: soma dos preços"
   ]
  },
  {
   "cell_type": "code",
   "execution_count": 31,
   "id": "99bf834a",
   "metadata": {},
   "outputs": [
    {
     "data": {
      "text/plain": [
       "<BarContainer object of 2 artists>"
      ]
     },
     "execution_count": 31,
     "metadata": {},
     "output_type": "execute_result"
    },
    {
     "data": {
      "image/png": "[encoded data removed]",
      "text/plain": [
       "<Figure size 1440x864 with 1 Axes>"
      ]
     },
     "metadata": {
      "needs_background": "light"
     },
     "output_type": "display_data"
    }
   ],
   "source": [
    "data['year'] = pd.to_datetime(data['date']).dt.year #função dt.year retorna apenas o ano\n",
    "by_year = data[['price', 'year']].groupby('year').sum().reset_index() #reset index coloca\n",
    "plt.figure( figsize=(20, 12)) #dimensionando \n",
    "plt.bar(by_year['year'], by_year['price'])"
   ]
  },
  {
   "cell_type": "markdown",
   "id": "7968d3a4",
   "metadata": {},
   "source": [
    "### Crescimento médio de preços de compras de imóveis por semana\n",
    "##### eixo X = anos , eixo Y: soma dos preços"
   ]
  },
  {
   "cell_type": "code",
   "execution_count": 33,
   "id": "8609fa75",
   "metadata": {},
   "outputs": [
    {
     "data": {
      "image/png": "[encoded data removed]",
      "text/plain": [
       "<Figure size 1440x864 with 1 Axes>"
      ]
     },
     "metadata": {
      "needs_background": "light"
     },
     "output_type": "display_data"
    }
   ],
   "source": [
    "data['year_week'] = pd.to_datetime(data['date']).dt.strftime('%Y-%W')\n",
    "by_week = data[['price', 'year_week']].groupby('year_week').mean().reset_index() #reset index coloca\n",
    "\n",
    "plt.figure( figsize=(20, 12)) #dimensionando \n",
    "plt.plot(by_week['year_week'], by_week['price'])\n",
    "plt.xticks( rotation=60);"
   ]
  },
  {
   "cell_type": "markdown",
   "id": "787d4b81",
   "metadata": {},
   "source": [
    "### Crescimento médio de preços de compras de imóveis por dia\n",
    "##### eixo X = anos , eixo Y: soma dos preços"
   ]
  },
  {
   "cell_type": "code",
   "execution_count": 32,
   "id": "91694d4f",
   "metadata": {},
   "outputs": [
    {
     "data": {
      "text/plain": [
       "[<matplotlib.lines.Line2D at 0x19110170e20>]"
      ]
     },
     "execution_count": 32,
     "metadata": {},
     "output_type": "execute_result"
    },
    {
     "data": {
      "image/png": "[encoded data removed]",
      "text/plain": [
       "<Figure size 1440x864 with 1 Axes>"
      ]
     },
     "metadata": {
      "needs_background": "light"
     },
     "output_type": "display_data"
    }
   ],
   "source": [
    "data['day'] = pd.to_datetime(data['date'])\n",
    "by_day = data[['price', 'day']].groupby('day').mean().reset_index() #reset index coloca\n",
    "\n",
    "plt.figure( figsize=(20, 12)) #dimensionando \n",
    "plt.plot(by_day['day'], by_day['price'])"
   ]
  },
  {
   "cell_type": "markdown",
   "id": "7da7917e",
   "metadata": {},
   "source": [
    "## 3.13 Média dos preços por ano de construção dos imóveis"
   ]
  },
  {
   "cell_type": "code",
   "execution_count": 36,
   "id": "dfe33e50",
   "metadata": {},
   "outputs": [
    {
     "data": {
      "text/plain": [
       "[<matplotlib.lines.Line2D at 0x19110586880>]"
      ]
     },
     "execution_count": 36,
     "metadata": {},
     "output_type": "execute_result"
    },
    {
     "data": {
      "image/png": "[encoded data removed]",
      "text/plain": [
       "<Figure size 432x288 with 1 Axes>"
      ]
     },
     "metadata": {
      "needs_background": "light"
     },
     "output_type": "display_data"
    }
   ],
   "source": [
    "group_mean = data[['price','yr_built']].groupby('yr_built').mean().reset_index()\n",
    "plt.plot(group_mean['yr_built'], group_mean['price'])"
   ]
  },
  {
   "cell_type": "markdown",
   "id": "c3769664",
   "metadata": {},
   "source": [
    "## 3.14 Média de preços por tipo de dormitórios"
   ]
  },
  {
   "cell_type": "code",
   "execution_count": 37,
   "id": "bca9cf5d",
   "metadata": {},
   "outputs": [
    {
     "data": {
      "text/plain": [
       "<BarContainer object of 4 artists>"
      ]
     },
     "execution_count": 37,
     "metadata": {},
     "output_type": "execute_result"
    },
    {
     "data": {
      "image/png": "[encoded data removed]",
      "text/plain": [
       "<Figure size 432x288 with 1 Axes>"
      ]
     },
     "metadata": {
      "needs_background": "light"
     },
     "output_type": "display_data"
    }
   ],
   "source": [
    "mean_bed = data[['dormitory_type', 'price']].groupby('dormitory_type').mean().reset_index()\n",
    "plt.bar(mean_bed['dormitory_type'], mean_bed['price'])"
   ]
  },
  {
   "cell_type": "markdown",
   "id": "1abc85a5",
   "metadata": {},
   "source": [
    "## 3.15 Evolução da média dos preços pelo ano da reforma dos imóveis a partir do ano de 1930"
   ]
  },
  {
   "cell_type": "code",
   "execution_count": 38,
   "id": "2b746486",
   "metadata": {},
   "outputs": [
    {
     "data": {
      "text/plain": [
       "[<matplotlib.lines.Line2D at 0x19110551610>]"
      ]
     },
     "execution_count": 38,
     "metadata": {},
     "output_type": "execute_result"
    },
    {
     "data": {
      "image/png": "[encoded data removed]",
      "text/plain": [
       "<Figure size 432x288 with 1 Axes>"
      ]
     },
     "metadata": {
      "needs_background": "light"
     },
     "output_type": "display_data"
    }
   ],
   "source": [
    "filtro = ['yr_renovated','price']\n",
    "mean_ref = data[(data.yr_renovated > 1929)][filtro].groupby('yr_renovated').mean().reset_index()\n",
    "plt.plot(mean_ref['yr_renovated'], mean_ref['price'])"
   ]
  },
  {
   "cell_type": "markdown",
   "id": "5df2beb7",
   "metadata": {},
   "source": [
    "## 3.16 Mapa com a localização das casas"
   ]
  },
  {
   "cell_type": "code",
   "execution_count": 64,
   "id": "3483a846",
   "metadata": {},
   "outputs": [
    {
     "data": {
      "application/vnd.plotly.v1+json": {
       "config": {
        "plotlyServerURL": "https://plot.ly"
       },
       "data": [
        {
         "customdata": [
          [
           221900
          ],
          [
           538000
          ],
          [
           180000
          ],
          [
           604000
          ],
          [
           510000
          ],
          [
           1225000
          ],
          [
           257500
          ],
          [
           291850
          ],
          [
           229500
          ],
          [
           323000
          ],
          [
           662500
          ],
          [
           468000
          ],
          [
           310000
          ],
          [
           400000
          ],
          [
           530000
          ],
          [
           650000
          ],
          [
           395000
          ],
          [
           485000
          ],
          [
           189000
          ],
          [
           230000
          ],
          [
           385000
          ],
          [
           2000000
          ],
          [
           285000
          ],
          [
           252700
          ],
          [
           329000
          ],
          [
           233000
          ],
          [
           937000
          ],
          [
           667000
          ],
          [
           438000
          ],
          [
           719000
          ],
          [
           580500
          ],
          [
           280000
          ],
          [
           687500
          ],
          [
           535000
          ],
          [
           322500
          ],
          [
           696000
          ],
          [
           550000
          ],
          [
           640000
          ],
          [
           240000
          ],
          [
           605000
          ],
          [
           625000
          ],
          [
           775000
          ],
          [
           861990
          ],
          [
           685000
          ],
          [
           309000
          ],
          [
           488000
          ],
          [
           210490
          ],
          [
           785000
          ],
          [
           450000
          ],
          [
           1350000
          ],
          [
           228000
          ],
          [
           345000
          ],
          [
           600000
          ],
          [
           585000
          ],
          [
           920000
          ],
          [
           885000
          ],
          [
           292500
          ],
          [
           301000
          ],
          [
           951000
          ],
          [
           430000
          ],
          [
           650000
          ],
          [
           289000
          ],
          [
           505000
          ],
          [
           549000
          ],
          [
           425000
          ],
          [
           317625
          ],
          [
           975000
          ],
          [
           287000
          ],
          [
           204000
          ],
          [
           1325000
          ],
          [
           1040000
          ],
          [
           325000
          ],
          [
           571000
          ],
          [
           360000
          ],
          [
           349000
          ],
          [
           832500
          ],
          [
           380000
          ],
          [
           480000
          ],
          [
           410000
          ],
          [
           720000
          ],
          [
           390000
          ],
          [
           360000
          ],
          [
           355000
          ],
          [
           356000
          ],
          [
           315000
          ],
          [
           940000
          ],
          [
           305000
          ],
          [
           461000
          ],
          [
           215000
          ],
          [
           335000
          ],
          [
           243500
          ],
          [
           1099880
          ],
          [
           153000
          ],
          [
           430000
          ],
          [
           700000
          ],
          [
           905000
          ],
          [
           247500
          ],
          [
           199000
          ],
          [
           314000
          ],
          [
           437500
          ],
          [
           850830
          ],
          [
           555000
          ],
          [
           699950
          ],
          [
           1088000
          ],
          [
           290000
          ],
          [
           375000
          ],
          [
           460000
          ],
          [
           188500
          ],
          [
           680000
          ],
          [
           470000
          ],
          [
           597750
          ],
          [
           570000
          ],
          [
           272500
          ],
          [
           329950
          ],
          [
           480000
          ],
          [
           740500
          ],
          [
           518500
          ],
          [
           205425
          ],
          [
           171800
          ],
          [
           535000
          ],
          [
           660000
          ],
          [
           391500
          ],
          [
           395000
          ],
          [
           445000
          ],
          [
           770000
          ],
          [
           1450000
          ],
          [
           445000
          ],
          [
           260000
          ],
          [
           822500
          ],
          [
           430000
          ],
          [
           212000
          ],
          [
           660500
          ],
          [
           784000
          ],
          [
           453246
          ],
          [
           675000
          ],
          [
           199000
          ],
          [
           220000
          ],
          [
           452000
          ],
          [
           382500
          ],
          [
           519950
          ],
          [
           665000
          ],
          [
           527700
          ],
          [
           205000
          ],
          [
           420000
          ],
          [
           500000
          ],
          [
           921500
          ],
          [
           890000
          ],
          [
           430000
          ],
          [
           258000
          ],
          [
           511000
          ],
          [
           532170
          ],
          [
           560000
          ],
          [
           282950
          ],
          [
           2250000
          ],
          [
           350000
          ],
          [
           215000
          ],
          [
           650000
          ],
          [
           320000
          ],
          [
           247000
          ],
          [
           320000
          ],
          [
           255000
          ],
          [
           438000
          ],
          [
           900000
          ],
          [
           441000
          ],
          [
           420000
          ],
          [
           370000
          ],
          [
           269950
          ],
          [
           807100
          ],
          [
           653000
          ],
          [
           371500
          ],
          [
           284000
          ],
          [
           272000
          ],
          [
           313000
          ],
          [
           917500
          ],
          [
           673000
          ],
          [
           425000
          ],
          [
           399950
          ],
          [
           385000
          ],
          [
           269950
          ],
          [
           330000
          ],
          [
           260000
          ],
          [
           470000
          ],
          [
           589000
          ],
          [
           163500
          ],
          [
           835000
          ],
          [
           1095000
          ],
          [
           269000
          ],
          [
           560000
          ],
          [
           615000
          ],
          [
           585188
          ],
          [
           305000
          ],
          [
           166950
          ],
          [
           799000
          ],
          [
           400000
          ],
          [
           230000
          ],
          [
           256883
          ],
          [
           423000
          ],
          [
           465000
          ],
          [
           440000
          ],
          [
           385000
          ],
          [
           210000
          ],
          [
           297000
          ],
          [
           470000
          ],
          [
           226500
          ],
          [
           274250
          ],
          [
           840000
          ],
          [
           677900
          ],
          [
           425000
          ],
          [
           180250
          ],
          [
           464000
          ],
          [
           320000
          ],
          [
           625504
          ],
          [
           592500
          ],
          [
           465000
          ],
          [
           477000
          ],
          [
           280000
          ],
          [
           1505000
          ],
          [
           445838
          ],
          [
           1072000
          ],
          [
           467000
          ],
          [
           686000
          ],
          [
           279950
          ],
          [
           527000
          ],
          [
           325000
          ],
          [
           328000
          ],
          [
           390000
          ],
          [
           479950
          ],
          [
           264950
          ],
          [
           235000
          ],
          [
           516500
          ],
          [
           655000
          ],
          [
           500000
          ],
          [
           315000
          ],
          [
           213000
          ],
          [
           475000
          ],
          [
           1025000
          ],
          [
           416000
          ],
          [
           410000
          ],
          [
           800000
          ],
          [
           472000
          ],
          [
           225000
          ],
          [
           210000
          ],
          [
           455000
          ],
          [
           225000
          ],
          [
           480000
          ],
          [
           363000
          ],
          [
           2400000
          ],
          [
           181000
          ],
          [
           250000
          ],
          [
           481000
          ],
          [
           260000
          ],
          [
           455000
          ],
          [
           415000
          ],
          [
           349500
          ],
          [
           245000
          ],
          [
           592500
          ],
          [
           385000
          ],
          [
           315000
          ],
          [
           255000
          ],
          [
           693000
          ],
          [
           780000
          ],
          [
           237000
          ],
          [
           525000
          ],
          [
           425000
          ],
          [
           369900
          ],
          [
           290000
          ],
          [
           285000
          ],
          [
           415000
          ],
          [
           272500
          ],
          [
           2900000
          ],
          [
           1365000
          ],
          [
           436000
          ],
          [
           210000
          ],
          [
           236000
          ],
          [
           331000
          ],
          [
           365000
          ],
          [
           450000
          ],
          [
           770000
          ],
          [
           455000
          ],
          [
           405000
          ],
          [
           304900
          ],
          [
           170000
          ],
          [
           2050000
          ],
          [
           780000
          ],
          [
           330000
          ],
          [
           370000
          ],
          [
           467000
          ],
          [
           405000
          ],
          [
           675000
          ],
          [
           500000
          ],
          [
           389999
          ],
          [
           630000
          ],
          [
           360000
          ],
          [
           580000
          ],
          [
           550000
          ],
          [
           879000
          ],
          [
           265000
          ],
          [
           446500
          ],
          [
           404000
          ],
          [
           267500
          ],
          [
           3075000
          ],
          [
           335000
          ],
          [
           576000
          ],
          [
           208633
          ],
          [
           315000
          ],
          [
           725000
          ],
          [
           550000
          ],
          [
           610750
          ],
          [
           550700
          ],
          [
           665000
          ],
          [
           834000
          ],
          [
           201000
          ],
          [
           2384000
          ],
          [
           1384000
          ],
          [
           1400000
          ],
          [
           305000
          ],
          [
           487000
          ],
          [
           390000
          ],
          [
           548000
          ],
          [
           268750
          ],
          [
           819900
          ],
          [
           520000
          ],
          [
           230000
          ],
          [
           240000
          ],
          [
           232000
          ],
          [
           240500
          ],
          [
           274975
          ],
          [
           740000
          ],
          [
           186375
          ],
          [
           790000
          ],
          [
           880000
          ],
          [
           279000
          ],
          [
           295000
          ],
          [
           640000
          ],
          [
           940000
          ],
          [
           260000
          ],
          [
           559900
          ],
          [
           791500
          ],
          [
           265000
          ],
          [
           245000
          ],
          [
           485000
          ],
          [
           684000
          ],
          [
           425000
          ],
          [
           309600
          ],
          [
           552250
          ],
          [
           165000
          ],
          [
           239900
          ],
          [
           320000
          ],
          [
           206600
          ],
          [
           387000
          ],
          [
           299000
          ],
          [
           855000
          ],
          [
           315000
          ],
          [
           437500
          ],
          [
           252000
          ],
          [
           375000
          ],
          [
           300000
          ],
          [
           420000
          ],
          [
           900000
          ],
          [
           679900
          ],
          [
           463000
          ],
          [
           380000
          ],
          [
           329500
          ],
          [
           604950
          ],
          [
           795000
          ],
          [
           465000
          ],
          [
           673000
          ],
          [
           810000
          ],
          [
           785000
          ],
          [
           338000
          ],
          [
           280000
          ],
          [
           315000
          ],
          [
           530000
          ],
          [
           380000
          ],
          [
           297000
          ],
          [
           730000
          ],
          [
           450000
          ],
          [
           275000
          ],
          [
           595000
          ],
          [
           435000
          ],
          [
           270000
          ],
          [
           950000
          ],
          [
           389000
          ],
          [
           560000
          ],
          [
           1350000
          ],
          [
           799000
          ],
          [
           365500
          ],
          [
           252350
          ],
          [
           403950
          ],
          [
           385000
          ],
          [
           345000
          ],
          [
           490000
          ],
          [
           330000
          ],
          [
           927000
          ],
          [
           1118000
          ],
          [
           330000
          ],
          [
           530000
          ],
          [
           365000
          ],
          [
           378750
          ],
          [
           269900
          ],
          [
           557000
          ],
          [
           360000
          ],
          [
           352000
          ],
          [
           437000
          ],
          [
           322500
          ],
          [
           650000
          ],
          [
           450000
          ],
          [
           278500
          ],
          [
           364950
          ],
          [
           840000
          ],
          [
           268000
          ],
          [
           517534
          ],
          [
           632925
          ],
          [
           577500
          ],
          [
           339000
          ],
          [
           570000
          ],
          [
           563500
          ],
          [
           423000
          ],
          [
           355000
          ],
          [
           1550000
          ],
          [
           482000
          ],
          [
           625000
          ],
          [
           538000
          ],
          [
           380000
          ],
          [
           375000
          ],
          [
           245000
          ],
          [
           310000
          ],
          [
           1300000
          ],
          [
           397000
          ],
          [
           365000
          ],
          [
           328500
          ],
          [
           988000
          ],
          [
           1000000
          ],
          [
           237000
          ],
          [
           525000
          ],
          [
           749000
          ],
          [
           722500
          ],
          [
           843000
          ],
          [
           438000
          ],
          [
           578000
          ],
          [
           227950
          ],
          [
           196000
          ],
          [
           641000
          ],
          [
           350000
          ],
          [
           205000
          ],
          [
           400000
          ],
          [
           1030000
          ],
          [
           505000
          ],
          [
           475000
          ],
          [
           520000
          ],
          [
           1450000
          ],
          [
           333500
          ],
          [
           232000
          ],
          [
           691100
          ],
          [
           811000
          ],
          [
           551000
          ],
          [
           496500
          ],
          [
           705000
          ],
          [
           578000
          ],
          [
           255000
          ],
          [
           1050000
          ],
          [
           348000
          ],
          [
           230000
          ],
          [
           359500
          ],
          [
           330000
          ],
          [
           80000
          ],
          [
           465000
          ],
          [
           325000
          ],
          [
           340500
          ],
          [
           342500
          ],
          [
           290900
          ],
          [
           868700
          ],
          [
           1199000
          ],
          [
           1150000
          ],
          [
           859900
          ],
          [
           520000
          ],
          [
           460000
          ],
          [
           438924
          ],
          [
           315000
          ],
          [
           590000
          ],
          [
           378500
          ],
          [
           328500
          ],
          [
           849950
          ],
          [
           525000
          ],
          [
           1385000
          ],
          [
           295000
          ],
          [
           1067000
          ],
          [
           207950
          ],
          [
           699900
          ],
          [
           1280000
          ],
          [
           452000
          ],
          [
           370000
          ],
          [
           232000
          ],
          [
           669950
          ],
          [
           397500
          ],
          [
           490000
          ],
          [
           725000
          ],
          [
           299000
          ],
          [
           625000
          ],
          [
           437500
          ]
         ],
         "hovertemplate": "<b>%{hovertext}</b><br><br>lat=%{lat}<br>long=%{lon}<br>price=%{customdata[0]}<extra></extra>",
         "hovertext": [
          7129300520,
          6414100192,
          5631500400,
          2487200875,
          1954400510,
          7237550310,
          1321400060,
          2008000270,
          2414600126,
          3793500160,
          1736800520,
          9212900260,
          114101516,
          6054650070,
          1175000570,
          9297300055,
          1875500060,
          6865200140,
          16000397,
          7983200060,
          6300500875,
          2524049179,
          7137970340,
          8091400200,
          3814700200,
          1202000200,
          1794500383,
          3303700376,
          5101402488,
          1873100390,
          8562750320,
          2426039314,
          461000390,
          7589200193,
          7955080270,
          9547205180,
          9435300030,
          2768000400,
          7895500070,
          2078500320,
          5547700270,
          7766200013,
          7203220400,
          9270200160,
          1432701230,
          8035350320,
          8945200830,
          4178300310,
          9215400105,
          822039084,
          5245600105,
          7231300125,
          7518505990,
          3626039271,
          4217401195,
          9822700295,
          9478500640,
          2799800710,
          7922800400,
          8079040320,
          1516000055,
          9558200045,
          5072410070,
          9528102996,
          1189001180,
          3253500160,
          3394100030,
          3717000160,
          1274500060,
          1802000060,
          1525059190,
          1049000060,
          8820901275,
          5416510140,
          3444100400,
          3276920270,
          4036801170,
          2391600320,
          6300000287,
          1531000030,
          5104520400,
          7437100340,
          9418400240,
          1523059105,
          1133000671,
          4232902595,
          2599001200,
          3342103156,
          1332700270,
          3869900162,
          2791500270,
          5036300431,
          4168000060,
          6021501535,
          6021501535,
          1483300570,
          3422049190,
          1099611230,
          722079104,
          7338200240,
          1952200240,
          5200100125,
          7214720075,
          2450000295,
          6197800045,
          1328310370,
          546000875,
          3530510041,
          1853000400,
          3134100116,
          9545230140,
          3362400511,
          2525310310,
          6126500060,
          8961960160,
          3626039325,
          3362400431,
          4060000240,
          3454800060,
          1695900060,
          7278700070,
          6675500070,
          3626039187,
          3524049083,
          3275860240,
          4389200955,
          4058801670,
          8732020310,
          2331300505,
          7853210060,
          3668000070,
          9545240070,
          1243100136,
          8929000270,
          2767602356,
          921049315,
          3655000070,
          4027700812,
          3992700335,
          2767603505,
          4232901525,
          1777500060,
          1432900240,
          6140100875,
          6071600370,
          1526069017,
          809001525,
          3224079105,
          8075400570,
          1994200024,
          3362900810,
          1324300398,
          537000445,
          7855801670,
          7920100045,
          8960000030,
          6388930390,
          8731900200,
          8029200135,
          1081200350,
          84000105,
          3756500060,
          7215720160,
          3574800520,
          2617300160,
          2558660270,
          2009000370,
          1836980160,
          3261020370,
          1755700060,
          4330600435,
          9542800700,
          1999700045,
          1762600070,
          1687900520,
          7234600798,
          3881900445,
          2254502445,
          5437810320,
          9158100075,
          3830630310,
          8123100045,
          3127200041,
          6661200320,
          11510310,
          825059270,
          8731951370,
          1954440060,
          2264500350,
          1115810060,
          9477200200,
          1432600560,
          2287000060,
          3663500060,
          3996900125,
          7796450200,
          7549802535,
          3278600320,
          2824079053,
          1222069094,
          3542300060,
          2222059065,
          7551300060,
          100600550,
          3211100860,
          3456000310,
          9526600140,
          7465900060,
          1222000055,
          6300000550,
          2310030510,
          1025049114,
          8677300550,
          4014400292,
          1102000196,
          257000138,
          46100204,
          1909600046,
          1250202145,
          7611200125,
          5611500140,
          7138000260,
          626059335,
          1922059282,
          705700390,
          7454001200,
          8682281200,
          7972000200,
          722059070,
          7202340400,
          8096000060,
          2424000060,
          9264902050,
          943100260,
          3677400445,
          1762600320,
          4058000060,
          7228500560,
          326069104,
          5152100060,
          3584000310,
          8150100045,
          1868901275,
          6131600075,
          9468200125,
          8029510030,
          2025069065,
          7899800890,
          3021059276,
          3797001895,
          3832710960,
          1310430400,
          1422300030,
          1105000588,
          3830630060,
          5101404898,
          7972601890,
          5127001620,
          9407100800,
          1873100060,
          8722101360,
          8644000060,
          3325069129,
          1400300055,
          2123039032,
          8078560140,
          3438500192,
          7974200510,
          2557000400,
          7960900060,
          4054500390,
          6378500125,
          1745100140,
          2976800796,
          4235400186,
          4215100060,
          9189700045,
          1126049053,
          2022069200,
          9412900055,
          1722059235,
          6874200960,
          7424700045,
          7202360350,
          5634500392,
          1509500060,
          7214810350,
          6647200060,
          9552700140,
          2200500350,
          6113400046,
          6619910140,
          1115450240,
          6073240060,
          9297300045,
          9510920070,
          5468730030,
          8079030390,
          600000152,
          1840000030,
          3225069065,
          3260800030,
          2747100024,
          5104530560,
          4330600350,
          5016001535,
          7280300196,
          8651520400,
          7171200445,
          3204800200,
          3416600800,
          7994700030,
          1860600135,
          4139480200,
          4139480200,
          1328320800,
          7771300125,
          3422059208,
          9521101455,
          4337000335,
          325059286,
          2597650240,
          3353400435,
          7972000240,
          7520000520,
          7520000520,
          3530210260,
          1959700550,
          1665400045,
          9542850320,
          3179100060,
          2946001550,
          8078490390,
          9550201550,
          191100045,
          5009600070,
          200350070,
          2877103726,
          405100295,
          4268200055,
          3126069068,
          1115300070,
          6414100671,
          7004200060,
          7852110140,
          3969300030,
          3969300030,
          4048400070,
          808000070,
          7374200030,
          7325600160,
          2757000030,
          616000140,
          3363900111,
          9262800171,
          6607000126,
          5416510830,
          2201500030,
          325059171,
          952003285,
          3211290370,
          1072010350,
          8856950070,
          925059078,
          7855801090,
          723099065,
          6116500075,
          1118500030,
          424069250,
          3291800710,
          6838700060,
          2231500030,
          2231500030,
          7683900200,
          8155830060,
          98020310,
          9423400140,
          1545804860,
          2883200160,
          7132300695,
          1726059053,
          624111000,
          808300310,
          8563040160,
          713500030,
          8651600160,
          9517200030,
          2460700700,
          1223039290,
          2890100060,
          7972600860,
          8857320070,
          4047200695,
          1653500070,
          1923000030,
          3649100320,
          7375300160,
          5175800060,
          1604601375,
          2473251090,
          9126100861,
          3420069065,
          6021501685,
          1151100070,
          8856950240,
          9385200055,
          7821200390,
          8078520310,
          1565950030,
          1560930070,
          6700400140,
          2422029094,
          1774220160,
          1525200060,
          1678400105,
          3426059070,
          824079032,
          2697100140,
          8724300030,
          8678500060,
          625049299,
          6073200075,
          6388900710,
          1442860160,
          7942600310,
          1545808560,
          936000060,
          9808650060,
          3754700160,
          305500140,
          5468750060,
          2944010240,
          3454000060,
          646910160,
          8564950390,
          2268400350,
          7504101040,
          11500890,
          9528102772,
          284000223,
          3353401710,
          8159610030,
          3179100435,
          822079033,
          8857600960,
          1774000200,
          2024069128,
          1049010390,
          7905370390,
          4140090240,
          4055700030,
          3775300030,
          2525300030,
          1324059104,
          2287000030,
          7702010030,
          1529200340,
          2122039094,
          1742800030,
          1796360350,
          6154500070,
          1843100340,
          8944290160,
          4166600473,
          7282300125,
          8658300340,
          2419600075,
          2621760350,
          1723049270,
          4123840310,
          2172000075,
          8651611170,
          8820902200,
          8651610890,
          1853080570,
          3629920030,
          1604602050,
          6844700810,
          66000070,
          6665800030,
          2205700350,
          5466000030,
          6189200125,
          9169600135,
          2625069070,
          8732131090,
          9286000240,
          1895000260,
          8691370400,
          5423010350,
          8562501040,
          2475200140,
          7942100310,
          3760000030,
          1727500340,
          9828702519,
          4432600075,
          7806300030,
          9274202270,
          7852030960
         ],
         "lat": [
          47.5112,
          47.721,
          47.7379,
          47.5208,
          47.6168,
          47.6561,
          47.3097,
          47.4095,
          47.5123,
          47.3684,
          47.6007,
          47.69,
          47.7558,
          47.6127,
          47.67,
          47.5714,
          47.7277,
          47.6648,
          47.3089,
          47.3343,
          47.7025,
          47.5316,
          47.3266,
          47.3533,
          47.3739,
          47.3048,
          47.6386,
          47.6221,
          47.695,
          47.7073,
          47.5391,
          47.7274,
          47.6823,
          47.6889,
          47.4276,
          47.6827,
          47.6621,
          47.6702,
          47.3341,
          47.5301,
          47.6145,
          47.445,
          47.6848,
          47.6413,
          47.4485,
          47.7443,
          47.3066,
          47.6194,
          47.6796,
          47.4041,
          47.4258,
          47.4934,
          47.6808,
          47.6989,
          47.6571,
          47.6597,
          47.3663,
          47.3663,
          47.588,
          47.5059,
          47.4336,
          47.4366,
          47.4428,
          47.6765,
          47.6113,
          47.5747,
          47.5815,
          47.3378,
          47.3621,
          47.6303,
          47.6525,
          47.7362,
          47.7168,
          47.3608,
          47.3511,
          47.5822,
          47.6034,
          47.5636,
          47.7073,
          47.342,
          47.3512,
          47.349,
          47.5474,
          47.4811,
          47.7264,
          47.6337,
          47.2909,
          47.5228,
          47.518,
          47.5394,
          47.2897,
          47.6506,
          47.322,
          47.687,
          47.687,
          47.5873,
          47.3576,
          47.3036,
          47.4109,
          47.4838,
          47.6415,
          47.6775,
          47.7731,
          47.5814,
          47.4375,
          47.4431,
          47.6878,
          47.3813,
          47.7304,
          47.6417,
          47.5386,
          47.6823,
          47.3624,
          47.5474,
          47.3183,
          47.6981,
          47.6824,
          47.5009,
          47.4965,
          47.587,
          47.7728,
          47.7288,
          47.6999,
          47.5299,
          47.6897,
          47.6141,
          47.5091,
          47.3129,
          47.6763,
          47.5319,
          47.2761,
          47.5343,
          47.697,
          47.5517,
          47.6734,
          47.3257,
          47.3309,
          47.7689,
          47.7135,
          47.6722,
          47.6338,
          47.5707,
          47.4563,
          47.7144,
          47.5495,
          47.7421,
          47.6354,
          47.5262,
          47.3887,
          47.6873,
          47.6838,
          47.655,
          47.3255,
          47.562,
          47.679,
          47.4479,
          47.525,
          47.3135,
          47.2086,
          47.4715,
          47.4877,
          47.7171,
          47.6012,
          47.7319,
          47.4582,
          47.7209,
          47.408,
          47.565,
          47.7028,
          47.7458,
          47.4776,
          47.3026,
          47.7658,
          47.6477,
          47.5619,
          47.6106,
          47.5868,
          47.6101,
          47.1976,
          47.7224,
          47.3505,
          47.5384,
          47.7044,
          47.3848,
          47.6993,
          47.6627,
          47.3099,
          47.62,
          47.65,
          47.6647,
          47.726,
          47.4616,
          47.5505,
          47.7606,
          47.7481,
          47.2779,
          47.5511,
          47.5488,
          47.5385,
          47.4058,
          47.5093,
          47.3777,
          47.675,
          47.3025,
          47.4787,
          47.5378,
          47.7073,
          47.5733,
          47.4604,
          47.7067,
          47.354,
          47.6647,
          47.6143,
          47.3185,
          47.5458,
          47.4889,
          47.5673,
          47.5133,
          47.5884,
          47.7145,
          47.5836,
          47.398,
          47.7663,
          47.3758,
          47.3828,
          47.5123,
          47.7076,
          47.2922,
          47.4075,
          47.6794,
          47.4497,
          47.5218,
          47.3103,
          47.5687,
          47.5575,
          47.6489,
          47.3459,
          47.6136,
          47.7641,
          47.3376,
          47.3173,
          47.5308,
          47.6727,
          47.3221,
          47.6779,
          47.3076,
          47.6338,
          47.5218,
          47.2785,
          47.6846,
          47.3656,
          47.4369,
          47.4616,
          47.5405,
          47.3507,
          47.6979,
          47.5278,
          47.4756,
          47.4437,
          47.7048,
          47.6362,
          47.4207,
          47.6154,
          47.5964,
          47.4683,
          47.4045,
          47.5544,
          47.6802,
          47.2988,
          47.6312,
          47.7285,
          47.7107,
          47.3271,
          47.5053,
          47.6601,
          47.4145,
          47.4672,
          47.7618,
          47.3828,
          47.5362,
          47.3954,
          47.5048,
          47.6166,
          47.6811,
          47.7486,
          47.3846,
          47.7564,
          47.7198,
          47.5461,
          47.5712,
          47.4281,
          47.7128,
          47.3341,
          47.5399,
          47.5717,
          47.5951,
          47.3536,
          47.5084,
          47.5586,
          47.4427,
          47.6053,
          47.3494,
          47.6933,
          47.3537,
          47.476,
          47.6239,
          47.7776,
          47.6459,
          47.6692,
          47.5376,
          47.601,
          47.529,
          47.6345,
          47.5503,
          47.5503,
          47.4441,
          47.7357,
          47.346,
          47.6638,
          47.48,
          47.6759,
          47.5162,
          47.2639,
          47.2929,
          47.4957,
          47.4957,
          47.7721,
          47.644,
          47.472,
          47.592,
          47.669,
          47.42,
          47.1913,
          47.6666,
          47.5639,
          47.3483,
          47.7648,
          47.6794,
          47.7535,
          47.4945,
          47.6945,
          47.5222,
          47.7222,
          47.3796,
          47.5374,
          47.4897,
          47.4897,
          47.4716,
          47.3581,
          47.7713,
          47.675,
          47.5603,
          47.4147,
          47.68,
          47.3117,
          47.543,
          47.3607,
          47.5759,
          47.6891,
          47.565,
          47.6359,
          47.4769,
          47.3845,
          47.6743,
          47.5651,
          47.4853,
          47.4508,
          47.6375,
          47.5944,
          47.4888,
          47.5112,
          47.7711,
          47.7711,
          47.2813,
          47.5038,
          47.5823,
          47.7164,
          47.3624,
          47.6831,
          47.592,
          47.7461,
          47.7268,
          47.7237,
          47.6283,
          47.5543,
          47.5483,
          47.7591,
          47.4612,
          47.4987,
          47.772,
          47.5287,
          47.6109,
          47.7736,
          47.6294,
          47.5634,
          47.7405,
          47.5976,
          47.5722,
          47.5644,
          47.4556,
          47.6055,
          47.1775,
          47.6879,
          47.4807,
          47.3845,
          47.5815,
          47.6609,
          47.3163,
          47.4309,
          47.401,
          47.404,
          47.3889,
          47.7718,
          47.7067,
          47.504,
          47.7015,
          47.5753,
          47.7448,
          47.7318,
          47.5954,
          47.6885,
          47.5724,
          47.5272,
          47.4334,
          47.6073,
          47.3592,
          47.4546,
          47.6408,
          47.7245,
          47.4362,
          47.3739,
          47.7205,
          47.6636,
          47.4324,
          47.7734,
          47.559,
          47.633,
          47.6954,
          47.6776,
          47.504,
          47.2613,
          47.3417,
          47.6694,
          47.4056,
          47.3838,
          47.7487,
          47.5534,
          47.7355,
          47.7206,
          47.7691,
          47.7183,
          47.7736,
          47.362,
          47.5698,
          47.5505,
          47.7605,
          47.7356,
          47.3844,
          47.4904,
          47.3663,
          47.5637,
          47.3759,
          47.3912,
          47.3305,
          47.7617,
          47.6499,
          47.7311,
          47.3701,
          47.4857,
          47.3724,
          47.4855,
          47.6336,
          47.717,
          47.6332,
          47.5906,
          47.5461,
          47.5674,
          47.6943,
          47.5486,
          47.6658,
          47.5772,
          47.3875,
          47.6344,
          47.5275,
          47.6179,
          47.3078,
          47.5521,
          47.5158,
          47.5985,
          47.5645,
          47.6734,
          47.4734,
          47.3811,
          47.7081,
          47.7193,
          47.6192,
          47.5836,
          47.3841,
          47.5872,
          47.5322
         ],
         "legendgroup": "",
         "lon": [
          -122.257,
          -122.319,
          -122.233,
          -122.393,
          -122.045,
          -122.005,
          -122.327,
          -122.315,
          -122.337,
          -122.031,
          -122.145,
          -122.292,
          -122.229,
          -122.045,
          -122.394,
          -122.375,
          -121.962,
          -122.343,
          -122.21,
          -122.306,
          -122.341,
          -122.233,
          -122.169,
          -122.166,
          -122.172,
          -122.218,
          -122.36,
          -122.314,
          -122.304,
          -122.11,
          -122.07,
          -122.357,
          -122.368,
          -122.375,
          -122.157,
          -122.31,
          -122.132,
          -122.362,
          -122.282,
          -122.18,
          -122.027,
          -122.347,
          -122.016,
          -122.364,
          -122.175,
          -121.977,
          -122.371,
          -122.151,
          -122.301,
          -122.451,
          -122.322,
          -122.189,
          -122.384,
          -122.369,
          -122.281,
          -122.29,
          -122.114,
          -122.122,
          -122.116,
          -122.149,
          -122.339,
          -122.335,
          -122.344,
          -122.32,
          -122.297,
          -122.304,
          -122.192,
          -122.257,
          -122.11,
          -122.215,
          -122.16,
          -122.179,
          -122.287,
          -122.036,
          -122.073,
          -121.987,
          -122.125,
          -122.394,
          -122.34,
          -122.025,
          -122.008,
          -122.031,
          -122.291,
          -122.149,
          -122.31,
          -122.365,
          -122.189,
          -122.199,
          -122.194,
          -122.387,
          -122.372,
          -122.391,
          -122.351,
          -122.386,
          -122.386,
          -122.249,
          -122.277,
          -122.378,
          -121.958,
          -121.714,
          -122.315,
          -122.372,
          -122.08,
          -122.196,
          -122.184,
          -122.133,
          -122.38,
          -122.322,
          -122.082,
          -122.109,
          -122.053,
          -122.349,
          -122.031,
          -122.295,
          -122.253,
          -122.368,
          -122.347,
          -122.248,
          -122.303,
          -122.294,
          -122.386,
          -122.226,
          -122.364,
          -122.266,
          -122.098,
          -122.212,
          -122.244,
          -122.39,
          -122.352,
          -121.85,
          -122.152,
          -122.054,
          -122.072,
          -121.998,
          -122.38,
          -122.296,
          -122.299,
          -122.266,
          -122.287,
          -122.381,
          -122.358,
          -122.128,
          -122.171,
          -122.351,
          -122.174,
          -122.026,
          -122.353,
          -121.943,
          -122.286,
          -122.336,
          -122.353,
          -122.359,
          -122.304,
          -122.162,
          -122.3,
          -122.176,
          -122.172,
          -122.369,
          -121.996,
          -122.118,
          -122.335,
          -122.193,
          -122.023,
          -122.224,
          -122.023,
          -122.168,
          -122.327,
          -122.125,
          -122.231,
          -122.331,
          -122.337,
          -122.374,
          -122.339,
          -122.182,
          -122.125,
          -122.31,
          -122.308,
          -122.307,
          -121.999,
          -122.358,
          -122.179,
          -122.376,
          -122.2,
          -122.039,
          -122.102,
          -122.188,
          -122.379,
          -122.043,
          -122.34,
          -122.153,
          -122.191,
          -122.184,
          -122.219,
          -122.336,
          -122.3,
          -122.347,
          -122.312,
          -122.372,
          -121.911,
          -121.994,
          -122.184,
          -122.165,
          -122.394,
          -122.37,
          -122.158,
          -122.219,
          -122.114,
          -122.381,
          -122.339,
          -122.343,
          -122.047,
          -122.284,
          -122.017,
          -122.275,
          -122.268,
          -122.299,
          -122.21,
          -122.379,
          -122.291,
          -122.367,
          -122.026,
          -122.299,
          -122.215,
          -122.217,
          -122.023,
          -122.373,
          -122.013,
          -122.371,
          -122.214,
          -122.034,
          -122.375,
          -122.164,
          -122.339,
          -121.899,
          -122.303,
          -122.183,
          -121.95,
          -122.303,
          -122.023,
          -122.324,
          -122.319,
          -122.376,
          -122.299,
          -122.216,
          -122.353,
          -122.395,
          -122.072,
          -122.357,
          -122.213,
          -122.345,
          -122.278,
          -122.111,
          -121.711,
          -122.27,
          -122.178,
          -122.32,
          -122.345,
          -122.147,
          -121.772,
          -122.109,
          -122.302,
          -122.29,
          -122.047,
          -122.299,
          -122.438,
          -122.171,
          -122.358,
          -122.29,
          -122.371,
          -122.223,
          -122.042,
          -122.352,
          -122.323,
          -122.255,
          -122.4,
          -122.166,
          -122.165,
          -122.261,
          -122.071,
          -122.268,
          -122.206,
          -122.272,
          -122.287,
          -122.025,
          -122.23,
          -122.169,
          -122.144,
          -122.193,
          -122.151,
          -122.143,
          -122.343,
          -122.223,
          -122.255,
          -122.181,
          -122.375,
          -122.017,
          -122.144,
          -122.154,
          -122.311,
          -122.274,
          -122.077,
          -122.301,
          -122.393,
          -122,
          -122.337,
          -122.298,
          -122.384,
          -122.058,
          -122.297,
          -122.18,
          -122.294,
          -121.837,
          -122.367,
          -122.102,
          -122.102,
          -122.125,
          -122.333,
          -122.157,
          -122.345,
          -122.336,
          -122.151,
          -122.057,
          -122.252,
          -122.371,
          -122.352,
          -122.352,
          -122.093,
          -122.319,
          -122.344,
          -122.166,
          -122.275,
          -122.323,
          -122.012,
          -122.331,
          -122.217,
          -122.052,
          -122.164,
          -122.357,
          -122.354,
          -122.22,
          -122.093,
          -122.157,
          -122.32,
          -122.49,
          -121.875,
          -122.24,
          -122.24,
          -122.078,
          -122.173,
          -122.307,
          -121.854,
          -122.222,
          -122.337,
          -122.353,
          -122.27,
          -122.28,
          -122.034,
          -122.137,
          -122.159,
          -122.381,
          -121.974,
          -122.141,
          -122.029,
          -122.184,
          -122.164,
          -121.709,
          -122.359,
          -122.016,
          -122.042,
          -122.182,
          -122.19,
          -122.341,
          -122.341,
          -122.345,
          -122.189,
          -121.97,
          -122.304,
          -122.045,
          -122.329,
          -122.307,
          -122.195,
          -122.06,
          -121.959,
          -122.095,
          -122.148,
          -122.226,
          -122.146,
          -122.169,
          -122.365,
          -122.358,
          -122.35,
          -122.114,
          -121.901,
          -122.218,
          -122.213,
          -122.241,
          -122.118,
          -122.129,
          -122.289,
          -122.157,
          -122.305,
          -122.022,
          -122.385,
          -121.779,
          -122.032,
          -122.402,
          -122.344,
          -122.188,
          -122.191,
          -122.026,
          -122.191,
          -122.482,
          -122.095,
          -122.2,
          -122.227,
          -122.164,
          -121.95,
          -122.333,
          -121.982,
          -121.95,
          -122.337,
          -122.179,
          -122.169,
          -122.161,
          -122.308,
          -122.046,
          -122.337,
          -122.219,
          -122.2,
          -122.178,
          -122.156,
          -122.127,
          -122.33,
          -122.197,
          -122.224,
          -122.164,
          -122.041,
          -122.103,
          -122.318,
          -122.382,
          -122.255,
          -122.271,
          -122.275,
          -121.955,
          -122.289,
          -122.082,
          -122.078,
          -122.18,
          -122.211,
          -122.262,
          -122.258,
          -122.214,
          -122.029,
          -122.121,
          -122.221,
          -122.234,
          -122.157,
          -122.438,
          -122.226,
          -122.089,
          -122.123,
          -122.125,
          -122.167,
          -122.371,
          -122.357,
          -121.909,
          -122.353,
          -122.107,
          -122.318,
          -122.042,
          -122.266,
          -122.064,
          -122.281,
          -122.066,
          -122.062,
          -121.998,
          -122.29,
          -122.29,
          -122.38,
          -122.188,
          -122.153,
          -122.161,
          -122.174,
          -122.391,
          -122.005,
          -122.378,
          -122.137,
          -122.264,
          -121.977,
          -122.082,
          -122.154,
          -122.186,
          -122.087,
          -122.215,
          -122.216,
          -122.301,
          -122.387,
          -122.284,
          -122.39,
          -121.88
         ],
         "marker": {
          "color": "green"
         },
         "mode": "markers",
         "name": "",
         "showlegend": false,
         "subplot": "mapbox",
         "type": "scattermapbox"
        }
       ],
       "layout": {
        "height": 600,
        "legend": {
         "tracegroupgap": 0
        },
        "mapbox": {
         "center": {
          "lat": 47.5506946,
          "lon": -122.212282
         },
         "domain": {
          "x": [
           0,
           1
          ],
          "y": [
           0,
           1
          ]
         },
         "style": "open-street-map",
         "zoom": 8
        },
        "margin": {
         "b": 0,
         "l": 0,
         "r": 0,
         "t": 0
        },
        "template": {
         "data": {
          "bar": [
           {
            "error_x": {
             "color": "#2a3f5f"
            },
            "error_y": {
             "color": "#2a3f5f"
            },
            "marker": {
             "line": {
              "color": "#E5ECF6",
              "width": 0.5
             }
            },
            "type": "bar"
           }
          ],
          "barpolar": [
           {
            "marker": {
             "line": {
              "color": "#E5ECF6",
              "width": 0.5
             }
            },
            "type": "barpolar"
           }
          ],
          "carpet": [
           {
            "aaxis": {
             "endlinecolor": "#2a3f5f",
             "gridcolor": "white",
             "linecolor": "white",
             "minorgridcolor": "white",
             "startlinecolor": "#2a3f5f"
            },
            "baxis": {
             "endlinecolor": "#2a3f5f",
             "gridcolor": "white",
             "linecolor": "white",
             "minorgridcolor": "white",
             "startlinecolor": "#2a3f5f"
            },
            "type": "carpet"
           }
          ],
          "choropleth": [
           {
            "colorbar": {
             "outlinewidth": 0,
             "ticks": ""
            },
            "type": "choropleth"
           }
          ],
          "contour": [
           {
            "colorbar": {
             "outlinewidth": 0,
             "ticks": ""
            },
            "colorscale": [
             [
              0,
              "#0d0887"
             ],
             [
              0.1111111111111111,
              "#46039f"
             ],
             [
              0.2222222222222222,
              "#7201a8"
             ],
             [
              0.3333333333333333,
              "#9c179e"
             ],
             [
              0.4444444444444444,
              "#bd3786"
             ],
             [
              0.5555555555555556,
              "#d8576b"
             ],
             [
              0.6666666666666666,
              "#ed7953"
             ],
             [
              0.7777777777777778,
              "#fb9f3a"
             ],
             [
              0.8888888888888888,
              "#fdca26"
             ],
             [
              1,
              "#f0f921"
             ]
            ],
            "type": "contour"
           }
          ],
          "contourcarpet": [
           {
            "colorbar": {
             "outlinewidth": 0,
             "ticks": ""
            },
            "type": "contourcarpet"
           }
          ],
          "heatmap": [
           {
            "colorbar": {
             "outlinewidth": 0,
             "ticks": ""
            },
            "colorscale": [
             [
              0,
              "#0d0887"
             ],
             [
              0.1111111111111111,
              "#46039f"
             ],
             [
              0.2222222222222222,
              "#7201a8"
             ],
             [
              0.3333333333333333,
              "#9c179e"
             ],
             [
              0.4444444444444444,
              "#bd3786"
             ],
             [
              0.5555555555555556,
              "#d8576b"
             ],
             [
              0.6666666666666666,
              "#ed7953"
             ],
             [
              0.7777777777777778,
              "#fb9f3a"
             ],
             [
              0.8888888888888888,
              "#fdca26"
             ],
             [
              1,
              "#f0f921"
             ]
            ],
            "type": "heatmap"
           }
          ],
          "heatmapgl": [
           {
            "colorbar": {
             "outlinewidth": 0,
             "ticks": ""
            },
            "colorscale": [
             [
              0,
              "#0d0887"
             ],
             [
              0.1111111111111111,
              "#46039f"
             ],
             [
              0.2222222222222222,
              "#7201a8"
             ],
             [
              0.3333333333333333,
              "#9c179e"
             ],
             [
              0.4444444444444444,
              "#bd3786"
             ],
             [
              0.5555555555555556,
              "#d8576b"
             ],
             [
              0.6666666666666666,
              "#ed7953"
             ],
             [
              0.7777777777777778,
              "#fb9f3a"
             ],
             [
              0.8888888888888888,
              "#fdca26"
             ],
             [
              1,
              "#f0f921"
             ]
            ],
            "type": "heatmapgl"
           }
          ],
          "histogram": [
           {
            "marker": {
             "colorbar": {
              "outlinewidth": 0,
              "ticks": ""
             }
            },
            "type": "histogram"
           }
          ],
          "histogram2d": [
           {
            "colorbar": {
             "outlinewidth": 0,
             "ticks": ""
            },
            "colorscale": [
             [
              0,
              "#0d0887"
             ],
             [
              0.1111111111111111,
              "#46039f"
             ],
             [
              0.2222222222222222,
              "#7201a8"
             ],
             [
              0.3333333333333333,
              "#9c179e"
             ],
             [
              0.4444444444444444,
              "#bd3786"
             ],
             [
              0.5555555555555556,
              "#d8576b"
             ],
             [
              0.6666666666666666,
              "#ed7953"
             ],
             [
              0.7777777777777778,
              "#fb9f3a"
             ],
             [
              0.8888888888888888,
              "#fdca26"
             ],
             [
              1,
              "#f0f921"
             ]
            ],
            "type": "histogram2d"
           }
          ],
          "histogram2dcontour": [
           {
            "colorbar": {
             "outlinewidth": 0,
             "ticks": ""
            },
            "colorscale": [
             [
              0,
              "#0d0887"
             ],
             [
              0.1111111111111111,
              "#46039f"
             ],
             [
              0.2222222222222222,
              "#7201a8"
             ],
             [
              0.3333333333333333,
              "#9c179e"
             ],
             [
              0.4444444444444444,
              "#bd3786"
             ],
             [
              0.5555555555555556,
              "#d8576b"
             ],
             [
              0.6666666666666666,
              "#ed7953"
             ],
             [
              0.7777777777777778,
              "#fb9f3a"
             ],
             [
              0.8888888888888888,
              "#fdca26"
             ],
             [
              1,
              "#f0f921"
             ]
            ],
            "type": "histogram2dcontour"
           }
          ],
          "mesh3d": [
           {
            "colorbar": {
             "outlinewidth": 0,
             "ticks": ""
            },
            "type": "mesh3d"
           }
          ],
          "parcoords": [
           {
            "line": {
             "colorbar": {
              "outlinewidth": 0,
              "ticks": ""
             }
            },
            "type": "parcoords"
           }
          ],
          "pie": [
           {
            "automargin": true,
            "type": "pie"
           }
          ],
          "scatter": [
           {
            "marker": {
             "colorbar": {
              "outlinewidth": 0,
              "ticks": ""
             }
            },
            "type": "scatter"
           }
          ],
          "scatter3d": [
           {
            "line": {
             "colorbar": {
              "outlinewidth": 0,
              "ticks": ""
             }
            },
            "marker": {
             "colorbar": {
              "outlinewidth": 0,
              "ticks": ""
             }
            },
            "type": "scatter3d"
           }
          ],
          "scattercarpet": [
           {
            "marker": {
             "colorbar": {
              "outlinewidth": 0,
              "ticks": ""
             }
            },
            "type": "scattercarpet"
           }
          ],
          "scattergeo": [
           {
            "marker": {
             "colorbar": {
              "outlinewidth": 0,
              "ticks": ""
             }
            },
            "type": "scattergeo"
           }
          ],
          "scattergl": [
           {
            "marker": {
             "colorbar": {
              "outlinewidth": 0,
              "ticks": ""
             }
            },
            "type": "scattergl"
           }
          ],
          "scattermapbox": [
           {
            "marker": {
             "colorbar": {
              "outlinewidth": 0,
              "ticks": ""
             }
            },
            "type": "scattermapbox"
           }
          ],
          "scatterpolar": [
           {
            "marker": {
             "colorbar": {
              "outlinewidth": 0,
              "ticks": ""
             }
            },
            "type": "scatterpolar"
           }
          ],
          "scatterpolargl": [
           {
            "marker": {
             "colorbar": {
              "outlinewidth": 0,
              "ticks": ""
             }
            },
            "type": "scatterpolargl"
           }
          ],
          "scatterternary": [
           {
            "marker": {
             "colorbar": {
              "outlinewidth": 0,
              "ticks": ""
             }
            },
            "type": "scatterternary"
           }
          ],
          "surface": [
           {
            "colorbar": {
             "outlinewidth": 0,
             "ticks": ""
            },
            "colorscale": [
             [
              0,
              "#0d0887"
             ],
             [
              0.1111111111111111,
              "#46039f"
             ],
             [
              0.2222222222222222,
              "#7201a8"
             ],
             [
              0.3333333333333333,
              "#9c179e"
             ],
             [
              0.4444444444444444,
              "#bd3786"
             ],
             [
              0.5555555555555556,
              "#d8576b"
             ],
             [
              0.6666666666666666,
              "#ed7953"
             ],
             [
              0.7777777777777778,
              "#fb9f3a"
             ],
             [
              0.8888888888888888,
              "#fdca26"
             ],
             [
              1,
              "#f0f921"
             ]
            ],
            "type": "surface"
           }
          ],
          "table": [
           {
            "cells": {
             "fill": {
              "color": "#EBF0F8"
             },
             "line": {
              "color": "white"
             }
            },
            "header": {
             "fill": {
              "color": "#C8D4E3"
             },
             "line": {
              "color": "white"
             }
            },
            "type": "table"
           }
          ]
         },
         "layout": {
          "annotationdefaults": {
           "arrowcolor": "#2a3f5f",
           "arrowhead": 0,
           "arrowwidth": 1
          },
          "autotypenumbers": "strict",
          "coloraxis": {
           "colorbar": {
            "outlinewidth": 0,
            "ticks": ""
           }
          },
          "colorscale": {
           "diverging": [
            [
             0,
             "#8e0152"
            ],
            [
             0.1,
             "#c51b7d"
            ],
            [
             0.2,
             "#de77ae"
            ],
            [
             0.3,
             "#f1b6da"
            ],
            [
             0.4,
             "#fde0ef"
            ],
            [
             0.5,
             "#f7f7f7"
            ],
            [
             0.6,
             "#e6f5d0"
            ],
            [
             0.7,
             "#b8e186"
            ],
            [
             0.8,
             "#7fbc41"
            ],
            [
             0.9,
             "#4d9221"
            ],
            [
             1,
             "#276419"
            ]
           ],
           "sequential": [
            [
             0,
             "#0d0887"
            ],
            [
             0.1111111111111111,
             "#46039f"
            ],
            [
             0.2222222222222222,
             "#7201a8"
            ],
            [
             0.3333333333333333,
             "#9c179e"
            ],
            [
             0.4444444444444444,
             "#bd3786"
            ],
            [
             0.5555555555555556,
             "#d8576b"
            ],
            [
             0.6666666666666666,
             "#ed7953"
            ],
            [
             0.7777777777777778,
             "#fb9f3a"
            ],
            [
             0.8888888888888888,
             "#fdca26"
            ],
            [
             1,
             "#f0f921"
            ]
           ],
           "sequentialminus": [
            [
             0,
             "#0d0887"
            ],
            [
             0.1111111111111111,
             "#46039f"
            ],
            [
             0.2222222222222222,
             "#7201a8"
            ],
            [
             0.3333333333333333,
             "#9c179e"
            ],
            [
             0.4444444444444444,
             "#bd3786"
            ],
            [
             0.5555555555555556,
             "#d8576b"
            ],
            [
             0.6666666666666666,
             "#ed7953"
            ],
            [
             0.7777777777777778,
             "#fb9f3a"
            ],
            [
             0.8888888888888888,
             "#fdca26"
            ],
            [
             1,
             "#f0f921"
            ]
           ]
          },
          "colorway": [
           "#636efa",
           "#EF553B",
           "#00cc96",
           "#ab63fa",
           "#FFA15A",
           "#19d3f3",
           "#FF6692",
           "#B6E880",
           "#FF97FF",
           "#FECB52"
          ],
          "font": {
           "color": "#2a3f5f"
          },
          "geo": {
           "bgcolor": "white",
           "lakecolor": "white",
           "landcolor": "#E5ECF6",
           "showlakes": true,
           "showland": true,
           "subunitcolor": "white"
          },
          "hoverlabel": {
           "align": "left"
          },
          "hovermode": "closest",
          "mapbox": {
           "style": "light"
          },
          "paper_bgcolor": "white",
          "plot_bgcolor": "#E5ECF6",
          "polar": {
           "angularaxis": {
            "gridcolor": "white",
            "linecolor": "white",
            "ticks": ""
           },
           "bgcolor": "#E5ECF6",
           "radialaxis": {
            "gridcolor": "white",
            "linecolor": "white",
            "ticks": ""
           }
          },
          "scene": {
           "xaxis": {
            "backgroundcolor": "#E5ECF6",
            "gridcolor": "white",
            "gridwidth": 2,
            "linecolor": "white",
            "showbackground": true,
            "ticks": "",
            "zerolinecolor": "white"
           },
           "yaxis": {
            "backgroundcolor": "#E5ECF6",
            "gridcolor": "white",
            "gridwidth": 2,
            "linecolor": "white",
            "showbackground": true,
            "ticks": "",
            "zerolinecolor": "white"
           },
           "zaxis": {
            "backgroundcolor": "#E5ECF6",
            "gridcolor": "white",
            "gridwidth": 2,
            "linecolor": "white",
            "showbackground": true,
            "ticks": "",
            "zerolinecolor": "white"
           }
          },
          "shapedefaults": {
           "line": {
            "color": "#2a3f5f"
           }
          },
          "ternary": {
           "aaxis": {
            "gridcolor": "white",
            "linecolor": "white",
            "ticks": ""
           },
           "baxis": {
            "gridcolor": "white",
            "linecolor": "white",
            "ticks": ""
           },
           "bgcolor": "#E5ECF6",
           "caxis": {
            "gridcolor": "white",
            "linecolor": "white",
            "ticks": ""
           }
          },
          "title": {
           "x": 0.05
          },
          "xaxis": {
           "automargin": true,
           "gridcolor": "white",
           "linecolor": "white",
           "ticks": "",
           "title": {
            "standoff": 15
           },
           "zerolinecolor": "white",
           "zerolinewidth": 2
          },
          "yaxis": {
           "automargin": true,
           "gridcolor": "white",
           "linecolor": "white",
           "ticks": "",
           "title": {
            "standoff": 15
           },
           "zerolinecolor": "white",
           "zerolinewidth": 2
          }
         }
        }
       }
      },
      "text/html": [
       "<div>                            <div id=\"8370c197-0963-486e-b375-b5cc3fdfcda8\" class=\"plotly-graph-div\" style=\"height:600px; width:100%;\"></div>            <script type=\"text/javascript\">                require([\"plotly\"], function(Plotly) {                    window.PLOTLYENV=window.PLOTLYENV || {};                                    if (document.getElementById(\"8370c197-0963-486e-b375-b5cc3fdfcda8\")) {                    Plotly.newPlot(                        \"8370c197-0963-486e-b375-b5cc3fdfcda8\",                        [{\"customdata\": [[221900.0], [538000.0], [180000.0], [604000.0], [510000.0], [1225000.0], [257500.0], [291850.0], [229500.0], [323000.0], [662500.0], [468000.0], [310000.0], [400000.0], [530000.0], [650000.0], [395000.0], [485000.0], [189000.0], [230000.0], [385000.0], [2000000.0], [285000.0], [252700.0], [329000.0], [233000.0], [937000.0], [667000.0], [438000.0], [719000.0], [580500.0], [280000.0], [687500.0], [535000.0], [322500.0], [696000.0], [550000.0], [640000.0], [240000.0], [605000.0], [625000.0], [775000.0], [861990.0], [685000.0], [309000.0], [488000.0], [210490.0], [785000.0], [450000.0], [1350000.0], [228000.0], [345000.0], [600000.0], [585000.0], [920000.0], [885000.0], [292500.0], [301000.0], [951000.0], [430000.0], [650000.0], [289000.0], [505000.0], [549000.0], [425000.0], [317625.0], [975000.0], [287000.0], [204000.0], [1325000.0], [1040000.0], [325000.0], [571000.0], [360000.0], [349000.0], [832500.0], [380000.0], [480000.0], [410000.0], [720000.0], [390000.0], [360000.0], [355000.0], [356000.0], [315000.0], [940000.0], [305000.0], [461000.0], [215000.0], [335000.0], [243500.0], [1099880.0], [153000.0], [430000.0], [700000.0], [905000.0], [247500.0], [199000.0], [314000.0], [437500.0], [850830.0], [555000.0], [699950.0], [1088000.0], [290000.0], [375000.0], [460000.0], [188500.0], [680000.0], [470000.0], [597750.0], [570000.0], [272500.0], [329950.0], [480000.0], [740500.0], [518500.0], [205425.0], [171800.0], [535000.0], [660000.0], [391500.0], [395000.0], [445000.0], [770000.0], [1450000.0], [445000.0], [260000.0], [822500.0], [430000.0], [212000.0], [660500.0], [784000.0], [453246.0], [675000.0], [199000.0], [220000.0], [452000.0], [382500.0], [519950.0], [665000.0], [527700.0], [205000.0], [420000.0], [500000.0], [921500.0], [890000.0], [430000.0], [258000.0], [511000.0], [532170.0], [560000.0], [282950.0], [2250000.0], [350000.0], [215000.0], [650000.0], [320000.0], [247000.0], [320000.0], [255000.0], [438000.0], [900000.0], [441000.0], [420000.0], [370000.0], [269950.0], [807100.0], [653000.0], [371500.0], [284000.0], [272000.0], [313000.0], [917500.0], [673000.0], [425000.0], [399950.0], [385000.0], [269950.0], [330000.0], [260000.0], [470000.0], [589000.0], [163500.0], [835000.0], [1095000.0], [269000.0], [560000.0], [615000.0], [585188.0], [305000.0], [166950.0], [799000.0], [400000.0], [230000.0], [256883.0], [423000.0], [465000.0], [440000.0], [385000.0], [210000.0], [297000.0], [470000.0], [226500.0], [274250.0], [840000.0], [677900.0], [425000.0], [180250.0], [464000.0], [320000.0], [625504.0], [592500.0], [465000.0], [477000.0], [280000.0], [1505000.0], [445838.0], [1072000.0], [467000.0], [686000.0], [279950.0], [527000.0], [325000.0], [328000.0], [390000.0], [479950.0], [264950.0], [235000.0], [516500.0], [655000.0], [500000.0], [315000.0], [213000.0], [475000.0], [1025000.0], [416000.0], [410000.0], [800000.0], [472000.0], [225000.0], [210000.0], [455000.0], [225000.0], [480000.0], [363000.0], [2400000.0], [181000.0], [250000.0], [481000.0], [260000.0], [455000.0], [415000.0], [349500.0], [245000.0], [592500.0], [385000.0], [315000.0], [255000.0], [693000.0], [780000.0], [237000.0], [525000.0], [425000.0], [369900.0], [290000.0], [285000.0], [415000.0], [272500.0], [2900000.0], [1365000.0], [436000.0], [210000.0], [236000.0], [331000.0], [365000.0], [450000.0], [770000.0], [455000.0], [405000.0], [304900.0], [170000.0], [2050000.0], [780000.0], [330000.0], [370000.0], [467000.0], [405000.0], [675000.0], [500000.0], [389999.0], [630000.0], [360000.0], [580000.0], [550000.0], [879000.0], [265000.0], [446500.0], [404000.0], [267500.0], [3075000.0], [335000.0], [576000.0], [208633.0], [315000.0], [725000.0], [550000.0], [610750.0], [550700.0], [665000.0], [834000.0], [201000.0], [2384000.0], [1384000.0], [1400000.0], [305000.0], [487000.0], [390000.0], [548000.0], [268750.0], [819900.0], [520000.0], [230000.0], [240000.0], [232000.0], [240500.0], [274975.0], [740000.0], [186375.0], [790000.0], [880000.0], [279000.0], [295000.0], [640000.0], [940000.0], [260000.0], [559900.0], [791500.0], [265000.0], [245000.0], [485000.0], [684000.0], [425000.0], [309600.0], [552250.0], [165000.0], [239900.0], [320000.0], [206600.0], [387000.0], [299000.0], [855000.0], [315000.0], [437500.0], [252000.0], [375000.0], [300000.0], [420000.0], [900000.0], [679900.0], [463000.0], [380000.0], [329500.0], [604950.0], [795000.0], [465000.0], [673000.0], [810000.0], [785000.0], [338000.0], [280000.0], [315000.0], [530000.0], [380000.0], [297000.0], [730000.0], [450000.0], [275000.0], [595000.0], [435000.0], [270000.0], [950000.0], [389000.0], [560000.0], [1350000.0], [799000.0], [365500.0], [252350.0], [403950.0], [385000.0], [345000.0], [490000.0], [330000.0], [927000.0], [1118000.0], [330000.0], [530000.0], [365000.0], [378750.0], [269900.0], [557000.0], [360000.0], [352000.0], [437000.0], [322500.0], [650000.0], [450000.0], [278500.0], [364950.0], [840000.0], [268000.0], [517534.0], [632925.0], [577500.0], [339000.0], [570000.0], [563500.0], [423000.0], [355000.0], [1550000.0], [482000.0], [625000.0], [538000.0], [380000.0], [375000.0], [245000.0], [310000.0], [1300000.0], [397000.0], [365000.0], [328500.0], [988000.0], [1000000.0], [237000.0], [525000.0], [749000.0], [722500.0], [843000.0], [438000.0], [578000.0], [227950.0], [196000.0], [641000.0], [350000.0], [205000.0], [400000.0], [1030000.0], [505000.0], [475000.0], [520000.0], [1450000.0], [333500.0], [232000.0], [691100.0], [811000.0], [551000.0], [496500.0], [705000.0], [578000.0], [255000.0], [1050000.0], [348000.0], [230000.0], [359500.0], [330000.0], [80000.0], [465000.0], [325000.0], [340500.0], [342500.0], [290900.0], [868700.0], [1199000.0], [1150000.0], [859900.0], [520000.0], [460000.0], [438924.0], [315000.0], [590000.0], [378500.0], [328500.0], [849950.0], [525000.0], [1385000.0], [295000.0], [1067000.0], [207950.0], [699900.0], [1280000.0], [452000.0], [370000.0], [232000.0], [669950.0], [397500.0], [490000.0], [725000.0], [299000.0], [625000.0], [437500.0]], \"hovertemplate\": \"<b>%{hovertext}</b><br><br>lat=%{lat}<br>long=%{lon}<br>price=%{customdata[0]}<extra></extra>\", \"hovertext\": [7129300520.0, 6414100192.0, 5631500400.0, 2487200875.0, 1954400510.0, 7237550310.0, 1321400060.0, 2008000270.0, 2414600126.0, 3793500160.0, 1736800520.0, 9212900260.0, 114101516.0, 6054650070.0, 1175000570.0, 9297300055.0, 1875500060.0, 6865200140.0, 16000397.0, 7983200060.0, 6300500875.0, 2524049179.0, 7137970340.0, 8091400200.0, 3814700200.0, 1202000200.0, 1794500383.0, 3303700376.0, 5101402488.0, 1873100390.0, 8562750320.0, 2426039314.0, 461000390.0, 7589200193.0, 7955080270.0, 9547205180.0, 9435300030.0, 2768000400.0, 7895500070.0, 2078500320.0, 5547700270.0, 7766200013.0, 7203220400.0, 9270200160.0, 1432701230.0, 8035350320.0, 8945200830.0, 4178300310.0, 9215400105.0, 822039084.0, 5245600105.0, 7231300125.0, 7518505990.0, 3626039271.0, 4217401195.0, 9822700295.0, 9478500640.0, 2799800710.0, 7922800400.0, 8079040320.0, 1516000055.0, 9558200045.0, 5072410070.0, 9528102996.0, 1189001180.0, 3253500160.0, 3394100030.0, 3717000160.0, 1274500060.0, 1802000060.0, 1525059190.0, 1049000060.0, 8820901275.0, 5416510140.0, 3444100400.0, 3276920270.0, 4036801170.0, 2391600320.0, 6300000287.0, 1531000030.0, 5104520400.0, 7437100340.0, 9418400240.0, 1523059105.0, 1133000671.0, 4232902595.0, 2599001200.0, 3342103156.0, 1332700270.0, 3869900162.0, 2791500270.0, 5036300431.0, 4168000060.0, 6021501535.0, 6021501535.0, 1483300570.0, 3422049190.0, 1099611230.0, 722079104.0, 7338200240.0, 1952200240.0, 5200100125.0, 7214720075.0, 2450000295.0, 6197800045.0, 1328310370.0, 546000875.0, 3530510041.0, 1853000400.0, 3134100116.0, 9545230140.0, 3362400511.0, 2525310310.0, 6126500060.0, 8961960160.0, 3626039325.0, 3362400431.0, 4060000240.0, 3454800060.0, 1695900060.0, 7278700070.0, 6675500070.0, 3626039187.0, 3524049083.0, 3275860240.0, 4389200955.0, 4058801670.0, 8732020310.0, 2331300505.0, 7853210060.0, 3668000070.0, 9545240070.0, 1243100136.0, 8929000270.0, 2767602356.0, 921049315.0, 3655000070.0, 4027700812.0, 3992700335.0, 2767603505.0, 4232901525.0, 1777500060.0, 1432900240.0, 6140100875.0, 6071600370.0, 1526069017.0, 809001525.0, 3224079105.0, 8075400570.0, 1994200024.0, 3362900810.0, 1324300398.0, 537000445.0, 7855801670.0, 7920100045.0, 8960000030.0, 6388930390.0, 8731900200.0, 8029200135.0, 1081200350.0, 84000105.0, 3756500060.0, 7215720160.0, 3574800520.0, 2617300160.0, 2558660270.0, 2009000370.0, 1836980160.0, 3261020370.0, 1755700060.0, 4330600435.0, 9542800700.0, 1999700045.0, 1762600070.0, 1687900520.0, 7234600798.0, 3881900445.0, 2254502445.0, 5437810320.0, 9158100075.0, 3830630310.0, 8123100045.0, 3127200041.0, 6661200320.0, 11510310.0, 825059270.0, 8731951370.0, 1954440060.0, 2264500350.0, 1115810060.0, 9477200200.0, 1432600560.0, 2287000060.0, 3663500060.0, 3996900125.0, 7796450200.0, 7549802535.0, 3278600320.0, 2824079053.0, 1222069094.0, 3542300060.0, 2222059065.0, 7551300060.0, 100600550.0, 3211100860.0, 3456000310.0, 9526600140.0, 7465900060.0, 1222000055.0, 6300000550.0, 2310030510.0, 1025049114.0, 8677300550.0, 4014400292.0, 1102000196.0, 257000138.0, 46100204.0, 1909600046.0, 1250202145.0, 7611200125.0, 5611500140.0, 7138000260.0, 626059335.0, 1922059282.0, 705700390.0, 7454001200.0, 8682281200.0, 7972000200.0, 722059070.0, 7202340400.0, 8096000060.0, 2424000060.0, 9264902050.0, 943100260.0, 3677400445.0, 1762600320.0, 4058000060.0, 7228500560.0, 326069104.0, 5152100060.0, 3584000310.0, 8150100045.0, 1868901275.0, 6131600075.0, 9468200125.0, 8029510030.0, 2025069065.0, 7899800890.0, 3021059276.0, 3797001895.0, 3832710960.0, 1310430400.0, 1422300030.0, 1105000588.0, 3830630060.0, 5101404898.0, 7972601890.0, 5127001620.0, 9407100800.0, 1873100060.0, 8722101360.0, 8644000060.0, 3325069129.0, 1400300055.0, 2123039032.0, 8078560140.0, 3438500192.0, 7974200510.0, 2557000400.0, 7960900060.0, 4054500390.0, 6378500125.0, 1745100140.0, 2976800796.0, 4235400186.0, 4215100060.0, 9189700045.0, 1126049053.0, 2022069200.0, 9412900055.0, 1722059235.0, 6874200960.0, 7424700045.0, 7202360350.0, 5634500392.0, 1509500060.0, 7214810350.0, 6647200060.0, 9552700140.0, 2200500350.0, 6113400046.0, 6619910140.0, 1115450240.0, 6073240060.0, 9297300045.0, 9510920070.0, 5468730030.0, 8079030390.0, 600000152.0, 1840000030.0, 3225069065.0, 3260800030.0, 2747100024.0, 5104530560.0, 4330600350.0, 5016001535.0, 7280300196.0, 8651520400.0, 7171200445.0, 3204800200.0, 3416600800.0, 7994700030.0, 1860600135.0, 4139480200.0, 4139480200.0, 1328320800.0, 7771300125.0, 3422059208.0, 9521101455.0, 4337000335.0, 325059286.0, 2597650240.0, 3353400435.0, 7972000240.0, 7520000520.0, 7520000520.0, 3530210260.0, 1959700550.0, 1665400045.0, 9542850320.0, 3179100060.0, 2946001550.0, 8078490390.0, 9550201550.0, 191100045.0, 5009600070.0, 200350070.0, 2877103726.0, 405100295.0, 4268200055.0, 3126069068.0, 1115300070.0, 6414100671.0, 7004200060.0, 7852110140.0, 3969300030.0, 3969300030.0, 4048400070.0, 808000070.0, 7374200030.0, 7325600160.0, 2757000030.0, 616000140.0, 3363900111.0, 9262800171.0, 6607000126.0, 5416510830.0, 2201500030.0, 325059171.0, 952003285.0, 3211290370.0, 1072010350.0, 8856950070.0, 925059078.0, 7855801090.0, 723099065.0, 6116500075.0, 1118500030.0, 424069250.0, 3291800710.0, 6838700060.0, 2231500030.0, 2231500030.0, 7683900200.0, 8155830060.0, 98020310.0, 9423400140.0, 1545804860.0, 2883200160.0, 7132300695.0, 1726059053.0, 624111000.0, 808300310.0, 8563040160.0, 713500030.0, 8651600160.0, 9517200030.0, 2460700700.0, 1223039290.0, 2890100060.0, 7972600860.0, 8857320070.0, 4047200695.0, 1653500070.0, 1923000030.0, 3649100320.0, 7375300160.0, 5175800060.0, 1604601375.0, 2473251090.0, 9126100861.0, 3420069065.0, 6021501685.0, 1151100070.0, 8856950240.0, 9385200055.0, 7821200390.0, 8078520310.0, 1565950030.0, 1560930070.0, 6700400140.0, 2422029094.0, 1774220160.0, 1525200060.0, 1678400105.0, 3426059070.0, 824079032.0, 2697100140.0, 8724300030.0, 8678500060.0, 625049299.0, 6073200075.0, 6388900710.0, 1442860160.0, 7942600310.0, 1545808560.0, 936000060.0, 9808650060.0, 3754700160.0, 305500140.0, 5468750060.0, 2944010240.0, 3454000060.0, 646910160.0, 8564950390.0, 2268400350.0, 7504101040.0, 11500890.0, 9528102772.0, 284000223.0, 3353401710.0, 8159610030.0, 3179100435.0, 822079033.0, 8857600960.0, 1774000200.0, 2024069128.0, 1049010390.0, 7905370390.0, 4140090240.0, 4055700030.0, 3775300030.0, 2525300030.0, 1324059104.0, 2287000030.0, 7702010030.0, 1529200340.0, 2122039094.0, 1742800030.0, 1796360350.0, 6154500070.0, 1843100340.0, 8944290160.0, 4166600473.0, 7282300125.0, 8658300340.0, 2419600075.0, 2621760350.0, 1723049270.0, 4123840310.0, 2172000075.0, 8651611170.0, 8820902200.0, 8651610890.0, 1853080570.0, 3629920030.0, 1604602050.0, 6844700810.0, 66000070.0, 6665800030.0, 2205700350.0, 5466000030.0, 6189200125.0, 9169600135.0, 2625069070.0, 8732131090.0, 9286000240.0, 1895000260.0, 8691370400.0, 5423010350.0, 8562501040.0, 2475200140.0, 7942100310.0, 3760000030.0, 1727500340.0, 9828702519.0, 4432600075.0, 7806300030.0, 9274202270.0, 7852030960.0], \"lat\": [47.5112, 47.721, 47.7379, 47.5208, 47.6168, 47.6561, 47.3097, 47.4095, 47.5123, 47.3684, 47.6007, 47.69, 47.7558, 47.6127, 47.67, 47.5714, 47.7277, 47.6648, 47.3089, 47.3343, 47.7025, 47.5316, 47.3266, 47.3533, 47.3739, 47.3048, 47.6386, 47.6221, 47.695, 47.7073, 47.5391, 47.7274, 47.6823, 47.6889, 47.4276, 47.6827, 47.6621, 47.6702, 47.3341, 47.5301, 47.6145, 47.445, 47.6848, 47.6413, 47.4485, 47.7443, 47.3066, 47.6194, 47.6796, 47.4041, 47.4258, 47.4934, 47.6808, 47.6989, 47.6571, 47.6597, 47.3663, 47.3663, 47.588, 47.5059, 47.4336, 47.4366, 47.4428, 47.6765, 47.6113, 47.5747, 47.5815, 47.3378, 47.3621, 47.6303, 47.6525, 47.7362, 47.7168, 47.3608, 47.3511, 47.5822, 47.6034, 47.5636, 47.7073, 47.342, 47.3512, 47.349, 47.5474, 47.4811, 47.7264, 47.6337, 47.2909, 47.5228, 47.518, 47.5394, 47.2897, 47.6506, 47.322, 47.687, 47.687, 47.5873, 47.3576, 47.3036, 47.4109, 47.4838, 47.6415, 47.6775, 47.7731, 47.5814, 47.4375, 47.4431, 47.6878, 47.3813, 47.7304, 47.6417, 47.5386, 47.6823, 47.3624, 47.5474, 47.3183, 47.6981, 47.6824, 47.5009, 47.4965, 47.587, 47.7728, 47.7288, 47.6999, 47.5299, 47.6897, 47.6141, 47.5091, 47.3129, 47.6763, 47.5319, 47.2761, 47.5343, 47.697, 47.5517, 47.6734, 47.3257, 47.3309, 47.7689, 47.7135, 47.6722, 47.6338, 47.5707, 47.4563, 47.7144, 47.5495, 47.7421, 47.6354, 47.5262, 47.3887, 47.6873, 47.6838, 47.655, 47.3255, 47.562, 47.679, 47.4479, 47.525, 47.3135, 47.2086, 47.4715, 47.4877, 47.7171, 47.6012, 47.7319, 47.4582, 47.7209, 47.408, 47.565, 47.7028, 47.7458, 47.4776, 47.3026, 47.7658, 47.6477, 47.5619, 47.6106, 47.5868, 47.6101, 47.1976, 47.7224, 47.3505, 47.5384, 47.7044, 47.3848, 47.6993, 47.6627, 47.3099, 47.62, 47.65, 47.6647, 47.726, 47.4616, 47.5505, 47.7606, 47.7481, 47.2779, 47.5511, 47.5488, 47.5385, 47.4058, 47.5093, 47.3777, 47.675, 47.3025, 47.4787, 47.5378, 47.7073, 47.5733, 47.4604, 47.7067, 47.354, 47.6647, 47.6143, 47.3185, 47.5458, 47.4889, 47.5673, 47.5133, 47.5884, 47.7145, 47.5836, 47.398, 47.7663, 47.3758, 47.3828, 47.5123, 47.7076, 47.2922, 47.4075, 47.6794, 47.4497, 47.5218, 47.3103, 47.5687, 47.5575, 47.6489, 47.3459, 47.6136, 47.7641, 47.3376, 47.3173, 47.5308, 47.6727, 47.3221, 47.6779, 47.3076, 47.6338, 47.5218, 47.2785, 47.6846, 47.3656, 47.4369, 47.4616, 47.5405, 47.3507, 47.6979, 47.5278, 47.4756, 47.4437, 47.7048, 47.6362, 47.4207, 47.6154, 47.5964, 47.4683, 47.4045, 47.5544, 47.6802, 47.2988, 47.6312, 47.7285, 47.7107, 47.3271, 47.5053, 47.6601, 47.4145, 47.4672, 47.7618, 47.3828, 47.5362, 47.3954, 47.5048, 47.6166, 47.6811, 47.7486, 47.3846, 47.7564, 47.7198, 47.5461, 47.5712, 47.4281, 47.7128, 47.3341, 47.5399, 47.5717, 47.5951, 47.3536, 47.5084, 47.5586, 47.4427, 47.6053, 47.3494, 47.6933, 47.3537, 47.476, 47.6239, 47.7776, 47.6459, 47.6692, 47.5376, 47.601, 47.529, 47.6345, 47.5503, 47.5503, 47.4441, 47.7357, 47.346, 47.6638, 47.48, 47.6759, 47.5162, 47.2639, 47.2929, 47.4957, 47.4957, 47.7721, 47.644, 47.472, 47.592, 47.669, 47.42, 47.1913, 47.6666, 47.5639, 47.3483, 47.7648, 47.6794, 47.7535, 47.4945, 47.6945, 47.5222, 47.7222, 47.3796, 47.5374, 47.4897, 47.4897, 47.4716, 47.3581, 47.7713, 47.675, 47.5603, 47.4147, 47.68, 47.3117, 47.543, 47.3607, 47.5759, 47.6891, 47.565, 47.6359, 47.4769, 47.3845, 47.6743, 47.5651, 47.4853, 47.4508, 47.6375, 47.5944, 47.4888, 47.5112, 47.7711, 47.7711, 47.2813, 47.5038, 47.5823, 47.7164, 47.3624, 47.6831, 47.592, 47.7461, 47.7268, 47.7237, 47.6283, 47.5543, 47.5483, 47.7591, 47.4612, 47.4987, 47.772, 47.5287, 47.6109, 47.7736, 47.6294, 47.5634, 47.7405, 47.5976, 47.5722, 47.5644, 47.4556, 47.6055, 47.1775, 47.6879, 47.4807, 47.3845, 47.5815, 47.6609, 47.3163, 47.4309, 47.401, 47.404, 47.3889, 47.7718, 47.7067, 47.504, 47.7015, 47.5753, 47.7448, 47.7318, 47.5954, 47.6885, 47.5724, 47.5272, 47.4334, 47.6073, 47.3592, 47.4546, 47.6408, 47.7245, 47.4362, 47.3739, 47.7205, 47.6636, 47.4324, 47.7734, 47.559, 47.633, 47.6954, 47.6776, 47.504, 47.2613, 47.3417, 47.6694, 47.4056, 47.3838, 47.7487, 47.5534, 47.7355, 47.7206, 47.7691, 47.7183, 47.7736, 47.362, 47.5698, 47.5505, 47.7605, 47.7356, 47.3844, 47.4904, 47.3663, 47.5637, 47.3759, 47.3912, 47.3305, 47.7617, 47.6499, 47.7311, 47.3701, 47.4857, 47.3724, 47.4855, 47.6336, 47.717, 47.6332, 47.5906, 47.5461, 47.5674, 47.6943, 47.5486, 47.6658, 47.5772, 47.3875, 47.6344, 47.5275, 47.6179, 47.3078, 47.5521, 47.5158, 47.5985, 47.5645, 47.6734, 47.4734, 47.3811, 47.7081, 47.7193, 47.6192, 47.5836, 47.3841, 47.5872, 47.5322], \"legendgroup\": \"\", \"lon\": [-122.257, -122.319, -122.233, -122.393, -122.045, -122.005, -122.327, -122.315, -122.337, -122.031, -122.145, -122.292, -122.229, -122.045, -122.394, -122.375, -121.962, -122.343, -122.21, -122.306, -122.341, -122.233, -122.169, -122.166, -122.172, -122.218, -122.36, -122.314, -122.304, -122.11, -122.07, -122.357, -122.368, -122.375, -122.157, -122.31, -122.132, -122.362, -122.282, -122.18, -122.027, -122.347, -122.016, -122.364, -122.175, -121.977, -122.371, -122.151, -122.301, -122.451, -122.322, -122.189, -122.384, -122.369, -122.281, -122.29, -122.114, -122.122, -122.116, -122.149, -122.339, -122.335, -122.344, -122.32, -122.297, -122.304, -122.192, -122.257, -122.11, -122.215, -122.16, -122.179, -122.287, -122.036, -122.073, -121.987, -122.125, -122.394, -122.34, -122.025, -122.008, -122.031, -122.291, -122.149, -122.31, -122.365, -122.189, -122.199, -122.194, -122.387, -122.372, -122.391, -122.351, -122.386, -122.386, -122.249, -122.277, -122.378, -121.958, -121.714, -122.315, -122.372, -122.08, -122.196, -122.184, -122.133, -122.38, -122.322, -122.082, -122.109, -122.053, -122.349, -122.031, -122.295, -122.253, -122.368, -122.347, -122.248, -122.303, -122.294, -122.386, -122.226, -122.364, -122.266, -122.098, -122.212, -122.244, -122.39, -122.352, -121.85, -122.152, -122.054, -122.072, -121.998, -122.38, -122.296, -122.299, -122.266, -122.287, -122.381, -122.358, -122.128, -122.171, -122.351, -122.174, -122.026, -122.353, -121.943, -122.286, -122.336, -122.353, -122.359, -122.304, -122.162, -122.3, -122.176, -122.172, -122.369, -121.996, -122.118, -122.335, -122.193, -122.023, -122.224, -122.023, -122.168, -122.327, -122.125, -122.231, -122.331, -122.337, -122.374, -122.339, -122.182, -122.125, -122.31, -122.308, -122.307, -121.999, -122.358, -122.179, -122.376, -122.2, -122.039, -122.102, -122.188, -122.379, -122.043, -122.34, -122.153, -122.191, -122.184, -122.219, -122.336, -122.3, -122.347, -122.312, -122.372, -121.911, -121.994, -122.184, -122.165, -122.394, -122.37, -122.158, -122.219, -122.114, -122.381, -122.339, -122.343, -122.047, -122.284, -122.017, -122.275, -122.268, -122.299, -122.21, -122.379, -122.291, -122.367, -122.026, -122.299, -122.215, -122.217, -122.023, -122.373, -122.013, -122.371, -122.214, -122.034, -122.375, -122.164, -122.339, -121.899, -122.303, -122.183, -121.95, -122.303, -122.023, -122.324, -122.319, -122.376, -122.299, -122.216, -122.353, -122.395, -122.072, -122.357, -122.213, -122.345, -122.278, -122.111, -121.711, -122.27, -122.178, -122.32, -122.345, -122.147, -121.772, -122.109, -122.302, -122.29, -122.047, -122.299, -122.438, -122.171, -122.358, -122.29, -122.371, -122.223, -122.042, -122.352, -122.323, -122.255, -122.4, -122.166, -122.165, -122.261, -122.071, -122.268, -122.206, -122.272, -122.287, -122.025, -122.23, -122.169, -122.144, -122.193, -122.151, -122.143, -122.343, -122.223, -122.255, -122.181, -122.375, -122.017, -122.144, -122.154, -122.311, -122.274, -122.077, -122.301, -122.393, -122.0, -122.337, -122.298, -122.384, -122.058, -122.297, -122.18, -122.294, -121.837, -122.367, -122.102, -122.102, -122.125, -122.333, -122.157, -122.345, -122.336, -122.151, -122.057, -122.252, -122.371, -122.352, -122.352, -122.093, -122.319, -122.344, -122.166, -122.275, -122.323, -122.012, -122.331, -122.217, -122.052, -122.164, -122.357, -122.354, -122.22, -122.093, -122.157, -122.32, -122.49, -121.875, -122.24, -122.24, -122.078, -122.173, -122.307, -121.854, -122.222, -122.337, -122.353, -122.27, -122.28, -122.034, -122.137, -122.159, -122.381, -121.974, -122.141, -122.029, -122.184, -122.164, -121.709, -122.359, -122.016, -122.042, -122.182, -122.19, -122.341, -122.341, -122.345, -122.189, -121.97, -122.304, -122.045, -122.329, -122.307, -122.195, -122.06, -121.959, -122.095, -122.148, -122.226, -122.146, -122.169, -122.365, -122.358, -122.35, -122.114, -121.901, -122.218, -122.213, -122.241, -122.118, -122.129, -122.289, -122.157, -122.305, -122.022, -122.385, -121.779, -122.032, -122.402, -122.344, -122.188, -122.191, -122.026, -122.191, -122.482, -122.095, -122.2, -122.227, -122.164, -121.95, -122.333, -121.982, -121.95, -122.337, -122.179, -122.169, -122.161, -122.308, -122.046, -122.337, -122.219, -122.2, -122.178, -122.156, -122.127, -122.33, -122.197, -122.224, -122.164, -122.041, -122.103, -122.318, -122.382, -122.255, -122.271, -122.275, -121.955, -122.289, -122.082, -122.078, -122.18, -122.211, -122.262, -122.258, -122.214, -122.029, -122.121, -122.221, -122.234, -122.157, -122.438, -122.226, -122.089, -122.123, -122.125, -122.167, -122.371, -122.357, -121.909, -122.353, -122.107, -122.318, -122.042, -122.266, -122.064, -122.281, -122.066, -122.062, -121.998, -122.29, -122.29, -122.38, -122.188, -122.153, -122.161, -122.174, -122.391, -122.005, -122.378, -122.137, -122.264, -121.977, -122.082, -122.154, -122.186, -122.087, -122.215, -122.216, -122.301, -122.387, -122.284, -122.39, -121.88], \"marker\": {\"color\": \"green\"}, \"mode\": \"markers\", \"name\": \"\", \"showlegend\": false, \"subplot\": \"mapbox\", \"type\": \"scattermapbox\"}],                        {\"height\": 600, \"legend\": {\"tracegroupgap\": 0}, \"mapbox\": {\"center\": {\"lat\": 47.5506946, \"lon\": -122.212282}, \"domain\": {\"x\": [0.0, 1.0], \"y\": [0.0, 1.0]}, \"style\": \"open-street-map\", \"zoom\": 8}, \"margin\": {\"b\": 0, \"l\": 0, \"r\": 0, \"t\": 0}, \"template\": {\"data\": {\"bar\": [{\"error_x\": {\"color\": \"#2a3f5f\"}, \"error_y\": {\"color\": \"#2a3f5f\"}, \"marker\": {\"line\": {\"color\": \"#E5ECF6\", \"width\": 0.5}}, \"type\": \"bar\"}], \"barpolar\": [{\"marker\": {\"line\": {\"color\": \"#E5ECF6\", \"width\": 0.5}}, \"type\": \"barpolar\"}], \"carpet\": [{\"aaxis\": {\"endlinecolor\": \"#2a3f5f\", \"gridcolor\": \"white\", \"linecolor\": \"white\", \"minorgridcolor\": \"white\", \"startlinecolor\": \"#2a3f5f\"}, \"baxis\": {\"endlinecolor\": \"#2a3f5f\", \"gridcolor\": \"white\", \"linecolor\": \"white\", \"minorgridcolor\": \"white\", \"startlinecolor\": \"#2a3f5f\"}, \"type\": \"carpet\"}], \"choropleth\": [{\"colorbar\": {\"outlinewidth\": 0, \"ticks\": \"\"}, \"type\": \"choropleth\"}], \"contour\": [{\"colorbar\": {\"outlinewidth\": 0, \"ticks\": \"\"}, \"colorscale\": [[0.0, \"#0d0887\"], [0.1111111111111111, \"#46039f\"], [0.2222222222222222, \"#7201a8\"], [0.3333333333333333, \"#9c179e\"], [0.4444444444444444, \"#bd3786\"], [0.5555555555555556, \"#d8576b\"], [0.6666666666666666, \"#ed7953\"], [0.7777777777777778, \"#fb9f3a\"], [0.8888888888888888, \"#fdca26\"], [1.0, \"#f0f921\"]], \"type\": \"contour\"}], \"contourcarpet\": [{\"colorbar\": {\"outlinewidth\": 0, \"ticks\": \"\"}, \"type\": \"contourcarpet\"}], \"heatmap\": [{\"colorbar\": {\"outlinewidth\": 0, \"ticks\": \"\"}, \"colorscale\": [[0.0, \"#0d0887\"], [0.1111111111111111, \"#46039f\"], [0.2222222222222222, \"#7201a8\"], [0.3333333333333333, \"#9c179e\"], [0.4444444444444444, \"#bd3786\"], [0.5555555555555556, \"#d8576b\"], [0.6666666666666666, \"#ed7953\"], [0.7777777777777778, \"#fb9f3a\"], [0.8888888888888888, \"#fdca26\"], [1.0, \"#f0f921\"]], \"type\": \"heatmap\"}], \"heatmapgl\": [{\"colorbar\": {\"outlinewidth\": 0, \"ticks\": \"\"}, \"colorscale\": [[0.0, \"#0d0887\"], [0.1111111111111111, \"#46039f\"], [0.2222222222222222, \"#7201a8\"], [0.3333333333333333, \"#9c179e\"], [0.4444444444444444, \"#bd3786\"], [0.5555555555555556, \"#d8576b\"], [0.6666666666666666, \"#ed7953\"], [0.7777777777777778, \"#fb9f3a\"], [0.8888888888888888, \"#fdca26\"], [1.0, \"#f0f921\"]], \"type\": \"heatmapgl\"}], \"histogram\": [{\"marker\": {\"colorbar\": {\"outlinewidth\": 0, \"ticks\": \"\"}}, \"type\": \"histogram\"}], \"histogram2d\": [{\"colorbar\": {\"outlinewidth\": 0, \"ticks\": \"\"}, \"colorscale\": [[0.0, \"#0d0887\"], [0.1111111111111111, \"#46039f\"], [0.2222222222222222, \"#7201a8\"], [0.3333333333333333, \"#9c179e\"], [0.4444444444444444, \"#bd3786\"], [0.5555555555555556, \"#d8576b\"], [0.6666666666666666, \"#ed7953\"], [0.7777777777777778, \"#fb9f3a\"], [0.8888888888888888, \"#fdca26\"], [1.0, \"#f0f921\"]], \"type\": \"histogram2d\"}], \"histogram2dcontour\": [{\"colorbar\": {\"outlinewidth\": 0, \"ticks\": \"\"}, \"colorscale\": [[0.0, \"#0d0887\"], [0.1111111111111111, \"#46039f\"], [0.2222222222222222, \"#7201a8\"], [0.3333333333333333, \"#9c179e\"], [0.4444444444444444, \"#bd3786\"], [0.5555555555555556, \"#d8576b\"], [0.6666666666666666, \"#ed7953\"], [0.7777777777777778, \"#fb9f3a\"], [0.8888888888888888, \"#fdca26\"], [1.0, \"#f0f921\"]], \"type\": \"histogram2dcontour\"}], \"mesh3d\": [{\"colorbar\": {\"outlinewidth\": 0, \"ticks\": \"\"}, \"type\": \"mesh3d\"}], \"parcoords\": [{\"line\": {\"colorbar\": {\"outlinewidth\": 0, \"ticks\": \"\"}}, \"type\": \"parcoords\"}], \"pie\": [{\"automargin\": true, \"type\": \"pie\"}], \"scatter\": [{\"marker\": {\"colorbar\": {\"outlinewidth\": 0, \"ticks\": \"\"}}, \"type\": \"scatter\"}], \"scatter3d\": [{\"line\": {\"colorbar\": {\"outlinewidth\": 0, \"ticks\": \"\"}}, \"marker\": {\"colorbar\": {\"outlinewidth\": 0, \"ticks\": \"\"}}, \"type\": \"scatter3d\"}], \"scattercarpet\": [{\"marker\": {\"colorbar\": {\"outlinewidth\": 0, \"ticks\": \"\"}}, \"type\": \"scattercarpet\"}], \"scattergeo\": [{\"marker\": {\"colorbar\": {\"outlinewidth\": 0, \"ticks\": \"\"}}, \"type\": \"scattergeo\"}], \"scattergl\": [{\"marker\": {\"colorbar\": {\"outlinewidth\": 0, \"ticks\": \"\"}}, \"type\": \"scattergl\"}], \"scattermapbox\": [{\"marker\": {\"colorbar\": {\"outlinewidth\": 0, \"ticks\": \"\"}}, \"type\": \"scattermapbox\"}], \"scatterpolar\": [{\"marker\": {\"colorbar\": {\"outlinewidth\": 0, \"ticks\": \"\"}}, \"type\": \"scatterpolar\"}], \"scatterpolargl\": [{\"marker\": {\"colorbar\": {\"outlinewidth\": 0, \"ticks\": \"\"}}, \"type\": \"scatterpolargl\"}], \"scatterternary\": [{\"marker\": {\"colorbar\": {\"outlinewidth\": 0, \"ticks\": \"\"}}, \"type\": \"scatterternary\"}], \"surface\": [{\"colorbar\": {\"outlinewidth\": 0, \"ticks\": \"\"}, \"colorscale\": [[0.0, \"#0d0887\"], [0.1111111111111111, \"#46039f\"], [0.2222222222222222, \"#7201a8\"], [0.3333333333333333, \"#9c179e\"], [0.4444444444444444, \"#bd3786\"], [0.5555555555555556, \"#d8576b\"], [0.6666666666666666, \"#ed7953\"], [0.7777777777777778, \"#fb9f3a\"], [0.8888888888888888, \"#fdca26\"], [1.0, \"#f0f921\"]], \"type\": \"surface\"}], \"table\": [{\"cells\": {\"fill\": {\"color\": \"#EBF0F8\"}, \"line\": {\"color\": \"white\"}}, \"header\": {\"fill\": {\"color\": \"#C8D4E3\"}, \"line\": {\"color\": \"white\"}}, \"type\": \"table\"}]}, \"layout\": {\"annotationdefaults\": {\"arrowcolor\": \"#2a3f5f\", \"arrowhead\": 0, \"arrowwidth\": 1}, \"autotypenumbers\": \"strict\", \"coloraxis\": {\"colorbar\": {\"outlinewidth\": 0, \"ticks\": \"\"}}, \"colorscale\": {\"diverging\": [[0, \"#8e0152\"], [0.1, \"#c51b7d\"], [0.2, \"#de77ae\"], [0.3, \"#f1b6da\"], [0.4, \"#fde0ef\"], [0.5, \"#f7f7f7\"], [0.6, \"#e6f5d0\"], [0.7, \"#b8e186\"], [0.8, \"#7fbc41\"], [0.9, \"#4d9221\"], [1, \"#276419\"]], \"sequential\": [[0.0, \"#0d0887\"], [0.1111111111111111, \"#46039f\"], [0.2222222222222222, \"#7201a8\"], [0.3333333333333333, \"#9c179e\"], [0.4444444444444444, \"#bd3786\"], [0.5555555555555556, \"#d8576b\"], [0.6666666666666666, \"#ed7953\"], [0.7777777777777778, \"#fb9f3a\"], [0.8888888888888888, \"#fdca26\"], [1.0, \"#f0f921\"]], \"sequentialminus\": [[0.0, \"#0d0887\"], [0.1111111111111111, \"#46039f\"], [0.2222222222222222, \"#7201a8\"], [0.3333333333333333, \"#9c179e\"], [0.4444444444444444, \"#bd3786\"], [0.5555555555555556, \"#d8576b\"], [0.6666666666666666, \"#ed7953\"], [0.7777777777777778, \"#fb9f3a\"], [0.8888888888888888, \"#fdca26\"], [1.0, \"#f0f921\"]]}, \"colorway\": [\"#636efa\", \"#EF553B\", \"#00cc96\", \"#ab63fa\", \"#FFA15A\", \"#19d3f3\", \"#FF6692\", \"#B6E880\", \"#FF97FF\", \"#FECB52\"], \"font\": {\"color\": \"#2a3f5f\"}, \"geo\": {\"bgcolor\": \"white\", \"lakecolor\": \"white\", \"landcolor\": \"#E5ECF6\", \"showlakes\": true, \"showland\": true, \"subunitcolor\": \"white\"}, \"hoverlabel\": {\"align\": \"left\"}, \"hovermode\": \"closest\", \"mapbox\": {\"style\": \"light\"}, \"paper_bgcolor\": \"white\", \"plot_bgcolor\": \"#E5ECF6\", \"polar\": {\"angularaxis\": {\"gridcolor\": \"white\", \"linecolor\": \"white\", \"ticks\": \"\"}, \"bgcolor\": \"#E5ECF6\", \"radialaxis\": {\"gridcolor\": \"white\", \"linecolor\": \"white\", \"ticks\": \"\"}}, \"scene\": {\"xaxis\": {\"backgroundcolor\": \"#E5ECF6\", \"gridcolor\": \"white\", \"gridwidth\": 2, \"linecolor\": \"white\", \"showbackground\": true, \"ticks\": \"\", \"zerolinecolor\": \"white\"}, \"yaxis\": {\"backgroundcolor\": \"#E5ECF6\", \"gridcolor\": \"white\", \"gridwidth\": 2, \"linecolor\": \"white\", \"showbackground\": true, \"ticks\": \"\", \"zerolinecolor\": \"white\"}, \"zaxis\": {\"backgroundcolor\": \"#E5ECF6\", \"gridcolor\": \"white\", \"gridwidth\": 2, \"linecolor\": \"white\", \"showbackground\": true, \"ticks\": \"\", \"zerolinecolor\": \"white\"}}, \"shapedefaults\": {\"line\": {\"color\": \"#2a3f5f\"}}, \"ternary\": {\"aaxis\": {\"gridcolor\": \"white\", \"linecolor\": \"white\", \"ticks\": \"\"}, \"baxis\": {\"gridcolor\": \"white\", \"linecolor\": \"white\", \"ticks\": \"\"}, \"bgcolor\": \"#E5ECF6\", \"caxis\": {\"gridcolor\": \"white\", \"linecolor\": \"white\", \"ticks\": \"\"}}, \"title\": {\"x\": 0.05}, \"xaxis\": {\"automargin\": true, \"gridcolor\": \"white\", \"linecolor\": \"white\", \"ticks\": \"\", \"title\": {\"standoff\": 15}, \"zerolinecolor\": \"white\", \"zerolinewidth\": 2}, \"yaxis\": {\"automargin\": true, \"gridcolor\": \"white\", \"linecolor\": \"white\", \"ticks\": \"\", \"title\": {\"standoff\": 15}, \"zerolinecolor\": \"white\", \"zerolinewidth\": 2}}}},                        {\"responsive\": true}                    ).then(function(){\n",
       "                            \n",
       "var gd = document.getElementById('8370c197-0963-486e-b375-b5cc3fdfcda8');\n",
       "var x = new MutationObserver(function (mutations, observer) {{\n",
       "        var display = window.getComputedStyle(gd).display;\n",
       "        if (!display || display === 'none') {{\n",
       "            console.log([gd, 'removed!']);\n",
       "            Plotly.purge(gd);\n",
       "            observer.disconnect();\n",
       "        }}\n",
       "}});\n",
       "\n",
       "// Listen for the removal of the full notebook cells\n",
       "var notebookContainer = gd.closest('#notebook-container');\n",
       "if (notebookContainer) {{\n",
       "    x.observe(notebookContainer, {childList: true});\n",
       "}}\n",
       "\n",
       "// Listen for the clearing of the current output cell\n",
       "var outputEl = gd.closest('.output');\n",
       "if (outputEl) {{\n",
       "    x.observe(outputEl, {childList: true});\n",
       "}}\n",
       "\n",
       "                        })                };                });            </script>        </div>"
      ]
     },
     "metadata": {},
     "output_type": "display_data"
    }
   ],
   "source": [
    "data_mapa = data[['id','lat','long','price']]\n",
    "mapa = px.scatter_mapbox(data_mapa, lat='lat' ,lon='long' , hover_name='id', hover_data=['price'], color_discrete_sequence=['green'], zoom=8, height=300)\n",
    "mapa.update_layout(mapbox_style='open-street-map')\n",
    "mapa.update_layout(height=600, margin={'r':0, 't':0, 'l':0, 'b':0})\n",
    "mapa.show()"
   ]
  },
  {
   "cell_type": "code",
   "execution_count": null,
   "id": "fcb986d0",
   "metadata": {},
   "outputs": [],
   "source": []
  }
 ],
 "metadata": {
  "kernelspec": {
   "display_name": "Python 3",
   "language": "python",
   "name": "python3"
  },
  "language_info": {
   "codemirror_mode": {
    "name": "ipython",
    "version": 3
   },
   "file_extension": ".py",
   "mimetype": "text/x-python",
   "name": "python",
   "nbconvert_exporter": "python",
   "pygments_lexer": "ipython3",
   "version": "3.8.10"
  }
 },
 "nbformat": 4,
 "nbformat_minor": 5
}
