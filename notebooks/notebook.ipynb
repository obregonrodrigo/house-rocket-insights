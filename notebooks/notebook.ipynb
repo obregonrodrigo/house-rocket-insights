{
 "cells": [
  {
   "cell_type": "markdown",
   "id": "89a11d8c",
   "metadata": {},
   "source": [
    "# Imports"
   ]
  },
  {
   "cell_type": "code",
   "execution_count": 157,
   "id": "49afcb21",
   "metadata": {},
   "outputs": [],
   "source": [
    "import pandas         as pd\n",
    "import numpy          as np\n",
    "\n",
    "import plotly.express as px\n",
    "import ipywidgets     as widgets\n",
    "\n",
    "from ipywidgets            import fixed\n",
    "from matplotlib            import pyplot as plt\n",
    "from matplotlib            import gridspec\n",
    "from geopy.geocoders       import Nominatim\n",
    "from IPython.core.display  import HTML"
   ]
  },
  {
   "cell_type": "markdown",
   "id": "1e04fe41",
   "metadata": {},
   "source": [
    "# Helper Functions"
   ]
  },
  {
   "cell_type": "code",
   "execution_count": 158,
   "id": "2ab5e2fe",
   "metadata": {},
   "outputs": [],
   "source": [
    "def custom_settings():\n",
    "    %matplotlib inline\n",
    "        \n",
    "    plt.style.use( 'bmh' )\n",
    "    plt.rcParams['figure.figsize'] = (20,15)\n",
    "    plt.rcParams['font.size'] = 10\n",
    "        \n",
    "    display( HTML( '<style>.container { width:90% !important; }</style>') )\n",
    "    pd.options.display.max_columns = None\n",
    "    pd.options.display.max_rows = None\n",
    "    pd.options.display.float_format = '{:,.2f}'.format\n",
    "    pd.set_option( 'display.expand_frame_repr', False)\n",
    "    \n",
    "    np.set_printoptions(suppress=True)"
   ]
  },
  {
   "cell_type": "code",
   "execution_count": 159,
   "id": "de237078",
   "metadata": {},
   "outputs": [],
   "source": [
    "def format_numbers():\n",
    "    pd.set_option('display.float_format', lambda x: '%.2f' % x) "
   ]
  },
  {
   "cell_type": "code",
   "execution_count": 160,
   "id": "4f657660",
   "metadata": {},
   "outputs": [
    {
     "data": {
      "text/html": [
       "<style>.container { width:90% !important; }</style>"
      ],
      "text/plain": [
       "<IPython.core.display.HTML object>"
      ]
     },
     "metadata": {},
     "output_type": "display_data"
    }
   ],
   "source": [
    "custom_settings()\n",
    "format_numbers()"
   ]
  },
  {
   "cell_type": "markdown",
   "id": "235de681",
   "metadata": {},
   "source": [
    "# Data collection"
   ]
  },
  {
   "cell_type": "code",
   "execution_count": 161,
   "id": "28317f6a",
   "metadata": {},
   "outputs": [],
   "source": [
    "data = pd.read_csv('../data/kc_house_data.csv')"
   ]
  },
  {
   "cell_type": "markdown",
   "id": "339556d7",
   "metadata": {},
   "source": [
    "# Data Description"
   ]
  },
  {
   "cell_type": "markdown",
   "id": "78115578",
   "metadata": {},
   "source": [
    "## Data Dimension"
   ]
  },
  {
   "cell_type": "code",
   "execution_count": 162,
   "id": "5661ea6d",
   "metadata": {},
   "outputs": [
    {
     "name": "stdout",
     "output_type": "stream",
     "text": [
      "Number of rows: 21613\n",
      "Number of columns: 21\n"
     ]
    }
   ],
   "source": [
    "print('Number of rows: {}' .format (data.shape[0]))\n",
    "print('Number of columns: {}' .format (data.shape[1]))"
   ]
  },
  {
   "cell_type": "markdown",
   "id": "e5a9c1d1",
   "metadata": {},
   "source": [
    "## Data Types"
   ]
  },
  {
   "cell_type": "code",
   "execution_count": 163,
   "id": "e5567b26",
   "metadata": {},
   "outputs": [
    {
     "data": {
      "text/html": [
       "<div>\n",
       "<style scoped>\n",
       "    .dataframe tbody tr th:only-of-type {\n",
       "        vertical-align: middle;\n",
       "    }\n",
       "\n",
       "    .dataframe tbody tr th {\n",
       "        vertical-align: top;\n",
       "    }\n",
       "\n",
       "    .dataframe thead th {\n",
       "        text-align: right;\n",
       "    }\n",
       "</style>\n",
       "<table border=\"1\" class=\"dataframe\">\n",
       "  <thead>\n",
       "    <tr style=\"text-align: right;\">\n",
       "      <th></th>\n",
       "      <th>id</th>\n",
       "      <th>date</th>\n",
       "      <th>price</th>\n",
       "      <th>bedrooms</th>\n",
       "      <th>bathrooms</th>\n",
       "      <th>sqft_living</th>\n",
       "      <th>sqft_lot</th>\n",
       "      <th>floors</th>\n",
       "      <th>waterfront</th>\n",
       "      <th>view</th>\n",
       "      <th>condition</th>\n",
       "      <th>grade</th>\n",
       "      <th>sqft_above</th>\n",
       "      <th>sqft_basement</th>\n",
       "      <th>yr_built</th>\n",
       "      <th>yr_renovated</th>\n",
       "      <th>zipcode</th>\n",
       "      <th>lat</th>\n",
       "      <th>long</th>\n",
       "      <th>sqft_living15</th>\n",
       "      <th>sqft_lot15</th>\n",
       "    </tr>\n",
       "  </thead>\n",
       "  <tbody>\n",
       "    <tr>\n",
       "      <th>0</th>\n",
       "      <td>7129300520</td>\n",
       "      <td>20141013T000000</td>\n",
       "      <td>221900.00</td>\n",
       "      <td>3</td>\n",
       "      <td>1.00</td>\n",
       "      <td>1180</td>\n",
       "      <td>5650</td>\n",
       "      <td>1.00</td>\n",
       "      <td>0</td>\n",
       "      <td>0</td>\n",
       "      <td>3</td>\n",
       "      <td>7</td>\n",
       "      <td>1180</td>\n",
       "      <td>0</td>\n",
       "      <td>1955</td>\n",
       "      <td>0</td>\n",
       "      <td>98178</td>\n",
       "      <td>47.51</td>\n",
       "      <td>-122.26</td>\n",
       "      <td>1340</td>\n",
       "      <td>5650</td>\n",
       "    </tr>\n",
       "    <tr>\n",
       "      <th>1</th>\n",
       "      <td>6414100192</td>\n",
       "      <td>20141209T000000</td>\n",
       "      <td>538000.00</td>\n",
       "      <td>3</td>\n",
       "      <td>2.25</td>\n",
       "      <td>2570</td>\n",
       "      <td>7242</td>\n",
       "      <td>2.00</td>\n",
       "      <td>0</td>\n",
       "      <td>0</td>\n",
       "      <td>3</td>\n",
       "      <td>7</td>\n",
       "      <td>2170</td>\n",
       "      <td>400</td>\n",
       "      <td>1951</td>\n",
       "      <td>1991</td>\n",
       "      <td>98125</td>\n",
       "      <td>47.72</td>\n",
       "      <td>-122.32</td>\n",
       "      <td>1690</td>\n",
       "      <td>7639</td>\n",
       "    </tr>\n",
       "    <tr>\n",
       "      <th>2</th>\n",
       "      <td>5631500400</td>\n",
       "      <td>20150225T000000</td>\n",
       "      <td>180000.00</td>\n",
       "      <td>2</td>\n",
       "      <td>1.00</td>\n",
       "      <td>770</td>\n",
       "      <td>10000</td>\n",
       "      <td>1.00</td>\n",
       "      <td>0</td>\n",
       "      <td>0</td>\n",
       "      <td>3</td>\n",
       "      <td>6</td>\n",
       "      <td>770</td>\n",
       "      <td>0</td>\n",
       "      <td>1933</td>\n",
       "      <td>0</td>\n",
       "      <td>98028</td>\n",
       "      <td>47.74</td>\n",
       "      <td>-122.23</td>\n",
       "      <td>2720</td>\n",
       "      <td>8062</td>\n",
       "    </tr>\n",
       "    <tr>\n",
       "      <th>3</th>\n",
       "      <td>2487200875</td>\n",
       "      <td>20141209T000000</td>\n",
       "      <td>604000.00</td>\n",
       "      <td>4</td>\n",
       "      <td>3.00</td>\n",
       "      <td>1960</td>\n",
       "      <td>5000</td>\n",
       "      <td>1.00</td>\n",
       "      <td>0</td>\n",
       "      <td>0</td>\n",
       "      <td>5</td>\n",
       "      <td>7</td>\n",
       "      <td>1050</td>\n",
       "      <td>910</td>\n",
       "      <td>1965</td>\n",
       "      <td>0</td>\n",
       "      <td>98136</td>\n",
       "      <td>47.52</td>\n",
       "      <td>-122.39</td>\n",
       "      <td>1360</td>\n",
       "      <td>5000</td>\n",
       "    </tr>\n",
       "    <tr>\n",
       "      <th>4</th>\n",
       "      <td>1954400510</td>\n",
       "      <td>20150218T000000</td>\n",
       "      <td>510000.00</td>\n",
       "      <td>3</td>\n",
       "      <td>2.00</td>\n",
       "      <td>1680</td>\n",
       "      <td>8080</td>\n",
       "      <td>1.00</td>\n",
       "      <td>0</td>\n",
       "      <td>0</td>\n",
       "      <td>3</td>\n",
       "      <td>8</td>\n",
       "      <td>1680</td>\n",
       "      <td>0</td>\n",
       "      <td>1987</td>\n",
       "      <td>0</td>\n",
       "      <td>98074</td>\n",
       "      <td>47.62</td>\n",
       "      <td>-122.05</td>\n",
       "      <td>1800</td>\n",
       "      <td>7503</td>\n",
       "    </tr>\n",
       "  </tbody>\n",
       "</table>\n",
       "</div>"
      ],
      "text/plain": [
       "           id             date     price  bedrooms  bathrooms  sqft_living  sqft_lot  floors  waterfront  view  condition  grade  sqft_above  sqft_basement  yr_built  yr_renovated  zipcode   lat    long  sqft_living15  sqft_lot15\n",
       "0  7129300520  20141013T000000 221900.00         3       1.00         1180      5650    1.00           0     0          3      7        1180              0      1955             0    98178 47.51 -122.26           1340        5650\n",
       "1  6414100192  20141209T000000 538000.00         3       2.25         2570      7242    2.00           0     0          3      7        2170            400      1951          1991    98125 47.72 -122.32           1690        7639\n",
       "2  5631500400  20150225T000000 180000.00         2       1.00          770     10000    1.00           0     0          3      6         770              0      1933             0    98028 47.74 -122.23           2720        8062\n",
       "3  2487200875  20141209T000000 604000.00         4       3.00         1960      5000    1.00           0     0          5      7        1050            910      1965             0    98136 47.52 -122.39           1360        5000\n",
       "4  1954400510  20150218T000000 510000.00         3       2.00         1680      8080    1.00           0     0          3      8        1680              0      1987             0    98074 47.62 -122.05           1800        7503"
      ]
     },
     "execution_count": 163,
     "metadata": {},
     "output_type": "execute_result"
    }
   ],
   "source": [
    "data.head()"
   ]
  },
  {
   "cell_type": "code",
   "execution_count": 164,
   "id": "a1048a57",
   "metadata": {},
   "outputs": [
    {
     "data": {
      "text/plain": [
       "id                 int64\n",
       "date              object\n",
       "price            float64\n",
       "bedrooms           int64\n",
       "bathrooms        float64\n",
       "sqft_living        int64\n",
       "sqft_lot           int64\n",
       "floors           float64\n",
       "waterfront         int64\n",
       "view               int64\n",
       "condition          int64\n",
       "grade              int64\n",
       "sqft_above         int64\n",
       "sqft_basement      int64\n",
       "yr_built           int64\n",
       "yr_renovated       int64\n",
       "zipcode            int64\n",
       "lat              float64\n",
       "long             float64\n",
       "sqft_living15      int64\n",
       "sqft_lot15         int64\n",
       "dtype: object"
      ]
     },
     "execution_count": 164,
     "metadata": {},
     "output_type": "execute_result"
    }
   ],
   "source": [
    "data.dtypes"
   ]
  },
  {
   "cell_type": "markdown",
   "id": "d58f8477",
   "metadata": {},
   "source": [
    "## Check NA"
   ]
  },
  {
   "cell_type": "code",
   "execution_count": 165,
   "id": "26b5ed23",
   "metadata": {},
   "outputs": [
    {
     "data": {
      "text/plain": [
       "id               0\n",
       "date             0\n",
       "price            0\n",
       "bedrooms         0\n",
       "bathrooms        0\n",
       "sqft_living      0\n",
       "sqft_lot         0\n",
       "floors           0\n",
       "waterfront       0\n",
       "view             0\n",
       "condition        0\n",
       "grade            0\n",
       "sqft_above       0\n",
       "sqft_basement    0\n",
       "yr_built         0\n",
       "yr_renovated     0\n",
       "zipcode          0\n",
       "lat              0\n",
       "long             0\n",
       "sqft_living15    0\n",
       "sqft_lot15       0\n",
       "dtype: int64"
      ]
     },
     "execution_count": 165,
     "metadata": {},
     "output_type": "execute_result"
    }
   ],
   "source": [
    "data.isna().sum()"
   ]
  },
  {
   "cell_type": "markdown",
   "id": "a672ca18",
   "metadata": {},
   "source": [
    "## Change variables types"
   ]
  },
  {
   "cell_type": "code",
   "execution_count": 166,
   "id": "91e34f6b",
   "metadata": {},
   "outputs": [
    {
     "name": "stdout",
     "output_type": "stream",
     "text": [
      "\n",
      "\n",
      "----- Change -----\n",
      "date            datetime64[ns]\n",
      "yr_built        datetime64[ns]\n",
      "yr_renovated             int64\n",
      "dtype: object\n"
     ]
    }
   ],
   "source": [
    "# change 'date' type\n",
    "#print(data[['date','yr_built','yr_renovated']].head(),'\\n')\n",
    "#print(data[['date','yr_built','yr_renovated']].dtypes)\n",
    "data['date'] = pd.to_datetime(data['date'], format='%Y-%m-%d')\n",
    "data['yr_built'] = pd.to_datetime( data['yr_built'], format='%Y')\n",
    "\n",
    "print('\\n\\n----- Change -----')\n",
    "print(data[['date','yr_built','yr_renovated']].dtypes)\n"
   ]
  },
  {
   "cell_type": "markdown",
   "id": "902f52f5",
   "metadata": {},
   "source": [
    "## Droping Dupplicates"
   ]
  },
  {
   "cell_type": "code",
   "execution_count": 167,
   "id": "18961f8d",
   "metadata": {},
   "outputs": [
    {
     "name": "stdout",
     "output_type": "stream",
     "text": [
      "21613  número de linhas\n",
      "21436  ids únicos\n",
      "177  número de ids duplicados\n"
     ]
    }
   ],
   "source": [
    "print(data.shape[0], ' número de linhas')\n",
    "print(data['id'].unique().shape[0], ' ids únicos')\n",
    "print(data.shape[0] - data['id'].unique().shape[0], ' número de ids duplicados')"
   ]
  },
  {
   "cell_type": "code",
   "execution_count": 168,
   "id": "49668681",
   "metadata": {},
   "outputs": [
    {
     "name": "stdout",
     "output_type": "stream",
     "text": [
      "nova dimensão: (21436, 21)\n"
     ]
    }
   ],
   "source": [
    "# sorting df by date\n",
    "data = data.sort_values('date', ascending=True)\n",
    "\n",
    "# del ids that first appear\n",
    "data = data.drop_duplicates(subset='id', keep='last')\n",
    "\n",
    "print('nova dimensão:', data.shape)"
   ]
  },
  {
   "cell_type": "code",
   "execution_count": 169,
   "id": "403f2fbb",
   "metadata": {},
   "outputs": [],
   "source": [
    "data.to_csv('../data/dataset.csv', index=False)\n",
    "data = pd.read_csv('../data/dataset.csv')"
   ]
  },
  {
   "cell_type": "markdown",
   "id": "52cbdd4a",
   "metadata": {},
   "source": [
    "# Descriptive Statistics"
   ]
  },
  {
   "cell_type": "code",
   "execution_count": 170,
   "id": "1288181d",
   "metadata": {},
   "outputs": [
    {
     "name": "stdout",
     "output_type": "stream",
     "text": [
      "       attributes           max        min          mean        median           std\n",
      "0              id 9900000190.00 1000102.00 4580765328.18 3904921185.00 2876522535.73\n",
      "1           price    7700000.00   75000.00     541649.96     450000.00     367306.36\n",
      "2        bedrooms         33.00       0.00          3.37          3.00          0.93\n",
      "3       bathrooms          8.00       0.00          2.12          2.25          0.77\n",
      "4     sqft_living      13540.00     290.00       2082.70       1920.00        919.13\n",
      "5        sqft_lot    1651359.00     520.00      15135.64       7614.00      41537.65\n",
      "6          floors          3.50       1.00          1.50          1.50          0.54\n",
      "7      waterfront          1.00       0.00          0.01          0.00          0.09\n",
      "8            view          4.00       0.00          0.24          0.00          0.77\n",
      "9       condition          5.00       1.00          3.41          3.00          0.65\n",
      "10          grade         13.00       1.00          7.66          7.00          1.17\n",
      "11     sqft_above       9410.00     290.00       1790.96       1560.00        829.01\n",
      "12  sqft_basement       4820.00       0.00        291.74          0.00        442.77\n",
      "13   yr_renovated       2015.00       0.00         84.73          0.00        402.42\n",
      "14        zipcode      98199.00   98001.00      98077.86      98065.00         53.47\n",
      "15            lat         47.78      47.16         47.56         47.57          0.14\n",
      "16           long       -121.31    -122.52       -122.21       -122.23          0.14\n",
      "17  sqft_living15       6210.00     399.00       1988.31       1840.00        685.68\n",
      "18     sqft_lot15     871200.00     651.00      12785.96       7620.00      27374.83\n"
     ]
    }
   ],
   "source": [
    "num_attributes = data.select_dtypes(include=['int64', 'float64'])\n",
    "\n",
    "media = pd.DataFrame(num_attributes.apply(np.mean))\n",
    "mediana = pd.DataFrame(num_attributes.apply(np.median))\n",
    "std = pd.DataFrame(num_attributes.apply(np.std))\n",
    "\n",
    "max_ = pd.DataFrame(num_attributes.apply(np.max))\n",
    "min_ = pd.DataFrame(num_attributes.apply(np.min))\n",
    "\n",
    "desc = pd.concat([max_, min_, media, mediana, std], axis=1).reset_index()\n",
    "desc.columns = ['attributes', 'max', 'min', 'mean', 'median', 'std']\n",
    "\n",
    "print(desc)"
   ]
  },
  {
   "cell_type": "markdown",
   "id": "6e263306",
   "metadata": {},
   "source": [
    "## Features Creation"
   ]
  },
  {
   "cell_type": "code",
   "execution_count": 171,
   "id": "4f1bac6e",
   "metadata": {},
   "outputs": [
    {
     "name": "stdout",
     "output_type": "stream",
     "text": [
      "DATASET ATUALIZADO\n"
     ]
    }
   ],
   "source": [
    "geo = pd.read_csv('../data/geolocator.csv') \n",
    "\n",
    "if len(geo) != (len(data) - 1):\n",
    "        \n",
    "    df_geo = data[['id','lat','long']].copy()\n",
    "    df_geo['road'] = 'NA'\n",
    "    df_geo['house_number'] = 'NA'\n",
    "    df_geo['neighbourhood'] = 'NA'\n",
    "    df_geo['city'] = 'NA'\n",
    "    df_geo['country'] = 'NA'\n",
    "    df_geo['state'] = 'NA'\n",
    "    df_geo['osm'] = 'NA'\n",
    "    \n",
    "    print('INICIO DA COLETA')\n",
    "    s = 0\n",
    "    e = 2000\n",
    "    \n",
    "    print('NÚMERO DE LINHAS', len(df_geo))\n",
    "    \n",
    "    while s < len(df_geo):\n",
    "        \n",
    "        geolocator = Nominatim( user_agent='geoapiExercises')\n",
    "        \n",
    "        try:\n",
    "            for i in range(s,e):\n",
    "\n",
    "                query = str(df_geo.loc[i, 'lat']) + ',' + str(df_geo.loc[i,'long'])\n",
    "\n",
    "                response = geolocator.reverse(query) #API Request\n",
    "\n",
    "                #Populate data\n",
    "                if 'house_number' in response.raw['address']:\n",
    "                    df_geo.loc[i, 'house_number'] = response.raw['address']['house_number']\n",
    "\n",
    "                if 'road' in response.raw['address']:\n",
    "                    df_geo.loc[i, 'road'] = response.raw['address']['road']\n",
    "\n",
    "                if 'neighbourhood' in response.raw['address']:\n",
    "                    df_geo.loc[i, 'neighbourhood'] = response.raw['address']['neighbourhood']\n",
    "\n",
    "                if 'city' in response.raw['address']:\n",
    "                    df_geo.loc[i, 'city'] = response.raw['address']['city']\n",
    "\n",
    "                if 'country' in response.raw['address']:\n",
    "                    df_geo.loc[i, 'country'] = response.raw['address']['country']\n",
    "\n",
    "                if 'state' in response.raw['address']:\n",
    "                    df_geo.loc[i, 'state'] = response.raw['address']['state']\n",
    "\n",
    "                if 'osm_type' in response.raw:\n",
    "                    df_geo.loc[i, 'osm'] = response.raw['osm_type']\n",
    "\n",
    "            print('UPDATE LINES {} | {}'.format(s,e))\n",
    "\n",
    "            aux = df_geo\n",
    "            aux.to_csv('../data/geolocator.csv', index=False, header=False)\n",
    "            \n",
    "            s = e + 1\n",
    "            e = e + 2000\n",
    "            if e >= len(df_geo):\n",
    "                e = len(df_geo)\n",
    "            else:\n",
    "                e = e\n",
    "        \n",
    "        except:\n",
    "            print('ERRO NA REQUISIÇÃO')\n",
    "        \n",
    "    print('FIM DA COLETA')\n",
    "    \n",
    "    cols_name = ['id','lat','long','road','house_number','neighbourhood','city','country','state','osm']\n",
    "    \n",
    "    df_geo = pd.read_csv('../data/geolocator.csv',names=cols_name)\n",
    "    df_geo = df_geo.drop(columns=['lat', 'long'])\n",
    "    \n",
    "    data = pd.merge(data, df_geo, how='left', on='id')\n",
    "\n",
    "else:\n",
    "    print('DATASET ATUALIZADO')\n",
    "    \n",
    "    cols_name = ['id','lat','long','road','house_number','neighbourhood','city','country','state','osm']\n",
    "    df_geo = pd.read_csv('../data/geolocator.csv',names=cols_name)\n",
    "    df_geo = df_geo.drop(columns=['lat', 'long'])\n",
    "    \n",
    "    data = pd.merge(data, df_geo, how='left', on='id')    "
   ]
  },
  {
   "cell_type": "code",
   "execution_count": 196,
   "id": "68490ad5",
   "metadata": {},
   "outputs": [],
   "source": [
    "data['dormitory_type'] = 'values'\n",
    "data.loc[data['bedrooms'] == 1, 'dormitory_type'] = 'studio'\n",
    "data.loc[data['bedrooms'] == 2, 'dormitory_type'] = 'apartament'\n",
    "data.loc[data['bedrooms'] >= 3, 'dormitory_type'] = 'house'"
   ]
  },
  {
   "cell_type": "code",
   "execution_count": 172,
   "id": "25b23b24",
   "metadata": {},
   "outputs": [
    {
     "data": {
      "text/html": [
       "<div>\n",
       "<style scoped>\n",
       "    .dataframe tbody tr th:only-of-type {\n",
       "        vertical-align: middle;\n",
       "    }\n",
       "\n",
       "    .dataframe tbody tr th {\n",
       "        vertical-align: top;\n",
       "    }\n",
       "\n",
       "    .dataframe thead th {\n",
       "        text-align: right;\n",
       "    }\n",
       "</style>\n",
       "<table border=\"1\" class=\"dataframe\">\n",
       "  <thead>\n",
       "    <tr style=\"text-align: right;\">\n",
       "      <th></th>\n",
       "      <th>id</th>\n",
       "      <th>price</th>\n",
       "      <th>zipcode</th>\n",
       "      <th>median_price</th>\n",
       "    </tr>\n",
       "  </thead>\n",
       "  <tbody>\n",
       "    <tr>\n",
       "      <th>3777</th>\n",
       "      <td>723049197</td>\n",
       "      <td>195000.00</td>\n",
       "      <td>98168</td>\n",
       "      <td>237000.00</td>\n",
       "    </tr>\n",
       "    <tr>\n",
       "      <th>17400</th>\n",
       "      <td>1324300126</td>\n",
       "      <td>415000.00</td>\n",
       "      <td>98107</td>\n",
       "      <td>529975.00</td>\n",
       "    </tr>\n",
       "    <tr>\n",
       "      <th>15665</th>\n",
       "      <td>1250201130</td>\n",
       "      <td>410000.00</td>\n",
       "      <td>98144</td>\n",
       "      <td>452500.00</td>\n",
       "    </tr>\n",
       "    <tr>\n",
       "      <th>764</th>\n",
       "      <td>644200040</td>\n",
       "      <td>1000000.00</td>\n",
       "      <td>98004</td>\n",
       "      <td>1150000.00</td>\n",
       "    </tr>\n",
       "    <tr>\n",
       "      <th>14656</th>\n",
       "      <td>7399000230</td>\n",
       "      <td>350000.00</td>\n",
       "      <td>98055</td>\n",
       "      <td>297225.00</td>\n",
       "    </tr>\n",
       "  </tbody>\n",
       "</table>\n",
       "</div>"
      ],
      "text/plain": [
       "               id      price  zipcode  median_price\n",
       "3777    723049197  195000.00    98168     237000.00\n",
       "17400  1324300126  415000.00    98107     529975.00\n",
       "15665  1250201130  410000.00    98144     452500.00\n",
       "764     644200040 1000000.00    98004    1150000.00\n",
       "14656  7399000230  350000.00    98055     297225.00"
      ]
     },
     "execution_count": 172,
     "metadata": {},
     "output_type": "execute_result"
    }
   ],
   "source": [
    "# media de preço por zipcode\n",
    "\n",
    "# create media\n",
    "temp = data[['price','zipcode']].groupby('zipcode').median().reset_index().rename(columns={'price': 'median_price'})\n",
    "temp.head()\n",
    "\n",
    "# merge on dataset\n",
    "data = pd.merge(data, temp, on='zipcode', how='left')\n",
    "data[['id', 'price', 'zipcode', 'median_price']].sample(5)\n"
   ]
  },
  {
   "cell_type": "code",
   "execution_count": 173,
   "id": "71c42a5a",
   "metadata": {},
   "outputs": [
    {
     "data": {
      "text/html": [
       "<div>\n",
       "<style scoped>\n",
       "    .dataframe tbody tr th:only-of-type {\n",
       "        vertical-align: middle;\n",
       "    }\n",
       "\n",
       "    .dataframe tbody tr th {\n",
       "        vertical-align: top;\n",
       "    }\n",
       "\n",
       "    .dataframe thead th {\n",
       "        text-align: right;\n",
       "    }\n",
       "</style>\n",
       "<table border=\"1\" class=\"dataframe\">\n",
       "  <thead>\n",
       "    <tr style=\"text-align: right;\">\n",
       "      <th></th>\n",
       "      <th>id</th>\n",
       "      <th>zipcode</th>\n",
       "      <th>price</th>\n",
       "      <th>median_price</th>\n",
       "      <th>condition</th>\n",
       "      <th>decision</th>\n",
       "    </tr>\n",
       "  </thead>\n",
       "  <tbody>\n",
       "    <tr>\n",
       "      <th>10634</th>\n",
       "      <td>1687000220</td>\n",
       "      <td>98001</td>\n",
       "      <td>285000.00</td>\n",
       "      <td>260000.00</td>\n",
       "      <td>3</td>\n",
       "      <td>0</td>\n",
       "    </tr>\n",
       "    <tr>\n",
       "      <th>13600</th>\n",
       "      <td>7942601810</td>\n",
       "      <td>98122</td>\n",
       "      <td>733500.00</td>\n",
       "      <td>574000.00</td>\n",
       "      <td>3</td>\n",
       "      <td>0</td>\n",
       "    </tr>\n",
       "    <tr>\n",
       "      <th>4031</th>\n",
       "      <td>9346700150</td>\n",
       "      <td>98007</td>\n",
       "      <td>552000.00</td>\n",
       "      <td>560000.00</td>\n",
       "      <td>3</td>\n",
       "      <td>1</td>\n",
       "    </tr>\n",
       "    <tr>\n",
       "      <th>13202</th>\n",
       "      <td>7519000335</td>\n",
       "      <td>98117</td>\n",
       "      <td>865000.00</td>\n",
       "      <td>545000.00</td>\n",
       "      <td>5</td>\n",
       "      <td>0</td>\n",
       "    </tr>\n",
       "    <tr>\n",
       "      <th>8952</th>\n",
       "      <td>5469501410</td>\n",
       "      <td>98042</td>\n",
       "      <td>490000.00</td>\n",
       "      <td>292500.00</td>\n",
       "      <td>4</td>\n",
       "      <td>0</td>\n",
       "    </tr>\n",
       "  </tbody>\n",
       "</table>\n",
       "</div>"
      ],
      "text/plain": [
       "               id  zipcode     price  median_price  condition  decision\n",
       "10634  1687000220    98001 285000.00     260000.00          3         0\n",
       "13600  7942601810    98122 733500.00     574000.00          3         0\n",
       "4031   9346700150    98007 552000.00     560000.00          3         1\n",
       "13202  7519000335    98117 865000.00     545000.00          5         0\n",
       "8952   5469501410    98042 490000.00     292500.00          4         0"
      ]
     },
     "execution_count": 173,
     "metadata": {},
     "output_type": "execute_result"
    }
   ],
   "source": [
    "# buying decision\n",
    "# as variaveis levadas em conta são média de preço da região e a condição\n",
    "data['decision'] = data[['price', 'median_price', 'condition']].apply(lambda x: 1 if ((x['price'] <= x['median_price']) & (x['condition']>=3)) else 0, axis=1) \n",
    "data[['id', 'zipcode', 'price', 'median_price', 'condition', 'decision']].sample(5)"
   ]
  },
  {
   "cell_type": "code",
   "execution_count": 174,
   "id": "0d1d6703",
   "metadata": {},
   "outputs": [
    {
     "data": {
      "text/html": [
       "<div>\n",
       "<style scoped>\n",
       "    .dataframe tbody tr th:only-of-type {\n",
       "        vertical-align: middle;\n",
       "    }\n",
       "\n",
       "    .dataframe tbody tr th {\n",
       "        vertical-align: top;\n",
       "    }\n",
       "\n",
       "    .dataframe thead th {\n",
       "        text-align: right;\n",
       "    }\n",
       "</style>\n",
       "<table border=\"1\" class=\"dataframe\">\n",
       "  <thead>\n",
       "    <tr style=\"text-align: right;\">\n",
       "      <th></th>\n",
       "      <th>id</th>\n",
       "      <th>zipcode</th>\n",
       "      <th>price</th>\n",
       "      <th>median_price</th>\n",
       "      <th>condition</th>\n",
       "      <th>decision</th>\n",
       "      <th>selling_suggestion</th>\n",
       "    </tr>\n",
       "  </thead>\n",
       "  <tbody>\n",
       "    <tr>\n",
       "      <th>8177</th>\n",
       "      <td>5489200435</td>\n",
       "      <td>98126</td>\n",
       "      <td>550000.00</td>\n",
       "      <td>396587.50</td>\n",
       "      <td>3</td>\n",
       "      <td>0</td>\n",
       "      <td>0.00</td>\n",
       "    </tr>\n",
       "    <tr>\n",
       "      <th>1079</th>\n",
       "      <td>1498302774</td>\n",
       "      <td>98144</td>\n",
       "      <td>271310.00</td>\n",
       "      <td>452500.00</td>\n",
       "      <td>2</td>\n",
       "      <td>0</td>\n",
       "      <td>0.00</td>\n",
       "    </tr>\n",
       "    <tr>\n",
       "      <th>6420</th>\n",
       "      <td>3831000010</td>\n",
       "      <td>98031</td>\n",
       "      <td>235000.00</td>\n",
       "      <td>289029.50</td>\n",
       "      <td>3</td>\n",
       "      <td>1</td>\n",
       "      <td>293750.00</td>\n",
       "    </tr>\n",
       "    <tr>\n",
       "      <th>14230</th>\n",
       "      <td>6386550040</td>\n",
       "      <td>98031</td>\n",
       "      <td>345500.00</td>\n",
       "      <td>289029.50</td>\n",
       "      <td>3</td>\n",
       "      <td>0</td>\n",
       "      <td>0.00</td>\n",
       "    </tr>\n",
       "    <tr>\n",
       "      <th>14923</th>\n",
       "      <td>2557000090</td>\n",
       "      <td>98023</td>\n",
       "      <td>238000.00</td>\n",
       "      <td>269000.00</td>\n",
       "      <td>3</td>\n",
       "      <td>1</td>\n",
       "      <td>297500.00</td>\n",
       "    </tr>\n",
       "  </tbody>\n",
       "</table>\n",
       "</div>"
      ],
      "text/plain": [
       "               id  zipcode     price  median_price  condition  decision  selling_suggestion\n",
       "8177   5489200435    98126 550000.00     396587.50          3         0                0.00\n",
       "1079   1498302774    98144 271310.00     452500.00          2         0                0.00\n",
       "6420   3831000010    98031 235000.00     289029.50          3         1           293750.00\n",
       "14230  6386550040    98031 345500.00     289029.50          3         0                0.00\n",
       "14923  2557000090    98023 238000.00     269000.00          3         1           297500.00"
      ]
     },
     "execution_count": 174,
     "metadata": {},
     "output_type": "execute_result"
    }
   ],
   "source": [
    "# selling price suggestion\n",
    "data['selling_suggestion'] = data[['price', 'median_price', 'condition']].apply(lambda x: x['price']*1.25\n",
    "                                                                    if ((x['price'] <= x['median_price']) & (x['condition']>=3)) else 0, axis=1)\n",
    "\n",
    "data[['id', 'zipcode', 'price', 'median_price', 'condition', 'decision', 'selling_suggestion']].sample(5)\n"
   ]
  },
  {
   "cell_type": "code",
   "execution_count": 175,
   "id": "8a9329c7",
   "metadata": {},
   "outputs": [
    {
     "data": {
      "text/html": [
       "<div>\n",
       "<style scoped>\n",
       "    .dataframe tbody tr th:only-of-type {\n",
       "        vertical-align: middle;\n",
       "    }\n",
       "\n",
       "    .dataframe tbody tr th {\n",
       "        vertical-align: top;\n",
       "    }\n",
       "\n",
       "    .dataframe thead th {\n",
       "        text-align: right;\n",
       "    }\n",
       "</style>\n",
       "<table border=\"1\" class=\"dataframe\">\n",
       "  <thead>\n",
       "    <tr style=\"text-align: right;\">\n",
       "      <th></th>\n",
       "      <th>id</th>\n",
       "      <th>zipcode</th>\n",
       "      <th>price</th>\n",
       "      <th>median_price</th>\n",
       "      <th>condition</th>\n",
       "      <th>decision</th>\n",
       "      <th>selling_suggestion</th>\n",
       "      <th>expected_profit</th>\n",
       "    </tr>\n",
       "  </thead>\n",
       "  <tbody>\n",
       "    <tr>\n",
       "      <th>206</th>\n",
       "      <td>6301800020</td>\n",
       "      <td>98034</td>\n",
       "      <td>535000.00</td>\n",
       "      <td>446000.00</td>\n",
       "      <td>3</td>\n",
       "      <td>0</td>\n",
       "      <td>0.00</td>\n",
       "      <td>0.00</td>\n",
       "    </tr>\n",
       "    <tr>\n",
       "      <th>14268</th>\n",
       "      <td>1441300130</td>\n",
       "      <td>98038</td>\n",
       "      <td>319000.00</td>\n",
       "      <td>342500.00</td>\n",
       "      <td>5</td>\n",
       "      <td>1</td>\n",
       "      <td>398750.00</td>\n",
       "      <td>79750.00</td>\n",
       "    </tr>\n",
       "    <tr>\n",
       "      <th>1600</th>\n",
       "      <td>6661200050</td>\n",
       "      <td>98038</td>\n",
       "      <td>175000.00</td>\n",
       "      <td>342500.00</td>\n",
       "      <td>3</td>\n",
       "      <td>1</td>\n",
       "      <td>218750.00</td>\n",
       "      <td>43750.00</td>\n",
       "    </tr>\n",
       "    <tr>\n",
       "      <th>8163</th>\n",
       "      <td>7852000110</td>\n",
       "      <td>98065</td>\n",
       "      <td>441500.00</td>\n",
       "      <td>500000.00</td>\n",
       "      <td>3</td>\n",
       "      <td>1</td>\n",
       "      <td>551875.00</td>\n",
       "      <td>110375.00</td>\n",
       "    </tr>\n",
       "    <tr>\n",
       "      <th>10787</th>\n",
       "      <td>4232401265</td>\n",
       "      <td>98112</td>\n",
       "      <td>1112750.00</td>\n",
       "      <td>917500.00</td>\n",
       "      <td>3</td>\n",
       "      <td>0</td>\n",
       "      <td>0.00</td>\n",
       "      <td>0.00</td>\n",
       "    </tr>\n",
       "  </tbody>\n",
       "</table>\n",
       "</div>"
      ],
      "text/plain": [
       "               id  zipcode      price  median_price  condition  decision  selling_suggestion  expected_profit\n",
       "206    6301800020    98034  535000.00     446000.00          3         0                0.00             0.00\n",
       "14268  1441300130    98038  319000.00     342500.00          5         1           398750.00         79750.00\n",
       "1600   6661200050    98038  175000.00     342500.00          3         1           218750.00         43750.00\n",
       "8163   7852000110    98065  441500.00     500000.00          3         1           551875.00        110375.00\n",
       "10787  4232401265    98112 1112750.00     917500.00          3         0                0.00             0.00"
      ]
     },
     "execution_count": 175,
     "metadata": {},
     "output_type": "execute_result"
    }
   ],
   "source": [
    "# expected profit\n",
    "data['expected_profit'] = data[['price', 'selling_suggestion']].apply(lambda x: 0 if x['selling_suggestion']==0\n",
    "                                                                                        else (x['selling_suggestion'] - x['price']), axis=1) \n",
    "\n",
    "data[['id', 'zipcode', 'price', 'median_price', 'condition', 'decision', 'selling_suggestion', 'expected_profit']].sample(5)"
   ]
  },
  {
   "cell_type": "code",
   "execution_count": 176,
   "id": "84376154",
   "metadata": {},
   "outputs": [
    {
     "data": {
      "text/html": [
       "<div>\n",
       "<style scoped>\n",
       "    .dataframe tbody tr th:only-of-type {\n",
       "        vertical-align: middle;\n",
       "    }\n",
       "\n",
       "    .dataframe tbody tr th {\n",
       "        vertical-align: top;\n",
       "    }\n",
       "\n",
       "    .dataframe thead th {\n",
       "        text-align: right;\n",
       "    }\n",
       "</style>\n",
       "<table border=\"1\" class=\"dataframe\">\n",
       "  <thead>\n",
       "    <tr style=\"text-align: right;\">\n",
       "      <th></th>\n",
       "      <th>date</th>\n",
       "      <th>season</th>\n",
       "    </tr>\n",
       "  </thead>\n",
       "  <tbody>\n",
       "    <tr>\n",
       "      <th>0</th>\n",
       "      <td>2014-05-02</td>\n",
       "      <td>spring</td>\n",
       "    </tr>\n",
       "    <tr>\n",
       "      <th>1</th>\n",
       "      <td>2014-05-02</td>\n",
       "      <td>spring</td>\n",
       "    </tr>\n",
       "    <tr>\n",
       "      <th>2</th>\n",
       "      <td>2014-05-02</td>\n",
       "      <td>spring</td>\n",
       "    </tr>\n",
       "    <tr>\n",
       "      <th>3</th>\n",
       "      <td>2014-05-02</td>\n",
       "      <td>spring</td>\n",
       "    </tr>\n",
       "    <tr>\n",
       "      <th>4</th>\n",
       "      <td>2014-05-02</td>\n",
       "      <td>spring</td>\n",
       "    </tr>\n",
       "  </tbody>\n",
       "</table>\n",
       "</div>"
      ],
      "text/plain": [
       "        date  season\n",
       "0 2014-05-02  spring\n",
       "1 2014-05-02  spring\n",
       "2 2014-05-02  spring\n",
       "3 2014-05-02  spring\n",
       "4 2014-05-02  spring"
      ]
     },
     "execution_count": 176,
     "metadata": {},
     "output_type": "execute_result"
    }
   ],
   "source": [
    "data['date'] = pd.to_datetime(data['date'], format='%Y-%m-%d')\n",
    "# seasons of the year\n",
    "def date_season(date):\n",
    "    \n",
    "    year = str(date.year)\n",
    "    seasons = {'spring': pd.date_range(start='21/03/'+year, end='20/06/'+year),\n",
    "               'summer': pd.date_range(start='21/06/'+year, end='22/09/'+year),\n",
    "               'fall': pd.date_range(start='23/09/'+year, end='20/12/'+year)}\n",
    "    if date in seasons['spring']:\n",
    "        return 'spring'\n",
    "    if date in seasons['summer']:\n",
    "        return 'summer'\n",
    "    if date in seasons['fall']:\n",
    "        return 'fall'\n",
    "    else:\n",
    "        return 'winter'\n",
    "\n",
    "data['season'] = data['date'].map(date_season)\n",
    "data[['date','season']].head()"
   ]
  },
  {
   "cell_type": "code",
   "execution_count": 177,
   "id": "92a04ee2",
   "metadata": {},
   "outputs": [
    {
     "data": {
      "text/html": [
       "<div>\n",
       "<style scoped>\n",
       "    .dataframe tbody tr th:only-of-type {\n",
       "        vertical-align: middle;\n",
       "    }\n",
       "\n",
       "    .dataframe tbody tr th {\n",
       "        vertical-align: top;\n",
       "    }\n",
       "\n",
       "    .dataframe thead th {\n",
       "        text-align: right;\n",
       "    }\n",
       "</style>\n",
       "<table border=\"1\" class=\"dataframe\">\n",
       "  <thead>\n",
       "    <tr style=\"text-align: right;\">\n",
       "      <th></th>\n",
       "      <th>id</th>\n",
       "      <th>price</th>\n",
       "      <th>zipcode</th>\n",
       "      <th>median_price</th>\n",
       "      <th>med_fall</th>\n",
       "      <th>med_spring</th>\n",
       "      <th>med_summer</th>\n",
       "      <th>med_winter</th>\n",
       "    </tr>\n",
       "  </thead>\n",
       "  <tbody>\n",
       "    <tr>\n",
       "      <th>4296</th>\n",
       "      <td>5122400025</td>\n",
       "      <td>568000.00</td>\n",
       "      <td>98166</td>\n",
       "      <td>392500.00</td>\n",
       "      <td>319725.00</td>\n",
       "      <td>410000.00</td>\n",
       "      <td>407000.00</td>\n",
       "      <td>419000.00</td>\n",
       "    </tr>\n",
       "    <tr>\n",
       "      <th>15142</th>\n",
       "      <td>3578700017</td>\n",
       "      <td>695000.00</td>\n",
       "      <td>98028</td>\n",
       "      <td>442500.00</td>\n",
       "      <td>442000.00</td>\n",
       "      <td>449950.00</td>\n",
       "      <td>425000.00</td>\n",
       "      <td>447500.00</td>\n",
       "    </tr>\n",
       "    <tr>\n",
       "      <th>7590</th>\n",
       "      <td>7215730410</td>\n",
       "      <td>727000.00</td>\n",
       "      <td>98075</td>\n",
       "      <td>739999.50</td>\n",
       "      <td>707500.00</td>\n",
       "      <td>743000.00</td>\n",
       "      <td>739900.00</td>\n",
       "      <td>763000.00</td>\n",
       "    </tr>\n",
       "    <tr>\n",
       "      <th>7864</th>\n",
       "      <td>4302200695</td>\n",
       "      <td>270000.00</td>\n",
       "      <td>98106</td>\n",
       "      <td>315000.00</td>\n",
       "      <td>315000.00</td>\n",
       "      <td>312000.00</td>\n",
       "      <td>315000.00</td>\n",
       "      <td>320000.00</td>\n",
       "    </tr>\n",
       "    <tr>\n",
       "      <th>16019</th>\n",
       "      <td>8899000430</td>\n",
       "      <td>325500.00</td>\n",
       "      <td>98055</td>\n",
       "      <td>297225.00</td>\n",
       "      <td>290000.00</td>\n",
       "      <td>305000.00</td>\n",
       "      <td>293000.00</td>\n",
       "      <td>308000.00</td>\n",
       "    </tr>\n",
       "  </tbody>\n",
       "</table>\n",
       "</div>"
      ],
      "text/plain": [
       "               id     price  zipcode  median_price  med_fall  med_spring  med_summer  med_winter\n",
       "4296   5122400025 568000.00    98166     392500.00 319725.00   410000.00   407000.00   419000.00\n",
       "15142  3578700017 695000.00    98028     442500.00 442000.00   449950.00   425000.00   447500.00\n",
       "7590   7215730410 727000.00    98075     739999.50 707500.00   743000.00   739900.00   763000.00\n",
       "7864   4302200695 270000.00    98106     315000.00 315000.00   312000.00   315000.00   320000.00\n",
       "16019  8899000430 325500.00    98055     297225.00 290000.00   305000.00   293000.00   308000.00"
      ]
     },
     "execution_count": 177,
     "metadata": {},
     "output_type": "execute_result"
    }
   ],
   "source": [
    "# median price per season and zipcode\n",
    "\n",
    "# grouping by zipcode and median price by season\n",
    "aux = data[['price','zipcode','season']].groupby(['zipcode', 'season']).median().reset_index()\n",
    "\n",
    "aux1 = aux.pivot(index='zipcode', columns='season', values='price').reset_index()\n",
    "aux1 = aux1.rename(columns={'fall':'med_fall', 'spring':'med_spring', 'summer':'med_summer', 'winter':'med_winter'})\n",
    "\n",
    "# merge\n",
    "data = pd.merge(data, aux1, on='zipcode', how='left')\n",
    "\n",
    "# sample\n",
    "data[['id', 'price', 'zipcode', 'median_price', 'med_fall', 'med_spring', 'med_summer', 'med_winter']].sample(5)"
   ]
  },
  {
   "cell_type": "code",
   "execution_count": 178,
   "id": "7f7a65fe",
   "metadata": {},
   "outputs": [
    {
     "data": {
      "text/html": [
       "<div>\n",
       "<style scoped>\n",
       "    .dataframe tbody tr th:only-of-type {\n",
       "        vertical-align: middle;\n",
       "    }\n",
       "\n",
       "    .dataframe tbody tr th {\n",
       "        vertical-align: top;\n",
       "    }\n",
       "\n",
       "    .dataframe thead th {\n",
       "        text-align: right;\n",
       "    }\n",
       "</style>\n",
       "<table border=\"1\" class=\"dataframe\">\n",
       "  <thead>\n",
       "    <tr style=\"text-align: right;\">\n",
       "      <th></th>\n",
       "      <th>id</th>\n",
       "      <th>price</th>\n",
       "      <th>zipcode</th>\n",
       "      <th>median_price</th>\n",
       "      <th>med_fall</th>\n",
       "      <th>med_spring</th>\n",
       "      <th>med_summer</th>\n",
       "      <th>med_winter</th>\n",
       "      <th>decision</th>\n",
       "      <th>season_sell</th>\n",
       "    </tr>\n",
       "  </thead>\n",
       "  <tbody>\n",
       "    <tr>\n",
       "      <th>0</th>\n",
       "      <td>5561000190</td>\n",
       "      <td>437500.00</td>\n",
       "      <td>98027</td>\n",
       "      <td>571000.00</td>\n",
       "      <td>545000.00</td>\n",
       "      <td>574950.00</td>\n",
       "      <td>575000.00</td>\n",
       "      <td>538100.00</td>\n",
       "      <td>1</td>\n",
       "      <td>autumn spring summer winter</td>\n",
       "    </tr>\n",
       "    <tr>\n",
       "      <th>1</th>\n",
       "      <td>472000620</td>\n",
       "      <td>790000.00</td>\n",
       "      <td>98117</td>\n",
       "      <td>545000.00</td>\n",
       "      <td>535000.00</td>\n",
       "      <td>544000.00</td>\n",
       "      <td>545000.00</td>\n",
       "      <td>554500.00</td>\n",
       "      <td>0</td>\n",
       "      <td></td>\n",
       "    </tr>\n",
       "    <tr>\n",
       "      <th>2</th>\n",
       "      <td>1024069009</td>\n",
       "      <td>675000.00</td>\n",
       "      <td>98029</td>\n",
       "      <td>574500.00</td>\n",
       "      <td>575000.00</td>\n",
       "      <td>592500.00</td>\n",
       "      <td>561000.00</td>\n",
       "      <td>555000.00</td>\n",
       "      <td>0</td>\n",
       "      <td></td>\n",
       "    </tr>\n",
       "    <tr>\n",
       "      <th>3</th>\n",
       "      <td>7853361370</td>\n",
       "      <td>555000.00</td>\n",
       "      <td>98065</td>\n",
       "      <td>500000.00</td>\n",
       "      <td>452250.00</td>\n",
       "      <td>516000.00</td>\n",
       "      <td>485000.00</td>\n",
       "      <td>520000.00</td>\n",
       "      <td>0</td>\n",
       "      <td></td>\n",
       "    </tr>\n",
       "    <tr>\n",
       "      <th>4</th>\n",
       "      <td>5056500260</td>\n",
       "      <td>440000.00</td>\n",
       "      <td>98006</td>\n",
       "      <td>760184.50</td>\n",
       "      <td>760369.00</td>\n",
       "      <td>760000.00</td>\n",
       "      <td>758000.00</td>\n",
       "      <td>791270.50</td>\n",
       "      <td>1</td>\n",
       "      <td>autumn spring summer winter</td>\n",
       "    </tr>\n",
       "  </tbody>\n",
       "</table>\n",
       "</div>"
      ],
      "text/plain": [
       "           id     price  zipcode  median_price  med_fall  med_spring  med_summer  med_winter  decision                   season_sell\n",
       "0  5561000190 437500.00    98027     571000.00 545000.00   574950.00   575000.00   538100.00         1  autumn spring summer winter \n",
       "1   472000620 790000.00    98117     545000.00 535000.00   544000.00   545000.00   554500.00         0                              \n",
       "2  1024069009 675000.00    98029     574500.00 575000.00   592500.00   561000.00   555000.00         0                              \n",
       "3  7853361370 555000.00    98065     500000.00 452250.00   516000.00   485000.00   520000.00         0                              \n",
       "4  5056500260 440000.00    98006     760184.50 760369.00   760000.00   758000.00   791270.50         1  autumn spring summer winter "
      ]
     },
     "execution_count": 178,
     "metadata": {},
     "output_type": "execute_result"
    }
   ],
   "source": [
    "# Best season to sell\n",
    "\n",
    "data['season_sell'] = ''\n",
    "\n",
    "# defining best season to sell accorgding to avg price for each season\n",
    "for i in range (len(data)):\n",
    "    cols = ['med_fall', 'med_spring', 'med_summer', 'med_winter']\n",
    "    \n",
    "    if data.loc[i, 'decision']!=0:\n",
    "    \n",
    "        if data.loc[i, cols[0]] >= data.loc[i,'price']:\n",
    "            data.loc[i, 'season_sell'] = data.loc[i, 'season_sell'] + 'autumn '\n",
    "        if data.loc[i, cols[1]] >= data.loc[i,'price']:\n",
    "            data.loc[i, 'season_sell'] = data.loc[i, 'season_sell'] + 'spring '\n",
    "        if data.loc[i, cols[2]] >= data.loc[i,'price']:\n",
    "            data.loc[i, 'season_sell'] = data.loc[i, 'season_sell'] + 'summer '\n",
    "        if data.loc[i, cols[3]] >= data.loc[i,'price']:\n",
    "            data.loc[i, 'season_sell'] = data.loc[i, 'season_sell'] + 'winter '\n",
    "\n",
    "data[['id', 'price', 'zipcode', 'median_price', 'med_fall', 'med_spring', 'med_summer', 'med_winter', 'decision', 'season_sell']].head()"
   ]
  },
  {
   "cell_type": "markdown",
   "id": "9bc5b1e4",
   "metadata": {},
   "source": [
    "# Data exploration"
   ]
  },
  {
   "cell_type": "markdown",
   "id": "60c13ef6",
   "metadata": {},
   "source": [
    "## Hypothesis creation"
   ]
  },
  {
   "cell_type": "raw",
   "id": "20512132",
   "metadata": {},
   "source": [
    "1 - Propriedades com vista para o mar são 50% mais caras.\n",
    "2 - As propriedades com porões têm qualidade superior.\n",
    "3 - Propriedades com porões têm maior espaço interior.\n",
    "4 - Imóveis com subsolo são 15% mais caros.\n",
    "5 - As propriedades construídas com porões diminuíram ao longo dos anos.\n",
    "6 - Imóveis com 1 a 2 banheiros são 20% mais caros do que imóveis com até 1 banheiro.\n",
    "7 - Propriedades com 3 quartos são 25% mais caras do que aquelas com 2 quartos.\n",
    "8 - Imóveis com 2 pavimentos são 15% mais caros do que imóveis com 1 pavimento.\n",
    "9 - A maioria das propriedades (+ 50%) ficou disponível durante o verão / primavera.\n",
    "10 - As propriedades disponíveis durante o verão / primavera são 20% mais caras.\n",
    "11 - A maioria das propriedades (+ 50%) está localizada em um rádio a 15 km do lago.\n",
    "12 - A maioria dos imóveis (+ 50%) que devem ser comprados estão em um raio de 15km do lago.\n",
    "13 - As propriedades selecionadas para compra localizadas em um raio de 15 km do lago correspondem a mais de 50% do lucro esperado.\n",
    "14 - As propriedades têm maior espaço interior ao longo do cronograma do ano de construção.\n",
    "15 - Os imóveis que não foram reformados são 40% mais baratos."
   ]
  },
  {
   "cell_type": "markdown",
   "id": "c0699c19",
   "metadata": {},
   "source": [
    "### 1- Propriedades com vista para o mar são 40% mais caras.\n",
    "**Falso:** Propriedades com vista para água tem um valor 211.76% mais caras."
   ]
  },
  {
   "cell_type": "code",
   "execution_count": 179,
   "id": "27955bf8",
   "metadata": {},
   "outputs": [
    {
     "name": "stdout",
     "output_type": "stream",
     "text": [
      "\n",
      "Propriedades com vista para água são 211.76 % mais caras\n"
     ]
    }
   ],
   "source": [
    "aux = data[['waterfront', 'price']].groupby('waterfront').mean().reset_index()\n",
    "\n",
    "not_waterfront = aux.iloc[0,1]\n",
    "yes_waterfront = aux.iloc[1,1]\n",
    "\n",
    "percent = abs( ((yes_waterfront - not_waterfront) / not_waterfront)*100 )\n",
    "print('\\nPropriedades com vista para água são', '{:,.2f}'.format(percent),'% mais caras')"
   ]
  },
  {
   "cell_type": "markdown",
   "id": "c57a6949",
   "metadata": {},
   "source": [
    "### 2- As propriedades com porão têm um estado de conservação melhor.\n",
    "**Verdade:** Propriedades com porões tem qualidade ligeiramente superior."
   ]
  },
  {
   "cell_type": "code",
   "execution_count": 180,
   "id": "bb2b14f9",
   "metadata": {},
   "outputs": [
    {
     "data": {
      "text/plain": [
       "<BarContainer object of 5 artists>"
      ]
     },
     "execution_count": 180,
     "metadata": {},
     "output_type": "execute_result"
    },
    {
     "data": {
      "image/png": "[encoded data removed]",
      "text/plain": [
       "<Figure size 1440x864 with 2 Axes>"
      ]
     },
     "metadata": {
      "needs_background": "light"
     },
     "output_type": "display_data"
    }
   ],
   "source": [
    "fig = plt.figure( figsize=(20, 12))\n",
    "specs = gridspec.GridSpec( ncols=2, nrows=2, figure=fig)\n",
    "\n",
    "ax1 = fig.add_subplot(specs[0, 0])\n",
    "ax2 = fig.add_subplot(specs[0, 1])\n",
    "\n",
    "# Gráfico 1 - Propriedades com porão\n",
    "aux1 = data[data['sqft_basement']!=0][['id','condition','sqft_basement']].copy()\n",
    "y_porao = aux1[['id','condition']].groupby('condition').count().reset_index()\n",
    "\n",
    "ax1.bar(y_porao['condition'], y_porao['id'])\n",
    "\n",
    "# Gráfico 2 - Propriedades sem porão\n",
    "aux2 = data[data['sqft_basement']==0][['id','condition','sqft_basement']].copy()\n",
    "n_porao = aux2[['id','condition']].groupby('condition').count().reset_index()\n",
    "\n",
    "ax2.bar(n_porao['condition'], n_porao['id'])"
   ]
  },
  {
   "cell_type": "code",
   "execution_count": 181,
   "id": "eeca55e8",
   "metadata": {},
   "outputs": [
    {
     "name": "stdout",
     "output_type": "stream",
     "text": [
      "Nota média ponderada para propriedades com porão: 3.52\n",
      "Nota média ponderada para propriedades sem porão: 3.34\n",
      "\n",
      "Pequena diferença na qualidade para propriedades com porão.\n"
     ]
    }
   ],
   "source": [
    "# nota média ponderada\n",
    "avg_yporao = np.average(np.array(y_porao['condition']), weights=np.array(y_porao['id']))\n",
    "print('Nota média ponderada para propriedades com porão: {:,.2f}'.format(avg_yporao))\n",
    "\n",
    "avg_nporao = np.average(np.array(n_porao['condition']), weights=np.array(n_porao['id']))\n",
    "print('Nota média ponderada para propriedades sem porão: {:,.2f}'.format(avg_nporao))\n",
    "\n",
    "print('\\nPequena diferença na qualidade para propriedades com porão.')"
   ]
  },
  {
   "cell_type": "markdown",
   "id": "84d745ce",
   "metadata": {},
   "source": [
    "### 3- Propriedades com porão têm maior espaço interior.\n",
    "**Verdade:** As propriedades com porão têm, em média um espaço 19.83% maior."
   ]
  },
  {
   "cell_type": "code",
   "execution_count": 182,
   "id": "041153b6",
   "metadata": {},
   "outputs": [
    {
     "name": "stdout",
     "output_type": "stream",
     "text": [
      "Média de espaço interior de imóveis com porão: 2,315.30\n",
      "Média de espaço interior de imóveis sem porão: 1,932.21\n",
      "\n",
      "Imóveis com porão tem em média um espaço  19.83 % maior.\n"
     ]
    }
   ],
   "source": [
    "y_porao = data[data['sqft_basement']!=0][['sqft_living']].mean()[0]\n",
    "n_porao = data[data['sqft_basement']==0][['sqft_living']].mean()[0]\n",
    "\n",
    "print('Média de espaço interior de imóveis com porão: {:,.2f}'.format(y_porao))\n",
    "print('Média de espaço interior de imóveis sem porão: {:,.2f}'.format(n_porao))\n",
    "\n",
    "percent = abs( ((y_porao - n_porao) / n_porao)*100 )\n",
    "print('\\nImóveis com porão tem em média um espaço ', '{:,.2f}'.format(percent),'% maior.')"
   ]
  },
  {
   "cell_type": "markdown",
   "id": "ee55c1e0",
   "metadata": {},
   "source": [
    "### 4- Imóveis com porão são 15% mais caros.\n",
    "**Falso:** Imóveis com porão são em média 27,84% mais caros."
   ]
  },
  {
   "cell_type": "code",
   "execution_count": 183,
   "id": "93cbedab",
   "metadata": {},
   "outputs": [
    {
     "name": "stdout",
     "output_type": "stream",
     "text": [
      "Average price of properties with basement: 623,967.32\n",
      "Average price of properties without basement: 488,388.76\n",
      "Properties with basement are 27.76 % more expensive.\n"
     ]
    }
   ],
   "source": [
    "y_porao = data[data['sqft_basement']!=0][['price']].mean()[0]\n",
    "print('Average price of properties with basement: {:,.2f}'.format(y_porao))\n",
    "\n",
    "n_porao = data[data['sqft_basement']==0][['price']].mean()[0]\n",
    "print('Average price of properties without basement: {:,.2f}'.format(n_porao))\n",
    "\n",
    "percent = abs( ((y_porao - n_porao) / n_porao)*100 )\n",
    "print('Properties with basement are', '{:,.2f}'.format(percent),'% more expensive.')"
   ]
  },
  {
   "cell_type": "markdown",
   "id": "3b9c3b6e",
   "metadata": {},
   "source": [
    "### 5- Propriedades construídas com porões diminuíram ao longo dos anos.\n",
    "**Verdade:** Propriedades construídas com subsolos começaram a ter uma diminuição acentuada no fim dos anos 70."
   ]
  },
  {
   "cell_type": "code",
   "execution_count": 184,
   "id": "10d479de",
   "metadata": {},
   "outputs": [
    {
     "data": {
      "text/html": [
       "<div>\n",
       "<style scoped>\n",
       "    .dataframe tbody tr th:only-of-type {\n",
       "        vertical-align: middle;\n",
       "    }\n",
       "\n",
       "    .dataframe tbody tr th {\n",
       "        vertical-align: top;\n",
       "    }\n",
       "\n",
       "    .dataframe thead th {\n",
       "        text-align: right;\n",
       "    }\n",
       "</style>\n",
       "<table border=\"1\" class=\"dataframe\">\n",
       "  <thead>\n",
       "    <tr style=\"text-align: right;\">\n",
       "      <th></th>\n",
       "      <th>yr_built</th>\n",
       "      <th>id</th>\n",
       "    </tr>\n",
       "  </thead>\n",
       "  <tbody>\n",
       "    <tr>\n",
       "      <th>0</th>\n",
       "      <td>1900</td>\n",
       "      <td>86</td>\n",
       "    </tr>\n",
       "    <tr>\n",
       "      <th>1</th>\n",
       "      <td>1901</td>\n",
       "      <td>29</td>\n",
       "    </tr>\n",
       "    <tr>\n",
       "      <th>2</th>\n",
       "      <td>1902</td>\n",
       "      <td>27</td>\n",
       "    </tr>\n",
       "    <tr>\n",
       "      <th>3</th>\n",
       "      <td>1903</td>\n",
       "      <td>45</td>\n",
       "    </tr>\n",
       "    <tr>\n",
       "      <th>4</th>\n",
       "      <td>1904</td>\n",
       "      <td>44</td>\n",
       "    </tr>\n",
       "  </tbody>\n",
       "</table>\n",
       "</div>"
      ],
      "text/plain": [
       "  yr_built  id\n",
       "0     1900  86\n",
       "1     1901  29\n",
       "2     1902  27\n",
       "3     1903  45\n",
       "4     1904  44"
      ]
     },
     "execution_count": 184,
     "metadata": {},
     "output_type": "execute_result"
    }
   ],
   "source": [
    "data['yr_built'] = pd.to_datetime(data['yr_built']).dt.strftime('%Y')\n",
    "\n",
    "total = data[['id', 'yr_built']].groupby('yr_built').count().reset_index()\n",
    "total.head()"
   ]
  },
  {
   "cell_type": "code",
   "execution_count": 185,
   "id": "d00767a2",
   "metadata": {},
   "outputs": [
    {
     "data": {
      "text/html": [
       "<div>\n",
       "<style scoped>\n",
       "    .dataframe tbody tr th:only-of-type {\n",
       "        vertical-align: middle;\n",
       "    }\n",
       "\n",
       "    .dataframe tbody tr th {\n",
       "        vertical-align: top;\n",
       "    }\n",
       "\n",
       "    .dataframe thead th {\n",
       "        text-align: right;\n",
       "    }\n",
       "</style>\n",
       "<table border=\"1\" class=\"dataframe\">\n",
       "  <thead>\n",
       "    <tr style=\"text-align: right;\">\n",
       "      <th></th>\n",
       "      <th>yr_built</th>\n",
       "      <th>sqft_basement</th>\n",
       "    </tr>\n",
       "  </thead>\n",
       "  <tbody>\n",
       "    <tr>\n",
       "      <th>0</th>\n",
       "      <td>1900</td>\n",
       "      <td>29</td>\n",
       "    </tr>\n",
       "    <tr>\n",
       "      <th>1</th>\n",
       "      <td>1901</td>\n",
       "      <td>11</td>\n",
       "    </tr>\n",
       "    <tr>\n",
       "      <th>2</th>\n",
       "      <td>1902</td>\n",
       "      <td>5</td>\n",
       "    </tr>\n",
       "    <tr>\n",
       "      <th>3</th>\n",
       "      <td>1903</td>\n",
       "      <td>10</td>\n",
       "    </tr>\n",
       "    <tr>\n",
       "      <th>4</th>\n",
       "      <td>1904</td>\n",
       "      <td>20</td>\n",
       "    </tr>\n",
       "  </tbody>\n",
       "</table>\n",
       "</div>"
      ],
      "text/plain": [
       "  yr_built  sqft_basement\n",
       "0     1900             29\n",
       "1     1901             11\n",
       "2     1902              5\n",
       "3     1903             10\n",
       "4     1904             20"
      ]
     },
     "execution_count": 185,
     "metadata": {},
     "output_type": "execute_result"
    }
   ],
   "source": [
    "y_porao = data[data['sqft_basement']!=0][['sqft_basement','yr_built']].groupby('yr_built').count().reset_index()\n",
    "y_porao.head()"
   ]
  },
  {
   "cell_type": "code",
   "execution_count": 186,
   "id": "1bf1a44f",
   "metadata": {},
   "outputs": [
    {
     "data": {
      "text/html": [
       "<div>\n",
       "<style scoped>\n",
       "    .dataframe tbody tr th:only-of-type {\n",
       "        vertical-align: middle;\n",
       "    }\n",
       "\n",
       "    .dataframe tbody tr th {\n",
       "        vertical-align: top;\n",
       "    }\n",
       "\n",
       "    .dataframe thead th {\n",
       "        text-align: right;\n",
       "    }\n",
       "</style>\n",
       "<table border=\"1\" class=\"dataframe\">\n",
       "  <thead>\n",
       "    <tr style=\"text-align: right;\">\n",
       "      <th></th>\n",
       "      <th>yr_built</th>\n",
       "      <th>properties</th>\n",
       "      <th>y_porao</th>\n",
       "      <th>n_porao</th>\n",
       "    </tr>\n",
       "  </thead>\n",
       "  <tbody>\n",
       "    <tr>\n",
       "      <th>0</th>\n",
       "      <td>1900</td>\n",
       "      <td>86</td>\n",
       "      <td>29</td>\n",
       "      <td>57</td>\n",
       "    </tr>\n",
       "    <tr>\n",
       "      <th>1</th>\n",
       "      <td>1901</td>\n",
       "      <td>29</td>\n",
       "      <td>11</td>\n",
       "      <td>18</td>\n",
       "    </tr>\n",
       "    <tr>\n",
       "      <th>2</th>\n",
       "      <td>1902</td>\n",
       "      <td>27</td>\n",
       "      <td>5</td>\n",
       "      <td>22</td>\n",
       "    </tr>\n",
       "    <tr>\n",
       "      <th>3</th>\n",
       "      <td>1903</td>\n",
       "      <td>45</td>\n",
       "      <td>10</td>\n",
       "      <td>35</td>\n",
       "    </tr>\n",
       "    <tr>\n",
       "      <th>4</th>\n",
       "      <td>1904</td>\n",
       "      <td>44</td>\n",
       "      <td>20</td>\n",
       "      <td>24</td>\n",
       "    </tr>\n",
       "  </tbody>\n",
       "</table>\n",
       "</div>"
      ],
      "text/plain": [
       "  yr_built  properties  y_porao  n_porao\n",
       "0     1900          86       29       57\n",
       "1     1901          29       11       18\n",
       "2     1902          27        5       22\n",
       "3     1903          45       10       35\n",
       "4     1904          44       20       24"
      ]
     },
     "execution_count": 186,
     "metadata": {},
     "output_type": "execute_result"
    }
   ],
   "source": [
    "compara = pd.merge(total, y_porao, on='yr_built', how='left').rename(columns={'id': 'properties', 'sqft_basement': 'y_porao'})\n",
    "compara['n_porao'] = compara['properties'] - compara['y_porao']\n",
    "compara.head()"
   ]
  },
  {
   "cell_type": "code",
   "execution_count": 190,
   "id": "1a1c7cd3",
   "metadata": {},
   "outputs": [
    {
     "data": {
      "image/png": "[encoded data removed]",
      "text/plain": [
       "<Figure size 1440x1080 with 1 Axes>"
      ]
     },
     "metadata": {
      "needs_background": "light"
     },
     "output_type": "display_data"
    }
   ],
   "source": [
    "plt.xticks( rotation=80)\n",
    "plt.plot(compara['yr_built'], compara['y_porao'], color='blue', label='Possui porão')\n",
    "plt.plot(compara['yr_built'], compara['n_porao'], color='orange', label='Não possui porão')\n",
    "plt.xlabel('Ano de construção')\n",
    "plt.ylabel('N° de propriedades')\n",
    "plt.legend()\n",
    "plt.show()"
   ]
  },
  {
   "cell_type": "markdown",
   "id": "db9d5501",
   "metadata": {},
   "source": [
    "### 6 - Imóveis com 2 banheiros são 20% mais caros do que imóveis com até 1 banheiro.\n",
    "**Falso:** Imóveis com 2 banheiros são 37,99% mais caros do que aqueles com até 1 banheiro."
   ]
  },
  {
   "cell_type": "code",
   "execution_count": 191,
   "id": "4ff10b5a",
   "metadata": {},
   "outputs": [
    {
     "name": "stdout",
     "output_type": "stream",
     "text": [
      "Preço médio de imóveis com até 1 banheiro: 332,861.36\n",
      "Preço médio de imóveis com 2 banheiros: 459,307.01\n",
      "Imóveis com 2 banheiros são 37.99 % mais caros.\n"
     ]
    }
   ],
   "source": [
    "aux = data[['id', 'bathrooms', 'price']].copy()\n",
    "\n",
    "aux1 = (aux.groupby('bathrooms').agg(properties = ('id', 'count'),\n",
    "                                avg_price  = ('price', 'mean'))).reset_index()\n",
    "\n",
    "aux2 = aux1[aux1['bathrooms']<=1]\n",
    "aux2_mean = aux2['avg_price'].mean()\n",
    "print('Preço médio de imóveis com até 1 banheiro: {:,.2f}'.format(aux2_mean))\n",
    "\n",
    "aux3 = aux1[(aux1['bathrooms']==2)]\n",
    "aux3_mean = aux3['avg_price'].mean()\n",
    "print('Preço médio de imóveis com 2 banheiros: {:,.2f}'.format(aux3_mean))\n",
    "\n",
    "percent = abs( ((aux3_mean - aux2_mean) / aux2_mean)*100 )\n",
    "print('Imóveis com 2 banheiros são', '{:,.2f}'.format(percent),'% mais caros.')"
   ]
  },
  {
   "cell_type": "markdown",
   "id": "e66c13ed",
   "metadata": {},
   "source": [
    "### 7- Propriedades com 3 quartos são 30% mais caras do que aquelas com 2 quartos.\n",
    "** Falso: ** Imóveis com 3 quartos são 25,24% mais caros do que aqueles com 2 quartos."
   ]
  },
  {
   "cell_type": "code",
   "execution_count": 195,
   "id": "b94f7d4a",
   "metadata": {},
   "outputs": [
    {
     "name": "stdout",
     "output_type": "stream",
     "text": [
      "Preço médio de imóveis com 2 quartos: 321,180.07\n",
      "Preço médio de imóveis com 3 quartos: 402,230.37\n",
      "Properties with 3 bedrooms are  25.24 % more expensive than those which have 2 bedrooms.\n"
     ]
    }
   ],
   "source": [
    "aux = data[['id', 'bedrooms', 'price']].copy()\n",
    "\n",
    "aux1 = (aux.groupby('bedrooms').agg(properties = ('id', 'count'),\n",
    "                               avg_price  = ('price', 'mean'))).reset_index()\n",
    "\n",
    "aux2 = aux1.iloc[1,2]\n",
    "aux3 = aux1.iloc[2,2]\n",
    "\n",
    "print('Preço médio de imóveis com 2 quartos: {:,.2f}'.format(aux2))\n",
    "print('Preço médio de imóveis com 3 quartos: {:,.2f}'.format(aux3))\n",
    "\n",
    "percentage = abs( ((aux3 - aux2) / aux2)*100 )\n",
    "print('Properties with 3 bedrooms are ', '{:,.2f}'.format(percentage),'% more expensive than those which have 2 bedrooms.')"
   ]
  },
  {
   "cell_type": "markdown",
   "id": "c15a025d",
   "metadata": {},
   "source": [
    "### 8- Imóveis reformados são 30% mais caros do que imóveis não reformados.\n",
    "**Falso:** Imóveis reformados são 17,80% mais caros do que os não reformados."
   ]
  },
  {
   "cell_type": "code",
   "execution_count": 35,
   "id": "a9471cef",
   "metadata": {},
   "outputs": [
    {
     "name": "stdout",
     "output_type": "stream",
     "text": [
      "Média de preço de imóveis reformados: 647,088.46\n",
      "Média de preço de imóveis sem reformas: 531,875.73\n",
      "Imóveis reformados são  17.80 % mais caros.\n"
     ]
    }
   ],
   "source": [
    "# imóveis reformados são 30% mais caros\n",
    "\n",
    "aux = data[['id', 'yr_renovated', 'price']].copy()\n",
    "\n",
    "aux1 = (aux.groupby('yr_renovated').agg(properties = ('id', 'count'),\n",
    "                                    avg_price  = ('price', 'mean'))).reset_index()\n",
    "\n",
    "aux2 = aux1[aux1['yr_renovated'] > 0 ]\n",
    "aux2_mean = aux2['avg_price'].mean()\n",
    "print('Média de preço de imóveis reformados: {:,.2f}'.format(aux2_mean))\n",
    "\n",
    "aux3 = aux1[aux1['yr_renovated'] == 0 ]\n",
    "aux3_mean = aux3['avg_price'].mean()\n",
    "print('Média de preço de imóveis sem reformas: {:,.2f}'.format(aux3_mean))\n",
    "\n",
    "percentage = abs( ((aux3_mean - aux2_mean) / aux2_mean)*100 )\n",
    "print('Imóveis reformados são ', '{:,.2f}'.format(percentage),'% mais caros.')"
   ]
  },
  {
   "cell_type": "markdown",
   "id": "913225e4",
   "metadata": {},
   "source": [
    "### 9- Imóveis reformados tem uma avaliação 20% maior\n",
    "**Falso:** Imóveis reformados tem uma avaliação 4.28% maior que imóveis não reformados."
   ]
  },
  {
   "cell_type": "code",
   "execution_count": 37,
   "id": "533bf2bb",
   "metadata": {},
   "outputs": [
    {
     "name": "stdout",
     "output_type": "stream",
     "text": [
      "Média de preço de imóveis reformados: 7.34\n",
      "Média de preço de imóveis sem reformas: 7.66\n",
      "Imóveis reformados são  4.28 % mais caros.\n"
     ]
    }
   ],
   "source": [
    "aux = data[['id', 'yr_renovated', 'grade']].copy()\n",
    "\n",
    "aux1 = (aux.groupby('yr_renovated').agg(properties = ('id', 'count'),\n",
    "                                    avg_grade  = ('grade', 'mean'))).reset_index()\n",
    "\n",
    "aux2 = aux1[aux1['yr_renovated'] > 0 ]\n",
    "aux2_mean = aux2['avg_grade'].mean()\n",
    "print('Média de preço de imóveis reformados: {:,.2f}'.format(aux2_mean))\n",
    "\n",
    "aux3 = aux1[aux1['yr_renovated'] == 0 ]\n",
    "aux3_mean = aux3['avg_grade'].mean()\n",
    "print('Média de preço de imóveis sem reformas: {:,.2f}'.format(aux3_mean))\n",
    "\n",
    "percentage = abs( ((aux3_mean - aux2_mean) / aux2_mean)*100 )\n",
    "print('Imóveis reformados são ', '{:,.2f}'.format(percentage),'% mais caros.')"
   ]
  },
  {
   "cell_type": "code",
   "execution_count": null,
   "id": "60033088",
   "metadata": {},
   "outputs": [],
   "source": [
    "data['dormitory_type'] = 'values'\n",
    "data.loc[data['bedrooms'] == 1, 'dormitory_type'] = 'studio'\n",
    "data.loc[data['bedrooms'] == 2, 'dormitory_type'] = 'apartament'\n",
    "data.loc[data['bedrooms'] >= 3, 'dormitory_type'] = 'house'"
   ]
  },
  {
   "cell_type": "markdown",
   "id": "bbf33ec9",
   "metadata": {},
   "source": [
    "### 10- Studios são 35% mais baratos que apartamentos\n",
    "** Falso: ** Studios são 25.24 % mais baratos do que apartamentos."
   ]
  },
  {
   "cell_type": "code",
   "execution_count": 198,
   "id": "b097266e",
   "metadata": {},
   "outputs": [
    {
     "name": "stdout",
     "output_type": "stream",
     "text": [
      "Preço médio de studios: 321,180.07\n",
      "Preço médio de apartamentos: 402,230.37\n",
      "Studios são 25.24 % mais baratos do que apartamentos.\n"
     ]
    }
   ],
   "source": [
    "aux = data[['id', 'dormitory_type', 'price']].copy()\n",
    "\n",
    "aux1 = (aux.groupby('dormitory_type').agg(properties = ('id', 'count'),\n",
    "                                     avg_price  = ('price', 'mean'))).reset_index()\n",
    "\n",
    "f1 = aux1[aux1['dormitory_type'] == 'studio']\n",
    "f1_mean = f1['avg_price'].mean()\n",
    "print('Preço médio de studios: {:,.2f}'.format(f1_mean))\n",
    "\n",
    "f2= aux1[aux1['dormitory_type']== 'apartament']\n",
    "f2_mean = f2['avg_price'].mean()\n",
    "print('Preço médio de apartamentos: {:,.2f}'.format(f2_mean))\n",
    "\n",
    "percentage = abs( ((f2_mean - f1_mean) / f1_mean)*100 )\n",
    "print('Studios são {:,.2f}'.format(percentage),'% mais baratos do que apartamentos.')"
   ]
  },
  {
   "cell_type": "markdown",
   "id": "558a4beb",
   "metadata": {},
   "source": [
    "### 11- REVER A maioria das propriedades (+ 50%) ficou disponível durante o verão / primavera.\n",
    "** Verdadeiro: ** Quase 60% das propriedades ficaram disponíveis durante o verão / primavera."
   ]
  },
  {
   "cell_type": "code",
   "execution_count": 45,
   "id": "8259199c",
   "metadata": {},
   "outputs": [
    {
     "data": {
      "text/html": [
       "<div>\n",
       "<style scoped>\n",
       "    .dataframe tbody tr th:only-of-type {\n",
       "        vertical-align: middle;\n",
       "    }\n",
       "\n",
       "    .dataframe tbody tr th {\n",
       "        vertical-align: top;\n",
       "    }\n",
       "\n",
       "    .dataframe thead th {\n",
       "        text-align: right;\n",
       "    }\n",
       "</style>\n",
       "<table border=\"1\" class=\"dataframe\">\n",
       "  <thead>\n",
       "    <tr style=\"text-align: right;\">\n",
       "      <th></th>\n",
       "      <th>SS_FW</th>\n",
       "      <th>id</th>\n",
       "      <th>cumultive_%</th>\n",
       "    </tr>\n",
       "  </thead>\n",
       "  <tbody>\n",
       "    <tr>\n",
       "      <th>0</th>\n",
       "      <td>SS</td>\n",
       "      <td>12847</td>\n",
       "      <td>59.93</td>\n",
       "    </tr>\n",
       "    <tr>\n",
       "      <th>1</th>\n",
       "      <td>FW</td>\n",
       "      <td>8589</td>\n",
       "      <td>100.00</td>\n",
       "    </tr>\n",
       "  </tbody>\n",
       "</table>\n",
       "</div>"
      ],
      "text/plain": [
       "  SS_FW     id  cumultive_%\n",
       "0    SS  12847        59.93\n",
       "1    FW   8589       100.00"
      ]
     },
     "execution_count": 45,
     "metadata": {},
     "output_type": "execute_result"
    }
   ],
   "source": [
    "season = data[['season', 'id']].copy()\n",
    "\n",
    "season['SS_FW'] = season.apply(lambda x: 'SS' if x['season']=='summer' \n",
    "                          else 'SS' if x['season']=='spring' \n",
    "                          else 'FW', axis=1)\n",
    "\n",
    "\n",
    "disp = season[['SS_FW', 'id']].groupby('SS_FW').count().sort_values('id', ascending=False).reset_index()\n",
    "disp['cumultive_%'] = disp['id'].cumsum()/disp['id'].sum()*100\n",
    "disp.head()"
   ]
  },
  {
   "cell_type": "markdown",
   "id": "feb99b68",
   "metadata": {},
   "source": [
    "### 12- Imóveis disponíveis durante o verão / primavera são 20% mais caros.\n",
    "** Falso: ** Os imóveis disponíveis no verão / primavera são 4,5% mais caros."
   ]
  },
  {
   "cell_type": "code",
   "execution_count": 199,
   "id": "9c09494b",
   "metadata": {},
   "outputs": [
    {
     "name": "stdout",
     "output_type": "stream",
     "text": [
      "Imóveis disponíveis durante a primavera ou verão são  4.50 % mais caros.\n"
     ]
    },
    {
     "data": {
      "text/html": [
       "<div>\n",
       "<style scoped>\n",
       "    .dataframe tbody tr th:only-of-type {\n",
       "        vertical-align: middle;\n",
       "    }\n",
       "\n",
       "    .dataframe tbody tr th {\n",
       "        vertical-align: top;\n",
       "    }\n",
       "\n",
       "    .dataframe thead th {\n",
       "        text-align: right;\n",
       "    }\n",
       "</style>\n",
       "<table border=\"1\" class=\"dataframe\">\n",
       "  <thead>\n",
       "    <tr style=\"text-align: right;\">\n",
       "      <th></th>\n",
       "      <th>SS_AW</th>\n",
       "      <th>properties</th>\n",
       "      <th>price_min</th>\n",
       "      <th>price_max</th>\n",
       "      <th>price_median</th>\n",
       "      <th>price_mean</th>\n",
       "    </tr>\n",
       "  </thead>\n",
       "  <tbody>\n",
       "    <tr>\n",
       "      <th>0</th>\n",
       "      <td>SS</td>\n",
       "      <td>12847</td>\n",
       "      <td>78000.00</td>\n",
       "      <td>7062500.00</td>\n",
       "      <td>463000.00</td>\n",
       "      <td>551150.93</td>\n",
       "    </tr>\n",
       "    <tr>\n",
       "      <th>1</th>\n",
       "      <td>AW</td>\n",
       "      <td>8589</td>\n",
       "      <td>75000.00</td>\n",
       "      <td>7700000.00</td>\n",
       "      <td>437500.00</td>\n",
       "      <td>527438.88</td>\n",
       "    </tr>\n",
       "  </tbody>\n",
       "</table>\n",
       "</div>"
      ],
      "text/plain": [
       "  SS_AW  properties  price_min  price_max  price_median  price_mean\n",
       "0    SS       12847   78000.00 7062500.00     463000.00   551150.93\n",
       "1    AW        8589   75000.00 7700000.00     437500.00   527438.88"
      ]
     },
     "execution_count": 199,
     "metadata": {},
     "output_type": "execute_result"
    }
   ],
   "source": [
    "aux = data[['id', 'season', 'price']].copy()\n",
    "\n",
    "aux['SS_AW'] = aux.apply(lambda x: 'SS' if x['season']=='summer' \n",
    "                          else 'SS' if x['season']=='spring' \n",
    "                          else 'AW', axis=1)\n",
    "\n",
    "valor = (aux.groupby('SS_AW').agg(properties   = ('id', 'count'),\n",
    "                            price_min    = ('price', 'min'),\n",
    "                            price_max    = ('price', 'max'),\n",
    "                            price_median = ('price', 'median'),\n",
    "                            price_mean   = ('price', 'mean')) ).sort_values('price_mean', ascending=False).reset_index()\n",
    "\n",
    "SS_mean = valor.iloc[0,5]\n",
    "FW_mean = valor.iloc[1,5]\n",
    "\n",
    "percent = abs( ((SS_mean - FW_mean) / FW_mean)*100 )\n",
    "print('Imóveis disponíveis durante a primavera ou verão são ', '{:,.2f}'.format(percent),'% mais caros.')\n",
    "\n",
    "valor.head()"
   ]
  },
  {
   "cell_type": "markdown",
   "id": "a50c40a8",
   "metadata": {},
   "source": [
    "### 13- A maioria das propriedades (+ 50%) que devem ser compradas são apartamentos.\n",
    "** Verdadeiro: ** 50% das propriedades que devem ser adquiridas estão em um raio de 15 km do lago."
   ]
  },
  {
   "cell_type": "code",
   "execution_count": 209,
   "id": "268be4b8",
   "metadata": {},
   "outputs": [
    {
     "ename": "AttributeError",
     "evalue": "'str' object has no attribute 'dtype'",
     "output_type": "error",
     "traceback": [
      "\u001b[1;31m---------------------------------------------------------------------------\u001b[0m",
      "\u001b[1;31mAttributeError\u001b[0m                            Traceback (most recent call last)",
      "\u001b[1;32m<ipython-input-209-292666a0f375>\u001b[0m in \u001b[0;36m<module>\u001b[1;34m\u001b[0m\n\u001b[0;32m     13\u001b[0m \u001b[1;33m\u001b[0m\u001b[0m\n\u001b[0;32m     14\u001b[0m \u001b[1;33m\u001b[0m\u001b[0m\n\u001b[1;32m---> 15\u001b[1;33m \u001b[0mdt\u001b[0m\u001b[1;33m.\u001b[0m\u001b[0mdtype\u001b[0m\u001b[1;33m\u001b[0m\u001b[1;33m\u001b[0m\u001b[0m\n\u001b[0m",
      "\u001b[1;31mAttributeError\u001b[0m: 'str' object has no attribute 'dtype'"
     ]
    }
   ],
   "source": [
    "aux = data[data['decision']!=0][['id', 'dormitory_type', 'decision']].copy()\n",
    "\n",
    "dt = aux['dormitory_type'].sum()\n",
    "dc = aux['decision'].sum()\n",
    "\n",
    "aux1['a']= abs( ((dt - dc)/dc)*100 )\n",
    "\n",
    "\n",
    "\n",
    "aux['dormitory_type'] = season.apply(lambda x: 1 if x['season']=='summer' \n",
    "                          else 'SS' if x['season']=='spring' \n",
    "                          else 'FW', axis=1)\n",
    "\n",
    "\n",
    "#aux1 = aux[['dormitory_type', 'decision']].groupby('dormitory_type').count().sort_values('decision', ascending=False).reset_index()\n",
    "#aux1['cumultive_%']=aux1['decision'].cumsum()/aux1['decision'].sum()*100\n",
    "#aux1['%']= abs( ((aux1['decision'].sum() - aux1['decision'].cumsum()) aux1['decision'].cumsum())*100 )\n",
    "\n",
    "\n",
    "\n",
    "\n",
    "aux1.head()"
   ]
  },
  {
   "cell_type": "markdown",
   "id": "6fd135ed",
   "metadata": {},
   "source": [
    "### A maioria das propriedades (+ 50%) estão localizadas em um raio de 15 km do lago.\n",
    "** Verdadeiro: ** 50% das propriedades estão localizadas em um raio de 15 km do lago."
   ]
  },
  {
   "cell_type": "code",
   "execution_count": 49,
   "id": "18b9f42d",
   "metadata": {},
   "outputs": [
    {
     "ename": "KeyError",
     "evalue": "\"['dist_fromlake'] not in index\"",
     "output_type": "error",
     "traceback": [
      "\u001b[1;31m---------------------------------------------------------------------------\u001b[0m",
      "\u001b[1;31mKeyError\u001b[0m                                  Traceback (most recent call last)",
      "\u001b[1;32m<ipython-input-49-9963b358d26a>\u001b[0m in \u001b[0;36m<module>\u001b[1;34m\u001b[0m\n\u001b[1;32m----> 1\u001b[1;33m \u001b[0maux\u001b[0m \u001b[1;33m=\u001b[0m \u001b[0mdata\u001b[0m\u001b[1;33m[\u001b[0m\u001b[1;33m[\u001b[0m\u001b[1;34m'id'\u001b[0m\u001b[1;33m,\u001b[0m \u001b[1;34m'dist_fromlake'\u001b[0m\u001b[1;33m]\u001b[0m\u001b[1;33m]\u001b[0m\u001b[1;33m.\u001b[0m\u001b[0mcopy\u001b[0m\u001b[1;33m(\u001b[0m\u001b[1;33m)\u001b[0m\u001b[1;33m\u001b[0m\u001b[1;33m\u001b[0m\u001b[0m\n\u001b[0m\u001b[0;32m      2\u001b[0m \u001b[1;33m\u001b[0m\u001b[0m\n\u001b[0;32m      3\u001b[0m \u001b[0mbin_groups\u001b[0m \u001b[1;33m=\u001b[0m \u001b[0mlist\u001b[0m\u001b[1;33m(\u001b[0m\u001b[0mnp\u001b[0m\u001b[1;33m.\u001b[0m\u001b[0marange\u001b[0m\u001b[1;33m(\u001b[0m\u001b[1;36m0\u001b[0m\u001b[1;33m,\u001b[0m\u001b[1;36m90\u001b[0m\u001b[1;33m,\u001b[0m\u001b[1;36m15\u001b[0m\u001b[1;33m)\u001b[0m\u001b[1;33m)\u001b[0m \u001b[1;31m# maximum dist =~ 71\u001b[0m\u001b[1;33m\u001b[0m\u001b[1;33m\u001b[0m\u001b[0m\n\u001b[0;32m      4\u001b[0m \u001b[0maux\u001b[0m\u001b[1;33m[\u001b[0m\u001b[1;34m'dist_fromlake_binned'\u001b[0m\u001b[1;33m]\u001b[0m \u001b[1;33m=\u001b[0m \u001b[0mpd\u001b[0m\u001b[1;33m.\u001b[0m\u001b[0mcut\u001b[0m\u001b[1;33m(\u001b[0m\u001b[0maux\u001b[0m\u001b[1;33m[\u001b[0m\u001b[1;34m'dist_fromlake'\u001b[0m\u001b[1;33m]\u001b[0m\u001b[1;33m,\u001b[0m \u001b[0mbins\u001b[0m\u001b[1;33m=\u001b[0m\u001b[0mbin_groups\u001b[0m\u001b[1;33m)\u001b[0m\u001b[1;33m\u001b[0m\u001b[1;33m\u001b[0m\u001b[0m\n\u001b[0;32m      5\u001b[0m \u001b[1;33m\u001b[0m\u001b[0m\n",
      "\u001b[1;32m~\\anaconda3\\envs\\house-rocket-insights\\lib\\site-packages\\pandas\\core\\frame.py\u001b[0m in \u001b[0;36m__getitem__\u001b[1;34m(self, key)\u001b[0m\n\u001b[0;32m   3028\u001b[0m             \u001b[1;32mif\u001b[0m \u001b[0mis_iterator\u001b[0m\u001b[1;33m(\u001b[0m\u001b[0mkey\u001b[0m\u001b[1;33m)\u001b[0m\u001b[1;33m:\u001b[0m\u001b[1;33m\u001b[0m\u001b[1;33m\u001b[0m\u001b[0m\n\u001b[0;32m   3029\u001b[0m                 \u001b[0mkey\u001b[0m \u001b[1;33m=\u001b[0m \u001b[0mlist\u001b[0m\u001b[1;33m(\u001b[0m\u001b[0mkey\u001b[0m\u001b[1;33m)\u001b[0m\u001b[1;33m\u001b[0m\u001b[1;33m\u001b[0m\u001b[0m\n\u001b[1;32m-> 3030\u001b[1;33m             \u001b[0mindexer\u001b[0m \u001b[1;33m=\u001b[0m \u001b[0mself\u001b[0m\u001b[1;33m.\u001b[0m\u001b[0mloc\u001b[0m\u001b[1;33m.\u001b[0m\u001b[0m_get_listlike_indexer\u001b[0m\u001b[1;33m(\u001b[0m\u001b[0mkey\u001b[0m\u001b[1;33m,\u001b[0m \u001b[0maxis\u001b[0m\u001b[1;33m=\u001b[0m\u001b[1;36m1\u001b[0m\u001b[1;33m,\u001b[0m \u001b[0mraise_missing\u001b[0m\u001b[1;33m=\u001b[0m\u001b[1;32mTrue\u001b[0m\u001b[1;33m)\u001b[0m\u001b[1;33m[\u001b[0m\u001b[1;36m1\u001b[0m\u001b[1;33m]\u001b[0m\u001b[1;33m\u001b[0m\u001b[1;33m\u001b[0m\u001b[0m\n\u001b[0m\u001b[0;32m   3031\u001b[0m \u001b[1;33m\u001b[0m\u001b[0m\n\u001b[0;32m   3032\u001b[0m         \u001b[1;31m# take() does not accept boolean indexers\u001b[0m\u001b[1;33m\u001b[0m\u001b[1;33m\u001b[0m\u001b[1;33m\u001b[0m\u001b[0m\n",
      "\u001b[1;32m~\\anaconda3\\envs\\house-rocket-insights\\lib\\site-packages\\pandas\\core\\indexing.py\u001b[0m in \u001b[0;36m_get_listlike_indexer\u001b[1;34m(self, key, axis, raise_missing)\u001b[0m\n\u001b[0;32m   1264\u001b[0m             \u001b[0mkeyarr\u001b[0m\u001b[1;33m,\u001b[0m \u001b[0mindexer\u001b[0m\u001b[1;33m,\u001b[0m \u001b[0mnew_indexer\u001b[0m \u001b[1;33m=\u001b[0m \u001b[0max\u001b[0m\u001b[1;33m.\u001b[0m\u001b[0m_reindex_non_unique\u001b[0m\u001b[1;33m(\u001b[0m\u001b[0mkeyarr\u001b[0m\u001b[1;33m)\u001b[0m\u001b[1;33m\u001b[0m\u001b[1;33m\u001b[0m\u001b[0m\n\u001b[0;32m   1265\u001b[0m \u001b[1;33m\u001b[0m\u001b[0m\n\u001b[1;32m-> 1266\u001b[1;33m         \u001b[0mself\u001b[0m\u001b[1;33m.\u001b[0m\u001b[0m_validate_read_indexer\u001b[0m\u001b[1;33m(\u001b[0m\u001b[0mkeyarr\u001b[0m\u001b[1;33m,\u001b[0m \u001b[0mindexer\u001b[0m\u001b[1;33m,\u001b[0m \u001b[0maxis\u001b[0m\u001b[1;33m,\u001b[0m \u001b[0mraise_missing\u001b[0m\u001b[1;33m=\u001b[0m\u001b[0mraise_missing\u001b[0m\u001b[1;33m)\u001b[0m\u001b[1;33m\u001b[0m\u001b[1;33m\u001b[0m\u001b[0m\n\u001b[0m\u001b[0;32m   1267\u001b[0m         \u001b[1;32mreturn\u001b[0m \u001b[0mkeyarr\u001b[0m\u001b[1;33m,\u001b[0m \u001b[0mindexer\u001b[0m\u001b[1;33m\u001b[0m\u001b[1;33m\u001b[0m\u001b[0m\n\u001b[0;32m   1268\u001b[0m \u001b[1;33m\u001b[0m\u001b[0m\n",
      "\u001b[1;32m~\\anaconda3\\envs\\house-rocket-insights\\lib\\site-packages\\pandas\\core\\indexing.py\u001b[0m in \u001b[0;36m_validate_read_indexer\u001b[1;34m(self, key, indexer, axis, raise_missing)\u001b[0m\n\u001b[0;32m   1314\u001b[0m             \u001b[1;32mif\u001b[0m \u001b[0mraise_missing\u001b[0m\u001b[1;33m:\u001b[0m\u001b[1;33m\u001b[0m\u001b[1;33m\u001b[0m\u001b[0m\n\u001b[0;32m   1315\u001b[0m                 \u001b[0mnot_found\u001b[0m \u001b[1;33m=\u001b[0m \u001b[0mlist\u001b[0m\u001b[1;33m(\u001b[0m\u001b[0mset\u001b[0m\u001b[1;33m(\u001b[0m\u001b[0mkey\u001b[0m\u001b[1;33m)\u001b[0m \u001b[1;33m-\u001b[0m \u001b[0mset\u001b[0m\u001b[1;33m(\u001b[0m\u001b[0max\u001b[0m\u001b[1;33m)\u001b[0m\u001b[1;33m)\u001b[0m\u001b[1;33m\u001b[0m\u001b[1;33m\u001b[0m\u001b[0m\n\u001b[1;32m-> 1316\u001b[1;33m                 \u001b[1;32mraise\u001b[0m \u001b[0mKeyError\u001b[0m\u001b[1;33m(\u001b[0m\u001b[1;34mf\"{not_found} not in index\"\u001b[0m\u001b[1;33m)\u001b[0m\u001b[1;33m\u001b[0m\u001b[1;33m\u001b[0m\u001b[0m\n\u001b[0m\u001b[0;32m   1317\u001b[0m \u001b[1;33m\u001b[0m\u001b[0m\n\u001b[0;32m   1318\u001b[0m             \u001b[0mnot_found\u001b[0m \u001b[1;33m=\u001b[0m \u001b[0mkey\u001b[0m\u001b[1;33m[\u001b[0m\u001b[0mmissing_mask\u001b[0m\u001b[1;33m]\u001b[0m\u001b[1;33m\u001b[0m\u001b[1;33m\u001b[0m\u001b[0m\n",
      "\u001b[1;31mKeyError\u001b[0m: \"['dist_fromlake'] not in index\""
     ]
    }
   ],
   "source": [
    "aux = data[['id', 'dist_fromlake']].copy()\n",
    "\n",
    "bin_groups = list(np.arange(0,90,15)) # maximum dist =~ 71\n",
    "aux['dist_fromlake_binned'] = pd.cut(aux['dist_fromlake'], bins=bin_groups)\n",
    "\n",
    "aux1 = aux[['dist_fromlake_binned', 'id']].groupby('dist_fromlake_binned').count().sort_values('id', ascending=False).reset_index()\n",
    "\n",
    "aux1['cumultive_%'] = aux1['id'].cumsum()/aux1['id'].sum()*100\n",
    "\n",
    "aux1.head()"
   ]
  },
  {
   "cell_type": "markdown",
   "id": "b7d69f3d",
   "metadata": {},
   "source": [
    "### A maioria das propriedades (+ 50%) que devem ser compradas estão em um raio de 15 km do lago.\n",
    "** Verdadeiro: ** 50% das propriedades que devem ser adquiridas estão em um raio de 15 km do lago."
   ]
  },
  {
   "cell_type": "code",
   "execution_count": null,
   "id": "ac5a36a0",
   "metadata": {},
   "outputs": [],
   "source": [
    "aux = data[data['decision']!=0][['id', 'dist_fromlake', 'decision']].copy()\n",
    "\n",
    "bin_groups = list(np.arange(0,90,15)) # maximum dist =~ 71 km\n",
    "aux['dist_fromlake_binned'] = pd.cut(aux['dist_fromlake'], bins=bin_groups)\n",
    "aux.head()\n",
    "\n",
    "aux1 = aux[['dist_fromlake_binned', 'decision']].groupby('dist_fromlake_binned').count().sort_values('decision', ascending=False).reset_index()\n",
    "\n",
    "aux1['cumultive_%']=b['decision'].cumsum()/b['decision'].sum()*100\n",
    "\n",
    "aux1.head()"
   ]
  },
  {
   "cell_type": "markdown",
   "id": "a7434014",
   "metadata": {},
   "source": [
    "### As propriedades selecionadas para compra localizadas em um raio de 15 km do lago correspondem a mais de 50% do lucro esperado.\n",
    "** Verdadeiro: ** As propriedades selecionadas para compra em um raio de 15 km do lago correspondem a quase 60% do lucro esperado."
   ]
  },
  {
   "cell_type": "code",
   "execution_count": 50,
   "id": "dcd014a5",
   "metadata": {},
   "outputs": [
    {
     "ename": "KeyError",
     "evalue": "\"['dist_fromlake'] not in index\"",
     "output_type": "error",
     "traceback": [
      "\u001b[1;31m---------------------------------------------------------------------------\u001b[0m",
      "\u001b[1;31mKeyError\u001b[0m                                  Traceback (most recent call last)",
      "\u001b[1;32m<ipython-input-50-08e1b8f3cbc3>\u001b[0m in \u001b[0;36m<module>\u001b[1;34m\u001b[0m\n\u001b[1;32m----> 1\u001b[1;33m \u001b[0maux\u001b[0m \u001b[1;33m=\u001b[0m \u001b[0mdata\u001b[0m\u001b[1;33m[\u001b[0m\u001b[0mdata\u001b[0m\u001b[1;33m[\u001b[0m\u001b[1;34m'expected_profit'\u001b[0m\u001b[1;33m]\u001b[0m\u001b[1;33m!=\u001b[0m\u001b[1;36m0\u001b[0m\u001b[1;33m]\u001b[0m\u001b[1;33m[\u001b[0m\u001b[1;33m[\u001b[0m\u001b[1;34m'id'\u001b[0m\u001b[1;33m,\u001b[0m \u001b[1;34m'dist_fromlake'\u001b[0m\u001b[1;33m,\u001b[0m \u001b[1;34m'expected_profit'\u001b[0m\u001b[1;33m]\u001b[0m\u001b[1;33m]\u001b[0m\u001b[1;33m.\u001b[0m\u001b[0mcopy\u001b[0m\u001b[1;33m(\u001b[0m\u001b[1;33m)\u001b[0m\u001b[1;33m\u001b[0m\u001b[1;33m\u001b[0m\u001b[0m\n\u001b[0m\u001b[0;32m      2\u001b[0m \u001b[1;33m\u001b[0m\u001b[0m\n\u001b[0;32m      3\u001b[0m \u001b[0mbin_groups\u001b[0m \u001b[1;33m=\u001b[0m \u001b[0mlist\u001b[0m\u001b[1;33m(\u001b[0m\u001b[0mnp\u001b[0m\u001b[1;33m.\u001b[0m\u001b[0marange\u001b[0m\u001b[1;33m(\u001b[0m\u001b[1;36m0\u001b[0m\u001b[1;33m,\u001b[0m\u001b[1;36m90\u001b[0m\u001b[1;33m,\u001b[0m\u001b[1;36m15\u001b[0m\u001b[1;33m)\u001b[0m\u001b[1;33m)\u001b[0m \u001b[1;31m# maximum dist =~ 71\u001b[0m\u001b[1;33m\u001b[0m\u001b[1;33m\u001b[0m\u001b[0m\n\u001b[0;32m      4\u001b[0m \u001b[0maux\u001b[0m\u001b[1;33m[\u001b[0m\u001b[1;34m'dist_fromlake_binned'\u001b[0m\u001b[1;33m]\u001b[0m \u001b[1;33m=\u001b[0m \u001b[0mpd\u001b[0m\u001b[1;33m.\u001b[0m\u001b[0mcut\u001b[0m\u001b[1;33m(\u001b[0m\u001b[0maux\u001b[0m\u001b[1;33m[\u001b[0m\u001b[1;34m'dist_fromlake'\u001b[0m\u001b[1;33m]\u001b[0m\u001b[1;33m,\u001b[0m \u001b[0mbins\u001b[0m\u001b[1;33m=\u001b[0m\u001b[0mbin_groups\u001b[0m\u001b[1;33m)\u001b[0m\u001b[1;33m\u001b[0m\u001b[1;33m\u001b[0m\u001b[0m\n\u001b[0;32m      5\u001b[0m \u001b[1;33m\u001b[0m\u001b[0m\n",
      "\u001b[1;32m~\\anaconda3\\envs\\house-rocket-insights\\lib\\site-packages\\pandas\\core\\frame.py\u001b[0m in \u001b[0;36m__getitem__\u001b[1;34m(self, key)\u001b[0m\n\u001b[0;32m   3028\u001b[0m             \u001b[1;32mif\u001b[0m \u001b[0mis_iterator\u001b[0m\u001b[1;33m(\u001b[0m\u001b[0mkey\u001b[0m\u001b[1;33m)\u001b[0m\u001b[1;33m:\u001b[0m\u001b[1;33m\u001b[0m\u001b[1;33m\u001b[0m\u001b[0m\n\u001b[0;32m   3029\u001b[0m                 \u001b[0mkey\u001b[0m \u001b[1;33m=\u001b[0m \u001b[0mlist\u001b[0m\u001b[1;33m(\u001b[0m\u001b[0mkey\u001b[0m\u001b[1;33m)\u001b[0m\u001b[1;33m\u001b[0m\u001b[1;33m\u001b[0m\u001b[0m\n\u001b[1;32m-> 3030\u001b[1;33m             \u001b[0mindexer\u001b[0m \u001b[1;33m=\u001b[0m \u001b[0mself\u001b[0m\u001b[1;33m.\u001b[0m\u001b[0mloc\u001b[0m\u001b[1;33m.\u001b[0m\u001b[0m_get_listlike_indexer\u001b[0m\u001b[1;33m(\u001b[0m\u001b[0mkey\u001b[0m\u001b[1;33m,\u001b[0m \u001b[0maxis\u001b[0m\u001b[1;33m=\u001b[0m\u001b[1;36m1\u001b[0m\u001b[1;33m,\u001b[0m \u001b[0mraise_missing\u001b[0m\u001b[1;33m=\u001b[0m\u001b[1;32mTrue\u001b[0m\u001b[1;33m)\u001b[0m\u001b[1;33m[\u001b[0m\u001b[1;36m1\u001b[0m\u001b[1;33m]\u001b[0m\u001b[1;33m\u001b[0m\u001b[1;33m\u001b[0m\u001b[0m\n\u001b[0m\u001b[0;32m   3031\u001b[0m \u001b[1;33m\u001b[0m\u001b[0m\n\u001b[0;32m   3032\u001b[0m         \u001b[1;31m# take() does not accept boolean indexers\u001b[0m\u001b[1;33m\u001b[0m\u001b[1;33m\u001b[0m\u001b[1;33m\u001b[0m\u001b[0m\n",
      "\u001b[1;32m~\\anaconda3\\envs\\house-rocket-insights\\lib\\site-packages\\pandas\\core\\indexing.py\u001b[0m in \u001b[0;36m_get_listlike_indexer\u001b[1;34m(self, key, axis, raise_missing)\u001b[0m\n\u001b[0;32m   1264\u001b[0m             \u001b[0mkeyarr\u001b[0m\u001b[1;33m,\u001b[0m \u001b[0mindexer\u001b[0m\u001b[1;33m,\u001b[0m \u001b[0mnew_indexer\u001b[0m \u001b[1;33m=\u001b[0m \u001b[0max\u001b[0m\u001b[1;33m.\u001b[0m\u001b[0m_reindex_non_unique\u001b[0m\u001b[1;33m(\u001b[0m\u001b[0mkeyarr\u001b[0m\u001b[1;33m)\u001b[0m\u001b[1;33m\u001b[0m\u001b[1;33m\u001b[0m\u001b[0m\n\u001b[0;32m   1265\u001b[0m \u001b[1;33m\u001b[0m\u001b[0m\n\u001b[1;32m-> 1266\u001b[1;33m         \u001b[0mself\u001b[0m\u001b[1;33m.\u001b[0m\u001b[0m_validate_read_indexer\u001b[0m\u001b[1;33m(\u001b[0m\u001b[0mkeyarr\u001b[0m\u001b[1;33m,\u001b[0m \u001b[0mindexer\u001b[0m\u001b[1;33m,\u001b[0m \u001b[0maxis\u001b[0m\u001b[1;33m,\u001b[0m \u001b[0mraise_missing\u001b[0m\u001b[1;33m=\u001b[0m\u001b[0mraise_missing\u001b[0m\u001b[1;33m)\u001b[0m\u001b[1;33m\u001b[0m\u001b[1;33m\u001b[0m\u001b[0m\n\u001b[0m\u001b[0;32m   1267\u001b[0m         \u001b[1;32mreturn\u001b[0m \u001b[0mkeyarr\u001b[0m\u001b[1;33m,\u001b[0m \u001b[0mindexer\u001b[0m\u001b[1;33m\u001b[0m\u001b[1;33m\u001b[0m\u001b[0m\n\u001b[0;32m   1268\u001b[0m \u001b[1;33m\u001b[0m\u001b[0m\n",
      "\u001b[1;32m~\\anaconda3\\envs\\house-rocket-insights\\lib\\site-packages\\pandas\\core\\indexing.py\u001b[0m in \u001b[0;36m_validate_read_indexer\u001b[1;34m(self, key, indexer, axis, raise_missing)\u001b[0m\n\u001b[0;32m   1314\u001b[0m             \u001b[1;32mif\u001b[0m \u001b[0mraise_missing\u001b[0m\u001b[1;33m:\u001b[0m\u001b[1;33m\u001b[0m\u001b[1;33m\u001b[0m\u001b[0m\n\u001b[0;32m   1315\u001b[0m                 \u001b[0mnot_found\u001b[0m \u001b[1;33m=\u001b[0m \u001b[0mlist\u001b[0m\u001b[1;33m(\u001b[0m\u001b[0mset\u001b[0m\u001b[1;33m(\u001b[0m\u001b[0mkey\u001b[0m\u001b[1;33m)\u001b[0m \u001b[1;33m-\u001b[0m \u001b[0mset\u001b[0m\u001b[1;33m(\u001b[0m\u001b[0max\u001b[0m\u001b[1;33m)\u001b[0m\u001b[1;33m)\u001b[0m\u001b[1;33m\u001b[0m\u001b[1;33m\u001b[0m\u001b[0m\n\u001b[1;32m-> 1316\u001b[1;33m                 \u001b[1;32mraise\u001b[0m \u001b[0mKeyError\u001b[0m\u001b[1;33m(\u001b[0m\u001b[1;34mf\"{not_found} not in index\"\u001b[0m\u001b[1;33m)\u001b[0m\u001b[1;33m\u001b[0m\u001b[1;33m\u001b[0m\u001b[0m\n\u001b[0m\u001b[0;32m   1317\u001b[0m \u001b[1;33m\u001b[0m\u001b[0m\n\u001b[0;32m   1318\u001b[0m             \u001b[0mnot_found\u001b[0m \u001b[1;33m=\u001b[0m \u001b[0mkey\u001b[0m\u001b[1;33m[\u001b[0m\u001b[0mmissing_mask\u001b[0m\u001b[1;33m]\u001b[0m\u001b[1;33m\u001b[0m\u001b[1;33m\u001b[0m\u001b[0m\n",
      "\u001b[1;31mKeyError\u001b[0m: \"['dist_fromlake'] not in index\""
     ]
    }
   ],
   "source": [
    "aux = data[data['expected_profit']!=0][['id', 'dist_fromlake', 'expected_profit']].copy()\n",
    "\n",
    "bin_groups = list(np.arange(0,90,15)) # maximum dist =~ 71\n",
    "aux['dist_fromlake_binned'] = pd.cut(aux['dist_fromlake'], bins=bin_groups)\n",
    "\n",
    "aux1 = ( aux[['dist_fromlake_binned', 'expected_profit']].groupby('dist_fromlake_binned')\n",
    "                                                    .agg(profit_min    = ('expected_profit', 'min'),\n",
    "                                                         profit_max    = ('expected_profit', 'max'),\n",
    "                                                         profit_median = ('expected_profit', 'median'),\n",
    "                                                         profit_mean   = ('expected_profit', 'mean'),\n",
    "                                                         profit_sum    = ('expected_profit', 'sum'),) ).reset_index()\n",
    "\n",
    "aux1['cumulative_%']=aux1['profit_sum'].cumsum()/aux1['profit_sum'].sum()*100\n",
    "\n",
    "aux1['max_dist'] = [15, 30, 45, 60, 75]\n",
    "\n",
    "aux1.head()"
   ]
  },
  {
   "cell_type": "code",
   "execution_count": null,
   "id": "b8c5f4ac",
   "metadata": {},
   "outputs": [],
   "source": [
    "ax1 = sns.barplot(data=b , x='max_dist', y='profit_sum', color='royalblue')"
   ]
  },
  {
   "cell_type": "markdown",
   "id": "b3652540",
   "metadata": {},
   "source": [
    "### As propriedades têm maior espaço interior ao longo do cronograma do ano de construção.\n",
    "** Verdadeiro: ** As propriedades têm maior espaço interior ao longo do cronograma do ano de construção."
   ]
  },
  {
   "cell_type": "code",
   "execution_count": 51,
   "id": "35bd45fa",
   "metadata": {},
   "outputs": [
    {
     "data": {
      "image/png": "[encoded data removed]",
      "text/plain": [
       "<Figure size 720x576 with 1 Axes>"
      ]
     },
     "metadata": {
      "needs_background": "light"
     },
     "output_type": "display_data"
    }
   ],
   "source": [
    "aux = data[['sqft_living', 'yr_built']].copy()\n",
    "\n",
    "aux1 = aux.groupby('yr_built').mean().reset_index()\n",
    "\n",
    "plt.plot(aux1['yr_built'], aux1['sqft_living'])\n",
    "plt.show()"
   ]
  },
  {
   "cell_type": "markdown",
   "id": "a0cf91d6",
   "metadata": {},
   "source": [
    "### Propriedades que não foram reformadas são 40% mais baratas.\n",
    "** Verdadeiro: ** Os imóveis que não foram reformados são 43,17% mais baratos."
   ]
  },
  {
   "cell_type": "code",
   "execution_count": 53,
   "id": "b356b51b",
   "metadata": {},
   "outputs": [
    {
     "ename": "KeyError",
     "evalue": "\"['buying_price'] not in index\"",
     "output_type": "error",
     "traceback": [
      "\u001b[1;31m---------------------------------------------------------------------------\u001b[0m",
      "\u001b[1;31mKeyError\u001b[0m                                  Traceback (most recent call last)",
      "\u001b[1;32m<ipython-input-53-6d25a501694f>\u001b[0m in \u001b[0;36m<module>\u001b[1;34m\u001b[0m\n\u001b[0;32m      3\u001b[0m \u001b[0maux\u001b[0m\u001b[1;33m[\u001b[0m\u001b[1;34m'was_renovated'\u001b[0m\u001b[1;33m]\u001b[0m \u001b[1;33m=\u001b[0m \u001b[0maux\u001b[0m\u001b[1;33m.\u001b[0m\u001b[0mapply\u001b[0m\u001b[1;33m(\u001b[0m\u001b[1;32mlambda\u001b[0m \u001b[0mx\u001b[0m\u001b[1;33m:\u001b[0m \u001b[1;36m0\u001b[0m \u001b[1;32mif\u001b[0m \u001b[0mx\u001b[0m\u001b[1;33m[\u001b[0m\u001b[1;34m'yr_renovated'\u001b[0m\u001b[1;33m]\u001b[0m\u001b[1;33m==\u001b[0m\u001b[1;36m0\u001b[0m \u001b[1;32melse\u001b[0m \u001b[1;36m1\u001b[0m\u001b[1;33m,\u001b[0m \u001b[0maxis\u001b[0m\u001b[1;33m=\u001b[0m\u001b[1;36m1\u001b[0m\u001b[1;33m)\u001b[0m\u001b[1;33m\u001b[0m\u001b[1;33m\u001b[0m\u001b[0m\n\u001b[0;32m      4\u001b[0m \u001b[1;33m\u001b[0m\u001b[0m\n\u001b[1;32m----> 5\u001b[1;33m \u001b[0maux1\u001b[0m \u001b[1;33m=\u001b[0m \u001b[0maux\u001b[0m\u001b[1;33m[\u001b[0m\u001b[1;33m[\u001b[0m\u001b[1;34m'was_renovated'\u001b[0m\u001b[1;33m,\u001b[0m \u001b[1;34m'buying_price'\u001b[0m\u001b[1;33m]\u001b[0m\u001b[1;33m]\u001b[0m\u001b[1;33m.\u001b[0m\u001b[0mgroupby\u001b[0m\u001b[1;33m(\u001b[0m\u001b[1;34m'was_renovated'\u001b[0m\u001b[1;33m)\u001b[0m\u001b[1;33m.\u001b[0m\u001b[0mmean\u001b[0m\u001b[1;33m(\u001b[0m\u001b[1;33m)\u001b[0m\u001b[1;33m.\u001b[0m\u001b[0mreset_index\u001b[0m\u001b[1;33m(\u001b[0m\u001b[1;33m)\u001b[0m\u001b[1;33m\u001b[0m\u001b[1;33m\u001b[0m\u001b[0m\n\u001b[0m\u001b[0;32m      6\u001b[0m \u001b[1;33m\u001b[0m\u001b[0m\n\u001b[0;32m      7\u001b[0m \u001b[0mwasnot_renovated\u001b[0m \u001b[1;33m=\u001b[0m \u001b[0maux1\u001b[0m\u001b[1;33m.\u001b[0m\u001b[0miloc\u001b[0m\u001b[1;33m[\u001b[0m\u001b[1;36m0\u001b[0m\u001b[1;33m,\u001b[0m\u001b[1;36m1\u001b[0m\u001b[1;33m]\u001b[0m\u001b[1;33m\u001b[0m\u001b[1;33m\u001b[0m\u001b[0m\n",
      "\u001b[1;32m~\\anaconda3\\envs\\house-rocket-insights\\lib\\site-packages\\pandas\\core\\frame.py\u001b[0m in \u001b[0;36m__getitem__\u001b[1;34m(self, key)\u001b[0m\n\u001b[0;32m   3028\u001b[0m             \u001b[1;32mif\u001b[0m \u001b[0mis_iterator\u001b[0m\u001b[1;33m(\u001b[0m\u001b[0mkey\u001b[0m\u001b[1;33m)\u001b[0m\u001b[1;33m:\u001b[0m\u001b[1;33m\u001b[0m\u001b[1;33m\u001b[0m\u001b[0m\n\u001b[0;32m   3029\u001b[0m                 \u001b[0mkey\u001b[0m \u001b[1;33m=\u001b[0m \u001b[0mlist\u001b[0m\u001b[1;33m(\u001b[0m\u001b[0mkey\u001b[0m\u001b[1;33m)\u001b[0m\u001b[1;33m\u001b[0m\u001b[1;33m\u001b[0m\u001b[0m\n\u001b[1;32m-> 3030\u001b[1;33m             \u001b[0mindexer\u001b[0m \u001b[1;33m=\u001b[0m \u001b[0mself\u001b[0m\u001b[1;33m.\u001b[0m\u001b[0mloc\u001b[0m\u001b[1;33m.\u001b[0m\u001b[0m_get_listlike_indexer\u001b[0m\u001b[1;33m(\u001b[0m\u001b[0mkey\u001b[0m\u001b[1;33m,\u001b[0m \u001b[0maxis\u001b[0m\u001b[1;33m=\u001b[0m\u001b[1;36m1\u001b[0m\u001b[1;33m,\u001b[0m \u001b[0mraise_missing\u001b[0m\u001b[1;33m=\u001b[0m\u001b[1;32mTrue\u001b[0m\u001b[1;33m)\u001b[0m\u001b[1;33m[\u001b[0m\u001b[1;36m1\u001b[0m\u001b[1;33m]\u001b[0m\u001b[1;33m\u001b[0m\u001b[1;33m\u001b[0m\u001b[0m\n\u001b[0m\u001b[0;32m   3031\u001b[0m \u001b[1;33m\u001b[0m\u001b[0m\n\u001b[0;32m   3032\u001b[0m         \u001b[1;31m# take() does not accept boolean indexers\u001b[0m\u001b[1;33m\u001b[0m\u001b[1;33m\u001b[0m\u001b[1;33m\u001b[0m\u001b[0m\n",
      "\u001b[1;32m~\\anaconda3\\envs\\house-rocket-insights\\lib\\site-packages\\pandas\\core\\indexing.py\u001b[0m in \u001b[0;36m_get_listlike_indexer\u001b[1;34m(self, key, axis, raise_missing)\u001b[0m\n\u001b[0;32m   1264\u001b[0m             \u001b[0mkeyarr\u001b[0m\u001b[1;33m,\u001b[0m \u001b[0mindexer\u001b[0m\u001b[1;33m,\u001b[0m \u001b[0mnew_indexer\u001b[0m \u001b[1;33m=\u001b[0m \u001b[0max\u001b[0m\u001b[1;33m.\u001b[0m\u001b[0m_reindex_non_unique\u001b[0m\u001b[1;33m(\u001b[0m\u001b[0mkeyarr\u001b[0m\u001b[1;33m)\u001b[0m\u001b[1;33m\u001b[0m\u001b[1;33m\u001b[0m\u001b[0m\n\u001b[0;32m   1265\u001b[0m \u001b[1;33m\u001b[0m\u001b[0m\n\u001b[1;32m-> 1266\u001b[1;33m         \u001b[0mself\u001b[0m\u001b[1;33m.\u001b[0m\u001b[0m_validate_read_indexer\u001b[0m\u001b[1;33m(\u001b[0m\u001b[0mkeyarr\u001b[0m\u001b[1;33m,\u001b[0m \u001b[0mindexer\u001b[0m\u001b[1;33m,\u001b[0m \u001b[0maxis\u001b[0m\u001b[1;33m,\u001b[0m \u001b[0mraise_missing\u001b[0m\u001b[1;33m=\u001b[0m\u001b[0mraise_missing\u001b[0m\u001b[1;33m)\u001b[0m\u001b[1;33m\u001b[0m\u001b[1;33m\u001b[0m\u001b[0m\n\u001b[0m\u001b[0;32m   1267\u001b[0m         \u001b[1;32mreturn\u001b[0m \u001b[0mkeyarr\u001b[0m\u001b[1;33m,\u001b[0m \u001b[0mindexer\u001b[0m\u001b[1;33m\u001b[0m\u001b[1;33m\u001b[0m\u001b[0m\n\u001b[0;32m   1268\u001b[0m \u001b[1;33m\u001b[0m\u001b[0m\n",
      "\u001b[1;32m~\\anaconda3\\envs\\house-rocket-insights\\lib\\site-packages\\pandas\\core\\indexing.py\u001b[0m in \u001b[0;36m_validate_read_indexer\u001b[1;34m(self, key, indexer, axis, raise_missing)\u001b[0m\n\u001b[0;32m   1314\u001b[0m             \u001b[1;32mif\u001b[0m \u001b[0mraise_missing\u001b[0m\u001b[1;33m:\u001b[0m\u001b[1;33m\u001b[0m\u001b[1;33m\u001b[0m\u001b[0m\n\u001b[0;32m   1315\u001b[0m                 \u001b[0mnot_found\u001b[0m \u001b[1;33m=\u001b[0m \u001b[0mlist\u001b[0m\u001b[1;33m(\u001b[0m\u001b[0mset\u001b[0m\u001b[1;33m(\u001b[0m\u001b[0mkey\u001b[0m\u001b[1;33m)\u001b[0m \u001b[1;33m-\u001b[0m \u001b[0mset\u001b[0m\u001b[1;33m(\u001b[0m\u001b[0max\u001b[0m\u001b[1;33m)\u001b[0m\u001b[1;33m)\u001b[0m\u001b[1;33m\u001b[0m\u001b[1;33m\u001b[0m\u001b[0m\n\u001b[1;32m-> 1316\u001b[1;33m                 \u001b[1;32mraise\u001b[0m \u001b[0mKeyError\u001b[0m\u001b[1;33m(\u001b[0m\u001b[1;34mf\"{not_found} not in index\"\u001b[0m\u001b[1;33m)\u001b[0m\u001b[1;33m\u001b[0m\u001b[1;33m\u001b[0m\u001b[0m\n\u001b[0m\u001b[0;32m   1317\u001b[0m \u001b[1;33m\u001b[0m\u001b[0m\n\u001b[0;32m   1318\u001b[0m             \u001b[0mnot_found\u001b[0m \u001b[1;33m=\u001b[0m \u001b[0mkey\u001b[0m\u001b[1;33m[\u001b[0m\u001b[0mmissing_mask\u001b[0m\u001b[1;33m]\u001b[0m\u001b[1;33m\u001b[0m\u001b[1;33m\u001b[0m\u001b[0m\n",
      "\u001b[1;31mKeyError\u001b[0m: \"['buying_price'] not in index\""
     ]
    }
   ],
   "source": [
    "aux = data[['price', 'yr_renovated']].copy()\n",
    "\n",
    "aux['was_renovated'] = aux.apply(lambda x: 0 if x['yr_renovated']==0 else 1, axis=1)\n",
    "\n",
    "aux1 = aux[['was_renovated', 'buying_price']].groupby('was_renovated').mean().reset_index()\n",
    "\n",
    "wasnot_renovated = aux1.iloc[0,1]\n",
    "was_renovated = aux1.iloc[1,1]\n",
    "\n",
    "print('Average price of properties that were not renovated: {:,.2f}'.format(wasnot_renovated))\n",
    "print('Average price of properties that were renovated: {:,.2f}'.format(was_renovated))\n",
    "\n",
    "percentage = abs( ((was_renovated - wasnot_renovated) / wasnot_renovated)*100 )\n",
    "print('Properties that were not renovated are {:,.2f}'.format(percentage),'% cheaper.')"
   ]
  },
  {
   "cell_type": "code",
   "execution_count": null,
   "id": "f426009e",
   "metadata": {},
   "outputs": [],
   "source": []
  },
  {
   "cell_type": "code",
   "execution_count": null,
   "id": "7c1692bb",
   "metadata": {},
   "outputs": [],
   "source": []
  },
  {
   "cell_type": "code",
   "execution_count": null,
   "id": "a749f453",
   "metadata": {},
   "outputs": [],
   "source": []
  },
  {
   "cell_type": "code",
   "execution_count": null,
   "id": "6834d5e1",
   "metadata": {},
   "outputs": [],
   "source": []
  }
 ],
 "metadata": {
  "kernelspec": {
   "display_name": "Python 3",
   "language": "python",
   "name": "python3"
  },
  "language_info": {
   "codemirror_mode": {
    "name": "ipython",
    "version": 3
   },
   "file_extension": ".py",
   "mimetype": "text/x-python",
   "name": "python",
   "nbconvert_exporter": "python",
   "pygments_lexer": "ipython3",
   "version": "3.8.10"
  }
 },
 "nbformat": 4,
 "nbformat_minor": 5
}
