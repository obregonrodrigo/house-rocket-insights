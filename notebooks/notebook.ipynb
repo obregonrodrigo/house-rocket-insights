{
 "cells": [
  {
   "cell_type": "markdown",
   "id": "89a11d8c",
   "metadata": {},
   "source": [
    "# Imports"
   ]
  },
  {
   "cell_type": "code",
   "execution_count": 1,
   "id": "49afcb21",
   "metadata": {},
   "outputs": [],
   "source": [
    "import pandas         as pd\n",
    "import numpy          as np\n",
    "\n",
    "import plotly.express as px\n",
    "import ipywidgets     as widgets\n",
    "\n",
    "from ipywidgets            import fixed\n",
    "from matplotlib            import pyplot as plt\n",
    "from geopy.geocoders       import Nominatim\n",
    "from IPython.core.display  import HTML"
   ]
  },
  {
   "cell_type": "markdown",
   "id": "1e04fe41",
   "metadata": {},
   "source": [
    "# Helper Functions"
   ]
  },
  {
   "cell_type": "code",
   "execution_count": 2,
   "id": "2ab5e2fe",
   "metadata": {},
   "outputs": [],
   "source": [
    "def custom_settings():\n",
    "    %matplotlib inline\n",
    "        \n",
    "    plt.style.use( 'bmh' )\n",
    "    plt.rcParams['figure.figsize'] = (20,15)\n",
    "    plt.rcParams['font.size'] = 20\n",
    "        \n",
    "    display( HTML( '<style>.container { width:90% !important; }</style>') )\n",
    "    pd.options.display.max_columns = None\n",
    "    pd.options.display.max_rows = None\n",
    "    pd.options.display.float_format = '{:,.2f}'.format\n",
    "    pd.set_option( 'display.expand_frame_repr', False)\n",
    "    \n",
    "    np.set_printoptions(suppress=True)"
   ]
  },
  {
   "cell_type": "code",
   "execution_count": 3,
   "id": "de237078",
   "metadata": {},
   "outputs": [],
   "source": [
    "def format_numbers():\n",
    "    pd.set_option('display.float_format', lambda x: '%.2f' % x) "
   ]
  },
  {
   "cell_type": "code",
   "execution_count": 4,
   "id": "4f657660",
   "metadata": {},
   "outputs": [
    {
     "data": {
      "text/html": [
       "<style>.container { width:90% !important; }</style>"
      ],
      "text/plain": [
       "<IPython.core.display.HTML object>"
      ]
     },
     "metadata": {},
     "output_type": "display_data"
    }
   ],
   "source": [
    "custom_settings()\n",
    "format_numbers()"
   ]
  },
  {
   "cell_type": "markdown",
   "id": "235de681",
   "metadata": {},
   "source": [
    "# Data collection"
   ]
  },
  {
   "cell_type": "code",
   "execution_count": 5,
   "id": "28317f6a",
   "metadata": {},
   "outputs": [],
   "source": [
    "data = pd.read_csv('../data/kc_house_data.csv')"
   ]
  },
  {
   "cell_type": "markdown",
   "id": "339556d7",
   "metadata": {},
   "source": [
    "# Data Description"
   ]
  },
  {
   "cell_type": "markdown",
   "id": "78115578",
   "metadata": {},
   "source": [
    "## Data Dimension"
   ]
  },
  {
   "cell_type": "code",
   "execution_count": 6,
   "id": "5661ea6d",
   "metadata": {},
   "outputs": [
    {
     "name": "stdout",
     "output_type": "stream",
     "text": [
      "Number of rows: 21613\n",
      "Number of columns: 21\n"
     ]
    }
   ],
   "source": [
    "print('Number of rows: {}' .format (data.shape[0]))\n",
    "print('Number of columns: {}' .format (data.shape[1]))"
   ]
  },
  {
   "cell_type": "markdown",
   "id": "e5a9c1d1",
   "metadata": {},
   "source": [
    "## Data Types"
   ]
  },
  {
   "cell_type": "code",
   "execution_count": 7,
   "id": "e5567b26",
   "metadata": {},
   "outputs": [
    {
     "data": {
      "text/html": [
       "<div>\n",
       "<style scoped>\n",
       "    .dataframe tbody tr th:only-of-type {\n",
       "        vertical-align: middle;\n",
       "    }\n",
       "\n",
       "    .dataframe tbody tr th {\n",
       "        vertical-align: top;\n",
       "    }\n",
       "\n",
       "    .dataframe thead th {\n",
       "        text-align: right;\n",
       "    }\n",
       "</style>\n",
       "<table border=\"1\" class=\"dataframe\">\n",
       "  <thead>\n",
       "    <tr style=\"text-align: right;\">\n",
       "      <th></th>\n",
       "      <th>id</th>\n",
       "      <th>date</th>\n",
       "      <th>price</th>\n",
       "      <th>bedrooms</th>\n",
       "      <th>bathrooms</th>\n",
       "      <th>sqft_living</th>\n",
       "      <th>sqft_lot</th>\n",
       "      <th>floors</th>\n",
       "      <th>waterfront</th>\n",
       "      <th>view</th>\n",
       "      <th>condition</th>\n",
       "      <th>grade</th>\n",
       "      <th>sqft_above</th>\n",
       "      <th>sqft_basement</th>\n",
       "      <th>yr_built</th>\n",
       "      <th>yr_renovated</th>\n",
       "      <th>zipcode</th>\n",
       "      <th>lat</th>\n",
       "      <th>long</th>\n",
       "      <th>sqft_living15</th>\n",
       "      <th>sqft_lot15</th>\n",
       "    </tr>\n",
       "  </thead>\n",
       "  <tbody>\n",
       "    <tr>\n",
       "      <th>0</th>\n",
       "      <td>7129300520</td>\n",
       "      <td>20141013T000000</td>\n",
       "      <td>221900.00</td>\n",
       "      <td>3</td>\n",
       "      <td>1.00</td>\n",
       "      <td>1180</td>\n",
       "      <td>5650</td>\n",
       "      <td>1.00</td>\n",
       "      <td>0</td>\n",
       "      <td>0</td>\n",
       "      <td>3</td>\n",
       "      <td>7</td>\n",
       "      <td>1180</td>\n",
       "      <td>0</td>\n",
       "      <td>1955</td>\n",
       "      <td>0</td>\n",
       "      <td>98178</td>\n",
       "      <td>47.51</td>\n",
       "      <td>-122.26</td>\n",
       "      <td>1340</td>\n",
       "      <td>5650</td>\n",
       "    </tr>\n",
       "    <tr>\n",
       "      <th>1</th>\n",
       "      <td>6414100192</td>\n",
       "      <td>20141209T000000</td>\n",
       "      <td>538000.00</td>\n",
       "      <td>3</td>\n",
       "      <td>2.25</td>\n",
       "      <td>2570</td>\n",
       "      <td>7242</td>\n",
       "      <td>2.00</td>\n",
       "      <td>0</td>\n",
       "      <td>0</td>\n",
       "      <td>3</td>\n",
       "      <td>7</td>\n",
       "      <td>2170</td>\n",
       "      <td>400</td>\n",
       "      <td>1951</td>\n",
       "      <td>1991</td>\n",
       "      <td>98125</td>\n",
       "      <td>47.72</td>\n",
       "      <td>-122.32</td>\n",
       "      <td>1690</td>\n",
       "      <td>7639</td>\n",
       "    </tr>\n",
       "    <tr>\n",
       "      <th>2</th>\n",
       "      <td>5631500400</td>\n",
       "      <td>20150225T000000</td>\n",
       "      <td>180000.00</td>\n",
       "      <td>2</td>\n",
       "      <td>1.00</td>\n",
       "      <td>770</td>\n",
       "      <td>10000</td>\n",
       "      <td>1.00</td>\n",
       "      <td>0</td>\n",
       "      <td>0</td>\n",
       "      <td>3</td>\n",
       "      <td>6</td>\n",
       "      <td>770</td>\n",
       "      <td>0</td>\n",
       "      <td>1933</td>\n",
       "      <td>0</td>\n",
       "      <td>98028</td>\n",
       "      <td>47.74</td>\n",
       "      <td>-122.23</td>\n",
       "      <td>2720</td>\n",
       "      <td>8062</td>\n",
       "    </tr>\n",
       "    <tr>\n",
       "      <th>3</th>\n",
       "      <td>2487200875</td>\n",
       "      <td>20141209T000000</td>\n",
       "      <td>604000.00</td>\n",
       "      <td>4</td>\n",
       "      <td>3.00</td>\n",
       "      <td>1960</td>\n",
       "      <td>5000</td>\n",
       "      <td>1.00</td>\n",
       "      <td>0</td>\n",
       "      <td>0</td>\n",
       "      <td>5</td>\n",
       "      <td>7</td>\n",
       "      <td>1050</td>\n",
       "      <td>910</td>\n",
       "      <td>1965</td>\n",
       "      <td>0</td>\n",
       "      <td>98136</td>\n",
       "      <td>47.52</td>\n",
       "      <td>-122.39</td>\n",
       "      <td>1360</td>\n",
       "      <td>5000</td>\n",
       "    </tr>\n",
       "    <tr>\n",
       "      <th>4</th>\n",
       "      <td>1954400510</td>\n",
       "      <td>20150218T000000</td>\n",
       "      <td>510000.00</td>\n",
       "      <td>3</td>\n",
       "      <td>2.00</td>\n",
       "      <td>1680</td>\n",
       "      <td>8080</td>\n",
       "      <td>1.00</td>\n",
       "      <td>0</td>\n",
       "      <td>0</td>\n",
       "      <td>3</td>\n",
       "      <td>8</td>\n",
       "      <td>1680</td>\n",
       "      <td>0</td>\n",
       "      <td>1987</td>\n",
       "      <td>0</td>\n",
       "      <td>98074</td>\n",
       "      <td>47.62</td>\n",
       "      <td>-122.05</td>\n",
       "      <td>1800</td>\n",
       "      <td>7503</td>\n",
       "    </tr>\n",
       "  </tbody>\n",
       "</table>\n",
       "</div>"
      ],
      "text/plain": [
       "           id             date     price  bedrooms  bathrooms  sqft_living  sqft_lot  floors  waterfront  view  condition  grade  sqft_above  sqft_basement  yr_built  yr_renovated  zipcode   lat    long  sqft_living15  sqft_lot15\n",
       "0  7129300520  20141013T000000 221900.00         3       1.00         1180      5650    1.00           0     0          3      7        1180              0      1955             0    98178 47.51 -122.26           1340        5650\n",
       "1  6414100192  20141209T000000 538000.00         3       2.25         2570      7242    2.00           0     0          3      7        2170            400      1951          1991    98125 47.72 -122.32           1690        7639\n",
       "2  5631500400  20150225T000000 180000.00         2       1.00          770     10000    1.00           0     0          3      6         770              0      1933             0    98028 47.74 -122.23           2720        8062\n",
       "3  2487200875  20141209T000000 604000.00         4       3.00         1960      5000    1.00           0     0          5      7        1050            910      1965             0    98136 47.52 -122.39           1360        5000\n",
       "4  1954400510  20150218T000000 510000.00         3       2.00         1680      8080    1.00           0     0          3      8        1680              0      1987             0    98074 47.62 -122.05           1800        7503"
      ]
     },
     "execution_count": 7,
     "metadata": {},
     "output_type": "execute_result"
    }
   ],
   "source": [
    "data.head()"
   ]
  },
  {
   "cell_type": "code",
   "execution_count": 8,
   "id": "a1048a57",
   "metadata": {},
   "outputs": [
    {
     "data": {
      "text/plain": [
       "id                 int64\n",
       "date              object\n",
       "price            float64\n",
       "bedrooms           int64\n",
       "bathrooms        float64\n",
       "sqft_living        int64\n",
       "sqft_lot           int64\n",
       "floors           float64\n",
       "waterfront         int64\n",
       "view               int64\n",
       "condition          int64\n",
       "grade              int64\n",
       "sqft_above         int64\n",
       "sqft_basement      int64\n",
       "yr_built           int64\n",
       "yr_renovated       int64\n",
       "zipcode            int64\n",
       "lat              float64\n",
       "long             float64\n",
       "sqft_living15      int64\n",
       "sqft_lot15         int64\n",
       "dtype: object"
      ]
     },
     "execution_count": 8,
     "metadata": {},
     "output_type": "execute_result"
    }
   ],
   "source": [
    "data.dtypes"
   ]
  },
  {
   "cell_type": "markdown",
   "id": "d58f8477",
   "metadata": {},
   "source": [
    "## Check NA"
   ]
  },
  {
   "cell_type": "code",
   "execution_count": 9,
   "id": "26b5ed23",
   "metadata": {},
   "outputs": [
    {
     "data": {
      "text/plain": [
       "id               0\n",
       "date             0\n",
       "price            0\n",
       "bedrooms         0\n",
       "bathrooms        0\n",
       "sqft_living      0\n",
       "sqft_lot         0\n",
       "floors           0\n",
       "waterfront       0\n",
       "view             0\n",
       "condition        0\n",
       "grade            0\n",
       "sqft_above       0\n",
       "sqft_basement    0\n",
       "yr_built         0\n",
       "yr_renovated     0\n",
       "zipcode          0\n",
       "lat              0\n",
       "long             0\n",
       "sqft_living15    0\n",
       "sqft_lot15       0\n",
       "dtype: int64"
      ]
     },
     "execution_count": 9,
     "metadata": {},
     "output_type": "execute_result"
    }
   ],
   "source": [
    "data.isna().sum()"
   ]
  },
  {
   "cell_type": "markdown",
   "id": "a672ca18",
   "metadata": {},
   "source": [
    "## Change variables types"
   ]
  },
  {
   "cell_type": "code",
   "execution_count": 10,
   "id": "91e34f6b",
   "metadata": {},
   "outputs": [
    {
     "name": "stdout",
     "output_type": "stream",
     "text": [
      "\n",
      "\n",
      "----- Change -----\n",
      "date            datetime64[ns]\n",
      "yr_built        datetime64[ns]\n",
      "yr_renovated             int64\n",
      "dtype: object\n"
     ]
    }
   ],
   "source": [
    "# change 'date' type\n",
    "#print(data[['date','yr_built','yr_renovated']].head(),'\\n')\n",
    "#print(data[['date','yr_built','yr_renovated']].dtypes)\n",
    "data['date'] = pd.to_datetime(data['date'], format='%Y-%m-%d')\n",
    "data['yr_built'] = pd.to_datetime( data['yr_built'], format='%Y')\n",
    "\n",
    "print('\\n\\n----- Change -----')\n",
    "print(data[['date','yr_built','yr_renovated']].dtypes)\n"
   ]
  },
  {
   "cell_type": "markdown",
   "id": "902f52f5",
   "metadata": {},
   "source": [
    "## Droping Dupplicates"
   ]
  },
  {
   "cell_type": "code",
   "execution_count": 11,
   "id": "18961f8d",
   "metadata": {},
   "outputs": [
    {
     "name": "stdout",
     "output_type": "stream",
     "text": [
      "21613  número de linhas\n",
      "21436  ids únicos\n",
      "177  número de ids duplicados\n"
     ]
    }
   ],
   "source": [
    "print(data.shape[0], ' número de linhas')\n",
    "print(data['id'].unique().shape[0], ' ids únicos')\n",
    "print(data.shape[0] - data['id'].unique().shape[0], ' número de ids duplicados')"
   ]
  },
  {
   "cell_type": "code",
   "execution_count": 12,
   "id": "49668681",
   "metadata": {},
   "outputs": [
    {
     "name": "stdout",
     "output_type": "stream",
     "text": [
      "nova dimensão: (21436, 21)\n"
     ]
    }
   ],
   "source": [
    "# sorting df by date\n",
    "data = data.sort_values('date', ascending=True)\n",
    "\n",
    "# del ids that first appear\n",
    "data = data.drop_duplicates(subset='id', keep='last')\n",
    "\n",
    "print('nova dimensão:', data.shape)"
   ]
  },
  {
   "cell_type": "code",
   "execution_count": 13,
   "id": "403f2fbb",
   "metadata": {},
   "outputs": [],
   "source": [
    "data.to_csv('../data/dataset.csv', index=False)\n",
    "data = pd.read_csv('../data/dataset.csv')"
   ]
  },
  {
   "cell_type": "markdown",
   "id": "52cbdd4a",
   "metadata": {},
   "source": [
    "# Descriptive Statistics"
   ]
  },
  {
   "cell_type": "code",
   "execution_count": 14,
   "id": "1288181d",
   "metadata": {},
   "outputs": [
    {
     "name": "stdout",
     "output_type": "stream",
     "text": [
      "       attributes           max        min          mean        median           std\n",
      "0              id 9900000190.00 1000102.00 4580765328.18 3904921185.00 2876522535.73\n",
      "1           price    7700000.00   75000.00     541649.96     450000.00     367306.36\n",
      "2        bedrooms         33.00       0.00          3.37          3.00          0.93\n",
      "3       bathrooms          8.00       0.00          2.12          2.25          0.77\n",
      "4     sqft_living      13540.00     290.00       2082.70       1920.00        919.13\n",
      "5        sqft_lot    1651359.00     520.00      15135.64       7614.00      41537.65\n",
      "6          floors          3.50       1.00          1.50          1.50          0.54\n",
      "7      waterfront          1.00       0.00          0.01          0.00          0.09\n",
      "8            view          4.00       0.00          0.24          0.00          0.77\n",
      "9       condition          5.00       1.00          3.41          3.00          0.65\n",
      "10          grade         13.00       1.00          7.66          7.00          1.17\n",
      "11     sqft_above       9410.00     290.00       1790.96       1560.00        829.01\n",
      "12  sqft_basement       4820.00       0.00        291.74          0.00        442.77\n",
      "13   yr_renovated       2015.00       0.00         84.73          0.00        402.42\n",
      "14        zipcode      98199.00   98001.00      98077.86      98065.00         53.47\n",
      "15            lat         47.78      47.16         47.56         47.57          0.14\n",
      "16           long       -121.31    -122.52       -122.21       -122.23          0.14\n",
      "17  sqft_living15       6210.00     399.00       1988.31       1840.00        685.68\n",
      "18     sqft_lot15     871200.00     651.00      12785.96       7620.00      27374.83\n"
     ]
    }
   ],
   "source": [
    "num_attributes = data.select_dtypes(include=['int64', 'float64'])\n",
    "\n",
    "media = pd.DataFrame(num_attributes.apply(np.mean))\n",
    "mediana = pd.DataFrame(num_attributes.apply(np.median))\n",
    "std = pd.DataFrame(num_attributes.apply(np.std))\n",
    "\n",
    "max_ = pd.DataFrame(num_attributes.apply(np.max))\n",
    "min_ = pd.DataFrame(num_attributes.apply(np.min))\n",
    "\n",
    "desc = pd.concat([max_, min_, media, mediana, std], axis=1).reset_index()\n",
    "desc.columns = ['attributes', 'max', 'min', 'mean', 'median', 'std']\n",
    "\n",
    "print(desc)"
   ]
  },
  {
   "cell_type": "markdown",
   "id": "c5178a8d",
   "metadata": {},
   "source": [
    "# Feature Engineering"
   ]
  },
  {
   "cell_type": "markdown",
   "id": "05d0e0a7",
   "metadata": {},
   "source": [
    "## Hypothesis creation"
   ]
  },
  {
   "cell_type": "raw",
   "id": "8fbc460c",
   "metadata": {},
   "source": [
    "1 - Propriedades com vista para o mar são 50% mais caras.\n",
    "2 - As propriedades com porões têm qualidade superior.\n",
    "3 - Propriedades com porões têm maior espaço interior.\n",
    "4 - Imóveis com subsolo são 15% mais caros.\n",
    "5 - As propriedades construídas com porões diminuíram ao longo dos anos.\n",
    "6 - Imóveis com 1 a 2 banheiros são 20% mais caros do que imóveis com até 1 banheiro.\n",
    "7 - Propriedades com 3 quartos são 25% mais caras do que aquelas com 2 quartos.\n",
    "8 - Imóveis com 2 pavimentos são 15% mais caros do que imóveis com 1 pavimento.\n",
    "9 - A maioria das propriedades (+ 50%) ficou disponível durante o verão / primavera.\n",
    "10 - As propriedades disponíveis durante o verão / primavera são 20% mais caras.\n",
    "11 - A maioria das propriedades (+ 50%) está localizada em um rádio a 15 km do lago.\n",
    "12 - A maioria dos imóveis (+ 50%) que devem ser comprados estão em um raio de 15km do lago.\n",
    "13 - As propriedades selecionadas para compra localizadas em um raio de 15 km do lago correspondem a mais de 50% do lucro esperado.\n",
    "14 - As propriedades têm maior espaço interior ao longo do cronograma do ano de construção.\n",
    "15 - Os imóveis que não foram reformados são 40% mais baratos."
   ]
  },
  {
   "cell_type": "markdown",
   "id": "6e263306",
   "metadata": {},
   "source": [
    "## Features Creation"
   ]
  },
  {
   "cell_type": "code",
   "execution_count": null,
   "id": "4f1bac6e",
   "metadata": {},
   "outputs": [
    {
     "name": "stdout",
     "output_type": "stream",
     "text": [
      "INICIO DA COLETA\n",
      "NÚMERO DE LINHAS 21436\n",
      "UPDATE LINES 0 | 2000\n",
      "UPDATE LINES 2001 | 4000\n",
      "ERRO NA REQUISIÇÃO\n",
      "ERRO NA REQUISIÇÃO\n",
      "ERRO NA REQUISIÇÃO\n",
      "ERRO NA REQUISIÇÃO\n",
      "ERRO NA REQUISIÇÃO\n",
      "ERRO NA REQUISIÇÃO\n",
      "UPDATE LINES 4001 | 6000\n",
      "ERRO NA REQUISIÇÃO\n",
      "UPDATE LINES 6001 | 8000\n",
      "ERRO NA REQUISIÇÃO\n",
      "UPDATE LINES 8001 | 10000\n",
      "UPDATE LINES 10001 | 12000\n",
      "ERRO NA REQUISIÇÃO\n",
      "ERRO NA REQUISIÇÃO\n",
      "ERRO NA REQUISIÇÃO\n"
     ]
    }
   ],
   "source": [
    "geo = pd.read_csv('../data/geolocator.csv') \n",
    "\n",
    "if len(geo) != (len(data) - 1):\n",
    "        \n",
    "    df_geo = data[['id','lat','long']].copy()\n",
    "    df_geo['road'] = 'NA'\n",
    "    df_geo['house_number'] = 'NA'\n",
    "    df_geo['neighbourhood'] = 'NA'\n",
    "    df_geo['city'] = 'NA'\n",
    "    df_geo['country'] = 'NA'\n",
    "    df_geo['state'] = 'NA'\n",
    "    df_geo['osm'] = 'NA'\n",
    "    \n",
    "    print('INICIO DA COLETA')\n",
    "    s = 0\n",
    "    e = 2000\n",
    "    \n",
    "    print('NÚMERO DE LINHAS', len(df_geo))\n",
    "    \n",
    "    while s < len(df_geo):\n",
    "        \n",
    "        geolocator = Nominatim( user_agent='geoapiExercises')\n",
    "        \n",
    "        try:\n",
    "            for i in range(s,e):\n",
    "\n",
    "                query = str(df_geo.loc[i, 'lat']) + ',' + str(df_geo.loc[i,'long'])\n",
    "\n",
    "                response = geolocator.reverse(query) #API Request\n",
    "\n",
    "                #Populate data\n",
    "                if 'house_number' in response.raw['address']:\n",
    "                    df_geo.loc[i, 'house_number'] = response.raw['address']['house_number']\n",
    "\n",
    "                if 'road' in response.raw['address']:\n",
    "                    df_geo.loc[i, 'road'] = response.raw['address']['road']\n",
    "\n",
    "                if 'neighbourhood' in response.raw['address']:\n",
    "                    df_geo.loc[i, 'neighbourhood'] = response.raw['address']['neighbourhood']\n",
    "\n",
    "                if 'city' in response.raw['address']:\n",
    "                    df_geo.loc[i, 'city'] = response.raw['address']['city']\n",
    "\n",
    "                if 'country' in response.raw['address']:\n",
    "                    df_geo.loc[i, 'country'] = response.raw['address']['country']\n",
    "\n",
    "                if 'state' in response.raw['address']:\n",
    "                    df_geo.loc[i, 'state'] = response.raw['address']['state']\n",
    "\n",
    "                if 'osm_type' in response.raw:\n",
    "                    df_geo.loc[i, 'osm'] = response.raw['osm_type']\n",
    "\n",
    "            print('UPDATE LINES {} | {}'.format(s,e))\n",
    "\n",
    "            aux = df_geo\n",
    "            aux.to_csv('../data/geolocator.csv', index=False, header=False)\n",
    "            \n",
    "            s = e + 1\n",
    "            e = e + 2000\n",
    "            if e >= len(df_geo):\n",
    "                e = len(df_geo)\n",
    "            else:\n",
    "                e = e\n",
    "        \n",
    "        except:\n",
    "            print('ERRO NA REQUISIÇÃO')\n",
    "        \n",
    "    print('FIM DA COLETA')\n",
    "    \n",
    "    cols_name = ['id','lat','long','road','house_number','neighbourhood','city','country','state','osm']\n",
    "    \n",
    "    df_geo = pd.read_csv('../data/geolocator.csv',names=cols_name)\n",
    "    df_geo = df_geo.drop(columns=['lat', 'long'])\n",
    "    \n",
    "    data = pd.merge(data, df_geo, how='left', on='id')\n",
    "    data.to_csv('../data/dataset.csv', index=False)\n",
    "    \n",
    "    data.head()\n",
    "\n",
    "else:\n",
    "    print('DATASET ATUALIZADO')\n",
    "    data = pd.read_csv('../data/dataset.csv')"
   ]
  },
  {
   "cell_type": "code",
   "execution_count": null,
   "id": "25b23b24",
   "metadata": {},
   "outputs": [],
   "source": [
    "# media de preço por zipcode\n",
    "\n",
    "# create media\n",
    "temp = data[['price','zipcode']].groupby('zipcode').median().reset_index().rename(columns={'price': 'median_price'})\n",
    "temp.head()\n",
    "\n",
    "# merge on dataset\n",
    "data = pd.merge(data, temp, on='zipcode', how='left')\n",
    "data[['id', 'price', 'zipcode', 'median_price']].sample(5)\n"
   ]
  },
  {
   "cell_type": "code",
   "execution_count": null,
   "id": "71c42a5a",
   "metadata": {},
   "outputs": [],
   "source": [
    "# buying decision\n",
    "# as variaveis levadas em conta são média de preço da região e a condição\n",
    "data['decision'] = data[['price', 'median_price', 'condition']].apply(lambda x: 1 if ((x['price'] <= x['median_price']) & (x['condition']>=3)) else 0, axis=1) \n",
    "data[['id', 'zipcode', 'price', 'median_price', 'condition', 'decision']].sample(5)"
   ]
  },
  {
   "cell_type": "code",
   "execution_count": null,
   "id": "0d1d6703",
   "metadata": {},
   "outputs": [],
   "source": [
    "# selling price suggestion\n",
    "data['selling_suggestion'] = data[['price', 'median_price', 'condition']].apply(lambda x: x['price']*1.25\n",
    "                                                                    if ((x['price'] <= x['median_price']) & (x['condition']>=3)) else 0, axis=1)\n",
    "\n",
    "data[['id', 'zipcode', 'price', 'median_price', 'condition', 'decision', 'selling_suggestion']].sample(5)\n"
   ]
  },
  {
   "cell_type": "code",
   "execution_count": null,
   "id": "8a9329c7",
   "metadata": {},
   "outputs": [],
   "source": [
    "# expected profit\n",
    "data['expected_profit'] = data[['price', 'selling_suggestion']].apply(lambda x: 0 if x['selling_suggestion']==0\n",
    "                                                                                        else (x['selling_suggestion'] - x['price']), axis=1) \n",
    "\n",
    "data[['id', 'zipcode', 'price', 'median_price', 'condition', 'decision', 'selling_suggestion', 'expected_profit']].sample(5)"
   ]
  },
  {
   "cell_type": "code",
   "execution_count": null,
   "id": "84376154",
   "metadata": {},
   "outputs": [],
   "source": [
    "# seasons of the year\n",
    "\n",
    "def date_season(date):\n",
    "    year = str(date.year)\n",
    "    seasons = {'spring': pd.date_range(start='21/03/'+year, end='20/06/'+year),\n",
    "               'summer': pd.date_range(start='21/06/'+year, end='22/09/'+year),\n",
    "               'autumn': pd.date_range(start='23/09/'+year, end='20/12/'+year)}\n",
    "    if date in seasons['spring']:\n",
    "        return 'spring'\n",
    "    if date in seasons['summer']:\n",
    "        return 'summer'\n",
    "    if date in seasons['autumn']:\n",
    "        return 'fall'\n",
    "    else:\n",
    "        return 'winter'\n",
    "\n",
    "data['season'] = data['date'].map(date_season)\n",
    "data[['date','season']].head()"
   ]
  },
  {
   "cell_type": "code",
   "execution_count": null,
   "id": "92a04ee2",
   "metadata": {},
   "outputs": [],
   "source": [
    "# median price per season and zipcode\n",
    "\n",
    "# grouping by zipcode and median price by season\n",
    "aux = data[['price','zipcode','season']].groupby(['zipcode', 'season']).median().reset_index()\n",
    "\n",
    "aux1 = aux.pivot(index='zipcode', columns='season', values='price').reset_index()\n",
    "aux1 = aux1.rename(columns={'fall':'med_fall', 'spring':'med_spring', 'summer':'med_summer', 'winter':'med_winter'})\n",
    "\n",
    "# merge\n",
    "data = pd.merge(data, aux1, on='zipcode', how='left')\n",
    "\n",
    "# sample\n",
    "data[['id', 'price', 'zipcode', 'median_price', 'med_fall', 'med_spring', 'med_summer', 'med_winter']].sample(5)\n",
    "\n"
   ]
  },
  {
   "cell_type": "code",
   "execution_count": null,
   "id": "7f7a65fe",
   "metadata": {},
   "outputs": [],
   "source": [
    "# Best season to sell\n",
    "\n",
    "data['season_sell'] = ''\n",
    "\n",
    "# defining best season to sell accorgding to avg price for each season\n",
    "for i in range (len(data)):\n",
    "    cols = ['med_fall', 'med_spring', 'med_summer', 'med_winter']\n",
    "    \n",
    "    if data.loc[i, 'decision']!=0:\n",
    "    \n",
    "        if data.loc[i, cols[0]] >= data.loc[i,'price']:\n",
    "            data.loc[i, 'season_sell'] = data.loc[i, 'season_sell'] + 'autumn '\n",
    "        if data.loc[i, cols[1]] >= data.loc[i,'price']:\n",
    "            data.loc[i, 'season_sell'] = data.loc[i, 'season_sell'] + 'spring '\n",
    "        if data.loc[i, cols[2]] >= data.loc[i,'price']:\n",
    "            data.loc[i, 'season_sell'] = data.loc[i, 'season_sell'] + 'summer '\n",
    "        if data.loc[i, cols[3]] >= data.loc[i,'price']:\n",
    "            data.loc[i, 'season_sell'] = data.loc[i, 'season_sell'] + 'winter '\n",
    "\n",
    "data[['id', 'price', 'zipcode', 'median_price', 'med_fall', 'med_spring', 'med_summer', 'med_winter', 'decision', 'season_sell']].head()"
   ]
  },
  {
   "cell_type": "markdown",
   "id": "9bc5b1e4",
   "metadata": {},
   "source": [
    "# Data exploration"
   ]
  },
  {
   "cell_type": "markdown",
   "id": "c0699c19",
   "metadata": {},
   "source": [
    "### Propriedades com vista para o mar são 40% mais caras.\n",
    "**Falso:** Propriedades com vista para água tem um valor 177.04% mais caras."
   ]
  },
  {
   "cell_type": "code",
   "execution_count": null,
   "id": "27955bf8",
   "metadata": {},
   "outputs": [],
   "source": [
    "aux = data[['waterfront', 'price']].groupby('waterfront').mean().reset_index()\n",
    "\n",
    "not_waterfront = aux.iloc[0,1]\n",
    "yes_waterfront = aux.iloc[1,1]\n",
    "\n",
    "percent = abs( ((yes_waterfront - not_waterfront) / not_waterfront)*100 )\n",
    "print('\\nPropriedades com vista para água são', '{:,.2f}'.format(percent),'% mais caras')"
   ]
  },
  {
   "cell_type": "code",
   "execution_count": null,
   "id": "e3500e4b",
   "metadata": {},
   "outputs": [],
   "source": []
  },
  {
   "cell_type": "code",
   "execution_count": null,
   "id": "928df42a",
   "metadata": {},
   "outputs": [],
   "source": []
  },
  {
   "cell_type": "code",
   "execution_count": null,
   "id": "af4a2f32",
   "metadata": {},
   "outputs": [],
   "source": []
  },
  {
   "cell_type": "code",
   "execution_count": null,
   "id": "c1456b09",
   "metadata": {},
   "outputs": [],
   "source": []
  },
  {
   "cell_type": "code",
   "execution_count": null,
   "id": "38199aab",
   "metadata": {},
   "outputs": [],
   "source": []
  },
  {
   "cell_type": "code",
   "execution_count": null,
   "id": "eeca55e8",
   "metadata": {},
   "outputs": [],
   "source": []
  },
  {
   "cell_type": "code",
   "execution_count": null,
   "id": "e1e9cd34",
   "metadata": {},
   "outputs": [],
   "source": []
  }
 ],
 "metadata": {
  "kernelspec": {
   "display_name": "Python 3",
   "language": "python",
   "name": "python3"
  },
  "language_info": {
   "codemirror_mode": {
    "name": "ipython",
    "version": 3
   },
   "file_extension": ".py",
   "mimetype": "text/x-python",
   "name": "python",
   "nbconvert_exporter": "python",
   "pygments_lexer": "ipython3",
   "version": "3.8.10"
  }
 },
 "nbformat": 4,
 "nbformat_minor": 5
}
