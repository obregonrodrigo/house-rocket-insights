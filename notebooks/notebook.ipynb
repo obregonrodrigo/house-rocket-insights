{
 "cells": [
  {
   "cell_type": "markdown",
   "id": "89a11d8c",
   "metadata": {},
   "source": [
    "# Imports"
   ]
  },
  {
   "cell_type": "code",
   "execution_count": 1,
   "id": "49afcb21",
   "metadata": {},
   "outputs": [],
   "source": [
    "import pandas         as pd\n",
    "import numpy          as np\n",
    "\n",
    "import plotly.express as px\n",
    "import ipywidgets     as widgets\n",
    "\n",
    "from ipywidgets            import fixed\n",
    "from matplotlib            import pyplot as plt\n",
    "from geopy.geocoders       import Nominatim\n",
    "from IPython.core.display  import HTML"
   ]
  },
  {
   "cell_type": "markdown",
   "id": "1e04fe41",
   "metadata": {},
   "source": [
    "# Helper Functions"
   ]
  },
  {
   "cell_type": "code",
   "execution_count": 2,
   "id": "2ab5e2fe",
   "metadata": {},
   "outputs": [],
   "source": [
    "def custom_settings():\n",
    "    %matplotlib inline\n",
    "        \n",
    "    plt.style.use( 'bmh' )\n",
    "    plt.rcParams['figure.figsize'] = (20,15)\n",
    "    plt.rcParams['font.size'] = 20\n",
    "        \n",
    "    display( HTML( '<style>.container { width:90% !important; }</style>') )\n",
    "    pd.options.display.max_columns = None\n",
    "    pd.options.display.max_rows = None\n",
    "    pd.options.display.float_format = '{:,.2f}'.format\n",
    "    pd.set_option( 'display.expand_frame_repr', False)\n",
    "    \n",
    "    np.set_printoptions(suppress=True)"
   ]
  },
  {
   "cell_type": "code",
   "execution_count": 3,
   "id": "de237078",
   "metadata": {},
   "outputs": [],
   "source": [
    "def format_numbers():\n",
    "    pd.set_option('display.float_format', lambda x: '%.2f' % x) "
   ]
  },
  {
   "cell_type": "code",
   "execution_count": 4,
   "id": "4f657660",
   "metadata": {},
   "outputs": [
    {
     "data": {
      "text/html": [
       "<style>.container { width:90% !important; }</style>"
      ],
      "text/plain": [
       "<IPython.core.display.HTML object>"
      ]
     },
     "metadata": {},
     "output_type": "display_data"
    }
   ],
   "source": [
    "custom_settings()\n",
    "format_numbers()"
   ]
  },
  {
   "cell_type": "markdown",
   "id": "235de681",
   "metadata": {},
   "source": [
    "# Data collection"
   ]
  },
  {
   "cell_type": "code",
   "execution_count": 5,
   "id": "28317f6a",
   "metadata": {},
   "outputs": [],
   "source": [
    "data = pd.read_csv('../data/kc_house_data.csv')"
   ]
  },
  {
   "cell_type": "markdown",
   "id": "339556d7",
   "metadata": {},
   "source": [
    "# Data Description"
   ]
  },
  {
   "cell_type": "markdown",
   "id": "78115578",
   "metadata": {},
   "source": [
    "## Data Dimension"
   ]
  },
  {
   "cell_type": "code",
   "execution_count": 6,
   "id": "5661ea6d",
   "metadata": {},
   "outputs": [
    {
     "name": "stdout",
     "output_type": "stream",
     "text": [
      "Number of rows: 21613\n",
      "Number of columns: 21\n"
     ]
    }
   ],
   "source": [
    "print('Number of rows: {}' .format (data.shape[0]))\n",
    "print('Number of columns: {}' .format (data.shape[1]))"
   ]
  },
  {
   "cell_type": "markdown",
   "id": "e5a9c1d1",
   "metadata": {},
   "source": [
    "## Data Types"
   ]
  },
  {
   "cell_type": "code",
   "execution_count": 7,
   "id": "e5567b26",
   "metadata": {},
   "outputs": [
    {
     "data": {
      "text/html": [
       "<div>\n",
       "<style scoped>\n",
       "    .dataframe tbody tr th:only-of-type {\n",
       "        vertical-align: middle;\n",
       "    }\n",
       "\n",
       "    .dataframe tbody tr th {\n",
       "        vertical-align: top;\n",
       "    }\n",
       "\n",
       "    .dataframe thead th {\n",
       "        text-align: right;\n",
       "    }\n",
       "</style>\n",
       "<table border=\"1\" class=\"dataframe\">\n",
       "  <thead>\n",
       "    <tr style=\"text-align: right;\">\n",
       "      <th></th>\n",
       "      <th>id</th>\n",
       "      <th>date</th>\n",
       "      <th>price</th>\n",
       "      <th>bedrooms</th>\n",
       "      <th>bathrooms</th>\n",
       "      <th>sqft_living</th>\n",
       "      <th>sqft_lot</th>\n",
       "      <th>floors</th>\n",
       "      <th>waterfront</th>\n",
       "      <th>view</th>\n",
       "      <th>condition</th>\n",
       "      <th>grade</th>\n",
       "      <th>sqft_above</th>\n",
       "      <th>sqft_basement</th>\n",
       "      <th>yr_built</th>\n",
       "      <th>yr_renovated</th>\n",
       "      <th>zipcode</th>\n",
       "      <th>lat</th>\n",
       "      <th>long</th>\n",
       "      <th>sqft_living15</th>\n",
       "      <th>sqft_lot15</th>\n",
       "    </tr>\n",
       "  </thead>\n",
       "  <tbody>\n",
       "    <tr>\n",
       "      <th>0</th>\n",
       "      <td>7129300520</td>\n",
       "      <td>20141013T000000</td>\n",
       "      <td>221900.00</td>\n",
       "      <td>3</td>\n",
       "      <td>1.00</td>\n",
       "      <td>1180</td>\n",
       "      <td>5650</td>\n",
       "      <td>1.00</td>\n",
       "      <td>0</td>\n",
       "      <td>0</td>\n",
       "      <td>3</td>\n",
       "      <td>7</td>\n",
       "      <td>1180</td>\n",
       "      <td>0</td>\n",
       "      <td>1955</td>\n",
       "      <td>0</td>\n",
       "      <td>98178</td>\n",
       "      <td>47.51</td>\n",
       "      <td>-122.26</td>\n",
       "      <td>1340</td>\n",
       "      <td>5650</td>\n",
       "    </tr>\n",
       "    <tr>\n",
       "      <th>1</th>\n",
       "      <td>6414100192</td>\n",
       "      <td>20141209T000000</td>\n",
       "      <td>538000.00</td>\n",
       "      <td>3</td>\n",
       "      <td>2.25</td>\n",
       "      <td>2570</td>\n",
       "      <td>7242</td>\n",
       "      <td>2.00</td>\n",
       "      <td>0</td>\n",
       "      <td>0</td>\n",
       "      <td>3</td>\n",
       "      <td>7</td>\n",
       "      <td>2170</td>\n",
       "      <td>400</td>\n",
       "      <td>1951</td>\n",
       "      <td>1991</td>\n",
       "      <td>98125</td>\n",
       "      <td>47.72</td>\n",
       "      <td>-122.32</td>\n",
       "      <td>1690</td>\n",
       "      <td>7639</td>\n",
       "    </tr>\n",
       "    <tr>\n",
       "      <th>2</th>\n",
       "      <td>5631500400</td>\n",
       "      <td>20150225T000000</td>\n",
       "      <td>180000.00</td>\n",
       "      <td>2</td>\n",
       "      <td>1.00</td>\n",
       "      <td>770</td>\n",
       "      <td>10000</td>\n",
       "      <td>1.00</td>\n",
       "      <td>0</td>\n",
       "      <td>0</td>\n",
       "      <td>3</td>\n",
       "      <td>6</td>\n",
       "      <td>770</td>\n",
       "      <td>0</td>\n",
       "      <td>1933</td>\n",
       "      <td>0</td>\n",
       "      <td>98028</td>\n",
       "      <td>47.74</td>\n",
       "      <td>-122.23</td>\n",
       "      <td>2720</td>\n",
       "      <td>8062</td>\n",
       "    </tr>\n",
       "    <tr>\n",
       "      <th>3</th>\n",
       "      <td>2487200875</td>\n",
       "      <td>20141209T000000</td>\n",
       "      <td>604000.00</td>\n",
       "      <td>4</td>\n",
       "      <td>3.00</td>\n",
       "      <td>1960</td>\n",
       "      <td>5000</td>\n",
       "      <td>1.00</td>\n",
       "      <td>0</td>\n",
       "      <td>0</td>\n",
       "      <td>5</td>\n",
       "      <td>7</td>\n",
       "      <td>1050</td>\n",
       "      <td>910</td>\n",
       "      <td>1965</td>\n",
       "      <td>0</td>\n",
       "      <td>98136</td>\n",
       "      <td>47.52</td>\n",
       "      <td>-122.39</td>\n",
       "      <td>1360</td>\n",
       "      <td>5000</td>\n",
       "    </tr>\n",
       "    <tr>\n",
       "      <th>4</th>\n",
       "      <td>1954400510</td>\n",
       "      <td>20150218T000000</td>\n",
       "      <td>510000.00</td>\n",
       "      <td>3</td>\n",
       "      <td>2.00</td>\n",
       "      <td>1680</td>\n",
       "      <td>8080</td>\n",
       "      <td>1.00</td>\n",
       "      <td>0</td>\n",
       "      <td>0</td>\n",
       "      <td>3</td>\n",
       "      <td>8</td>\n",
       "      <td>1680</td>\n",
       "      <td>0</td>\n",
       "      <td>1987</td>\n",
       "      <td>0</td>\n",
       "      <td>98074</td>\n",
       "      <td>47.62</td>\n",
       "      <td>-122.05</td>\n",
       "      <td>1800</td>\n",
       "      <td>7503</td>\n",
       "    </tr>\n",
       "  </tbody>\n",
       "</table>\n",
       "</div>"
      ],
      "text/plain": [
       "           id             date     price  bedrooms  bathrooms  sqft_living  sqft_lot  floors  waterfront  view  condition  grade  sqft_above  sqft_basement  yr_built  yr_renovated  zipcode   lat    long  sqft_living15  sqft_lot15\n",
       "0  7129300520  20141013T000000 221900.00         3       1.00         1180      5650    1.00           0     0          3      7        1180              0      1955             0    98178 47.51 -122.26           1340        5650\n",
       "1  6414100192  20141209T000000 538000.00         3       2.25         2570      7242    2.00           0     0          3      7        2170            400      1951          1991    98125 47.72 -122.32           1690        7639\n",
       "2  5631500400  20150225T000000 180000.00         2       1.00          770     10000    1.00           0     0          3      6         770              0      1933             0    98028 47.74 -122.23           2720        8062\n",
       "3  2487200875  20141209T000000 604000.00         4       3.00         1960      5000    1.00           0     0          5      7        1050            910      1965             0    98136 47.52 -122.39           1360        5000\n",
       "4  1954400510  20150218T000000 510000.00         3       2.00         1680      8080    1.00           0     0          3      8        1680              0      1987             0    98074 47.62 -122.05           1800        7503"
      ]
     },
     "execution_count": 7,
     "metadata": {},
     "output_type": "execute_result"
    }
   ],
   "source": [
    "data.head()"
   ]
  },
  {
   "cell_type": "code",
   "execution_count": 8,
   "id": "a1048a57",
   "metadata": {},
   "outputs": [
    {
     "data": {
      "text/plain": [
       "id                 int64\n",
       "date              object\n",
       "price            float64\n",
       "bedrooms           int64\n",
       "bathrooms        float64\n",
       "sqft_living        int64\n",
       "sqft_lot           int64\n",
       "floors           float64\n",
       "waterfront         int64\n",
       "view               int64\n",
       "condition          int64\n",
       "grade              int64\n",
       "sqft_above         int64\n",
       "sqft_basement      int64\n",
       "yr_built           int64\n",
       "yr_renovated       int64\n",
       "zipcode            int64\n",
       "lat              float64\n",
       "long             float64\n",
       "sqft_living15      int64\n",
       "sqft_lot15         int64\n",
       "dtype: object"
      ]
     },
     "execution_count": 8,
     "metadata": {},
     "output_type": "execute_result"
    }
   ],
   "source": [
    "data.dtypes"
   ]
  },
  {
   "cell_type": "markdown",
   "id": "d58f8477",
   "metadata": {},
   "source": [
    "## Check NA"
   ]
  },
  {
   "cell_type": "code",
   "execution_count": 9,
   "id": "26b5ed23",
   "metadata": {},
   "outputs": [
    {
     "data": {
      "text/plain": [
       "id               0\n",
       "date             0\n",
       "price            0\n",
       "bedrooms         0\n",
       "bathrooms        0\n",
       "sqft_living      0\n",
       "sqft_lot         0\n",
       "floors           0\n",
       "waterfront       0\n",
       "view             0\n",
       "condition        0\n",
       "grade            0\n",
       "sqft_above       0\n",
       "sqft_basement    0\n",
       "yr_built         0\n",
       "yr_renovated     0\n",
       "zipcode          0\n",
       "lat              0\n",
       "long             0\n",
       "sqft_living15    0\n",
       "sqft_lot15       0\n",
       "dtype: int64"
      ]
     },
     "execution_count": 9,
     "metadata": {},
     "output_type": "execute_result"
    }
   ],
   "source": [
    "data.isna().sum()"
   ]
  },
  {
   "cell_type": "markdown",
   "id": "a672ca18",
   "metadata": {},
   "source": [
    "## Change variables types"
   ]
  },
  {
   "cell_type": "code",
   "execution_count": 10,
   "id": "91e34f6b",
   "metadata": {},
   "outputs": [
    {
     "name": "stdout",
     "output_type": "stream",
     "text": [
      "\n",
      "\n",
      "----- Change -----\n",
      "date            datetime64[ns]\n",
      "yr_built        datetime64[ns]\n",
      "yr_renovated             int64\n",
      "dtype: object\n"
     ]
    }
   ],
   "source": [
    "# change 'date' type\n",
    "#print(data[['date','yr_built','yr_renovated']].head(),'\\n')\n",
    "#print(data[['date','yr_built','yr_renovated']].dtypes)\n",
    "data['date'] = pd.to_datetime(data['date'], format='%Y-%m-%d')\n",
    "data['yr_built'] = pd.to_datetime( data['yr_built'], format='%Y')\n",
    "\n",
    "print('\\n\\n----- Change -----')\n",
    "print(data[['date','yr_built','yr_renovated']].dtypes)\n"
   ]
  },
  {
   "cell_type": "markdown",
   "id": "902f52f5",
   "metadata": {},
   "source": [
    "## Droping Dupplicates"
   ]
  },
  {
   "cell_type": "code",
   "execution_count": 11,
   "id": "18961f8d",
   "metadata": {},
   "outputs": [
    {
     "name": "stdout",
     "output_type": "stream",
     "text": [
      "21613  número de linhas\n",
      "21436  ids únicos\n",
      "177  número de ids duplicados\n"
     ]
    }
   ],
   "source": [
    "print(data.shape[0], ' número de linhas')\n",
    "print(data['id'].unique().shape[0], ' ids únicos')\n",
    "print(data.shape[0] - data['id'].unique().shape[0], ' número de ids duplicados')"
   ]
  },
  {
   "cell_type": "code",
   "execution_count": 12,
   "id": "49668681",
   "metadata": {},
   "outputs": [
    {
     "name": "stdout",
     "output_type": "stream",
     "text": [
      "nova dimensão: (21436, 21)\n"
     ]
    }
   ],
   "source": [
    "# sorting df by date\n",
    "data = data.sort_values('date', ascending=True)\n",
    "\n",
    "# del ids that first appear\n",
    "data = data.drop_duplicates(subset='id', keep='last')\n",
    "\n",
    "print('nova dimensão:', data.shape)"
   ]
  },
  {
   "cell_type": "code",
   "execution_count": 13,
   "id": "403f2fbb",
   "metadata": {},
   "outputs": [],
   "source": [
    "data.to_csv('../data/dataset.csv', index=False)\n",
    "data = pd.read_csv('../data/dataset.csv')"
   ]
  },
  {
   "cell_type": "markdown",
   "id": "52cbdd4a",
   "metadata": {},
   "source": [
    "# Descriptive Statistics"
   ]
  },
  {
   "cell_type": "code",
   "execution_count": 14,
   "id": "1288181d",
   "metadata": {},
   "outputs": [
    {
     "name": "stdout",
     "output_type": "stream",
     "text": [
      "       attributes           max        min          mean        median           std\n",
      "0              id 9900000190.00 1000102.00 4580765328.18 3904921185.00 2876522535.73\n",
      "1           price    7700000.00   75000.00     541649.96     450000.00     367306.36\n",
      "2        bedrooms         33.00       0.00          3.37          3.00          0.93\n",
      "3       bathrooms          8.00       0.00          2.12          2.25          0.77\n",
      "4     sqft_living      13540.00     290.00       2082.70       1920.00        919.13\n",
      "5        sqft_lot    1651359.00     520.00      15135.64       7614.00      41537.65\n",
      "6          floors          3.50       1.00          1.50          1.50          0.54\n",
      "7      waterfront          1.00       0.00          0.01          0.00          0.09\n",
      "8            view          4.00       0.00          0.24          0.00          0.77\n",
      "9       condition          5.00       1.00          3.41          3.00          0.65\n",
      "10          grade         13.00       1.00          7.66          7.00          1.17\n",
      "11     sqft_above       9410.00     290.00       1790.96       1560.00        829.01\n",
      "12  sqft_basement       4820.00       0.00        291.74          0.00        442.77\n",
      "13   yr_renovated       2015.00       0.00         84.73          0.00        402.42\n",
      "14        zipcode      98199.00   98001.00      98077.86      98065.00         53.47\n",
      "15            lat         47.78      47.16         47.56         47.57          0.14\n",
      "16           long       -121.31    -122.52       -122.21       -122.23          0.14\n",
      "17  sqft_living15       6210.00     399.00       1988.31       1840.00        685.68\n",
      "18     sqft_lot15     871200.00     651.00      12785.96       7620.00      27374.83\n"
     ]
    }
   ],
   "source": [
    "num_attributes = data.select_dtypes(include=['int64', 'float64'])\n",
    "\n",
    "media = pd.DataFrame(num_attributes.apply(np.mean))\n",
    "mediana = pd.DataFrame(num_attributes.apply(np.median))\n",
    "std = pd.DataFrame(num_attributes.apply(np.std))\n",
    "\n",
    "max_ = pd.DataFrame(num_attributes.apply(np.max))\n",
    "min_ = pd.DataFrame(num_attributes.apply(np.min))\n",
    "\n",
    "desc = pd.concat([max_, min_, media, mediana, std], axis=1).reset_index()\n",
    "desc.columns = ['attributes', 'max', 'min', 'mean', 'median', 'std']\n",
    "\n",
    "print(desc)"
   ]
  },
  {
   "cell_type": "markdown",
   "id": "c5178a8d",
   "metadata": {},
   "source": [
    "# Feature Engineering"
   ]
  },
  {
   "cell_type": "markdown",
   "id": "05d0e0a7",
   "metadata": {},
   "source": [
    "## Hypothesis creation"
   ]
  },
  {
   "cell_type": "raw",
   "id": "8fbc460c",
   "metadata": {},
   "source": [
    "1 - Propriedades com vista para o mar são 50% mais caras.\n",
    "2 - As propriedades com porões têm qualidade superior.\n",
    "3 - Propriedades com porões têm maior espaço interior.\n",
    "4 - Imóveis com subsolo são 15% mais caros.\n",
    "5 - As propriedades construídas com porões diminuíram ao longo dos anos.\n",
    "6 - Imóveis com 1 a 2 banheiros são 20% mais caros do que imóveis com até 1 banheiro.\n",
    "7 - Propriedades com 3 quartos são 25% mais caras do que aquelas com 2 quartos.\n",
    "8 - Imóveis com 2 pavimentos são 15% mais caros do que imóveis com 1 pavimento.\n",
    "9 - A maioria das propriedades (+ 50%) ficou disponível durante o verão / primavera.\n",
    "10 - As propriedades disponíveis durante o verão / primavera são 20% mais caras.\n",
    "11 - A maioria das propriedades (+ 50%) está localizada em um rádio a 15 km do lago.\n",
    "12 - A maioria dos imóveis (+ 50%) que devem ser comprados estão em um raio de 15km do lago.\n",
    "13 - As propriedades selecionadas para compra localizadas em um raio de 15 km do lago correspondem a mais de 50% do lucro esperado.\n",
    "14 - As propriedades têm maior espaço interior ao longo do cronograma do ano de construção.\n",
    "15 - Os imóveis que não foram reformados são 40% mais baratos."
   ]
  },
  {
   "cell_type": "markdown",
   "id": "6e263306",
   "metadata": {},
   "source": [
    "## Features Creation"
   ]
  },
  {
   "cell_type": "code",
   "execution_count": 15,
   "id": "4f1bac6e",
   "metadata": {},
   "outputs": [
    {
     "name": "stdout",
     "output_type": "stream",
     "text": [
      "DATASET ATUALIZADO\n"
     ]
    }
   ],
   "source": [
    "geo = pd.read_csv('../data/geolocator.csv') \n",
    "\n",
    "if len(geo) != (len(data) - 1):\n",
    "        \n",
    "    df_geo = data[['id','lat','long']].copy()\n",
    "    df_geo['road'] = 'NA'\n",
    "    df_geo['house_number'] = 'NA'\n",
    "    df_geo['neighbourhood'] = 'NA'\n",
    "    df_geo['city'] = 'NA'\n",
    "    df_geo['country'] = 'NA'\n",
    "    df_geo['state'] = 'NA'\n",
    "    df_geo['osm'] = 'NA'\n",
    "    \n",
    "    print('INICIO DA COLETA')\n",
    "    s = 0\n",
    "    e = 2000\n",
    "    \n",
    "    print('NÚMERO DE LINHAS', len(df_geo))\n",
    "    \n",
    "    while s < len(df_geo):\n",
    "        \n",
    "        geolocator = Nominatim( user_agent='geoapiExercises')\n",
    "        \n",
    "        try:\n",
    "            for i in range(s,e):\n",
    "\n",
    "                query = str(df_geo.loc[i, 'lat']) + ',' + str(df_geo.loc[i,'long'])\n",
    "\n",
    "                response = geolocator.reverse(query) #API Request\n",
    "\n",
    "                #Populate data\n",
    "                if 'house_number' in response.raw['address']:\n",
    "                    df_geo.loc[i, 'house_number'] = response.raw['address']['house_number']\n",
    "\n",
    "                if 'road' in response.raw['address']:\n",
    "                    df_geo.loc[i, 'road'] = response.raw['address']['road']\n",
    "\n",
    "                if 'neighbourhood' in response.raw['address']:\n",
    "                    df_geo.loc[i, 'neighbourhood'] = response.raw['address']['neighbourhood']\n",
    "\n",
    "                if 'city' in response.raw['address']:\n",
    "                    df_geo.loc[i, 'city'] = response.raw['address']['city']\n",
    "\n",
    "                if 'country' in response.raw['address']:\n",
    "                    df_geo.loc[i, 'country'] = response.raw['address']['country']\n",
    "\n",
    "                if 'state' in response.raw['address']:\n",
    "                    df_geo.loc[i, 'state'] = response.raw['address']['state']\n",
    "\n",
    "                if 'osm_type' in response.raw:\n",
    "                    df_geo.loc[i, 'osm'] = response.raw['osm_type']\n",
    "\n",
    "            print('UPDATE LINES {} | {}'.format(s,e))\n",
    "\n",
    "            aux = df_geo\n",
    "            aux.to_csv('../data/geolocator.csv', index=False, header=False)\n",
    "            \n",
    "            s = e + 1\n",
    "            e = e + 2000\n",
    "            if e >= len(df_geo):\n",
    "                e = len(df_geo)\n",
    "            else:\n",
    "                e = e\n",
    "        \n",
    "        except:\n",
    "            print('ERRO NA REQUISIÇÃO')\n",
    "        \n",
    "    print('FIM DA COLETA')\n",
    "    \n",
    "    cols_name = ['id','lat','long','road','house_number','neighbourhood','city','country','state','osm']\n",
    "    \n",
    "    df_geo = pd.read_csv('../data/geolocator.csv',names=cols_name)\n",
    "    df_geo = df_geo.drop(columns=['lat', 'long'])\n",
    "    \n",
    "    data = pd.merge(data, df_geo, how='left', on='id')\n",
    "\n",
    "else:\n",
    "    print('DATASET ATUALIZADO')\n",
    "    \n",
    "    cols_name = ['id','lat','long','road','house_number','neighbourhood','city','country','state','osm']\n",
    "    df_geo = pd.read_csv('../data/geolocator.csv',names=cols_name)\n",
    "    df_geo = df_geo.drop(columns=['lat', 'long'])\n",
    "    \n",
    "    data = pd.merge(data, df_geo, how='left', on='id')    "
   ]
  },
  {
   "cell_type": "code",
   "execution_count": 17,
   "id": "25b23b24",
   "metadata": {},
   "outputs": [
    {
     "data": {
      "text/html": [
       "<div>\n",
       "<style scoped>\n",
       "    .dataframe tbody tr th:only-of-type {\n",
       "        vertical-align: middle;\n",
       "    }\n",
       "\n",
       "    .dataframe tbody tr th {\n",
       "        vertical-align: top;\n",
       "    }\n",
       "\n",
       "    .dataframe thead th {\n",
       "        text-align: right;\n",
       "    }\n",
       "</style>\n",
       "<table border=\"1\" class=\"dataframe\">\n",
       "  <thead>\n",
       "    <tr style=\"text-align: right;\">\n",
       "      <th></th>\n",
       "      <th>id</th>\n",
       "      <th>price</th>\n",
       "      <th>zipcode</th>\n",
       "      <th>median_price</th>\n",
       "    </tr>\n",
       "  </thead>\n",
       "  <tbody>\n",
       "    <tr>\n",
       "      <th>17660</th>\n",
       "      <td>9385200042</td>\n",
       "      <td>529500.00</td>\n",
       "      <td>98116</td>\n",
       "      <td>565500.00</td>\n",
       "    </tr>\n",
       "    <tr>\n",
       "      <th>15939</th>\n",
       "      <td>6137500310</td>\n",
       "      <td>1315000.00</td>\n",
       "      <td>98007</td>\n",
       "      <td>560000.00</td>\n",
       "    </tr>\n",
       "    <tr>\n",
       "      <th>16113</th>\n",
       "      <td>8965450190</td>\n",
       "      <td>295000.00</td>\n",
       "      <td>98006</td>\n",
       "      <td>760184.50</td>\n",
       "    </tr>\n",
       "    <tr>\n",
       "      <th>15987</th>\n",
       "      <td>6888900115</td>\n",
       "      <td>555750.00</td>\n",
       "      <td>98118</td>\n",
       "      <td>370000.00</td>\n",
       "    </tr>\n",
       "    <tr>\n",
       "      <th>13157</th>\n",
       "      <td>7229900250</td>\n",
       "      <td>228000.00</td>\n",
       "      <td>98059</td>\n",
       "      <td>435000.00</td>\n",
       "    </tr>\n",
       "  </tbody>\n",
       "</table>\n",
       "</div>"
      ],
      "text/plain": [
       "               id      price  zipcode  median_price\n",
       "17660  9385200042  529500.00    98116     565500.00\n",
       "15939  6137500310 1315000.00    98007     560000.00\n",
       "16113  8965450190  295000.00    98006     760184.50\n",
       "15987  6888900115  555750.00    98118     370000.00\n",
       "13157  7229900250  228000.00    98059     435000.00"
      ]
     },
     "execution_count": 17,
     "metadata": {},
     "output_type": "execute_result"
    }
   ],
   "source": [
    "# media de preço por zipcode\n",
    "\n",
    "# create media\n",
    "temp = data[['price','zipcode']].groupby('zipcode').median().reset_index().rename(columns={'price': 'median_price'})\n",
    "temp.head()\n",
    "\n",
    "# merge on dataset\n",
    "data = pd.merge(data, temp, on='zipcode', how='left')\n",
    "data[['id', 'price', 'zipcode', 'median_price']].sample(5)\n"
   ]
  },
  {
   "cell_type": "code",
   "execution_count": 18,
   "id": "71c42a5a",
   "metadata": {},
   "outputs": [
    {
     "data": {
      "text/html": [
       "<div>\n",
       "<style scoped>\n",
       "    .dataframe tbody tr th:only-of-type {\n",
       "        vertical-align: middle;\n",
       "    }\n",
       "\n",
       "    .dataframe tbody tr th {\n",
       "        vertical-align: top;\n",
       "    }\n",
       "\n",
       "    .dataframe thead th {\n",
       "        text-align: right;\n",
       "    }\n",
       "</style>\n",
       "<table border=\"1\" class=\"dataframe\">\n",
       "  <thead>\n",
       "    <tr style=\"text-align: right;\">\n",
       "      <th></th>\n",
       "      <th>id</th>\n",
       "      <th>zipcode</th>\n",
       "      <th>price</th>\n",
       "      <th>median_price</th>\n",
       "      <th>condition</th>\n",
       "      <th>decision</th>\n",
       "    </tr>\n",
       "  </thead>\n",
       "  <tbody>\n",
       "    <tr>\n",
       "      <th>1793</th>\n",
       "      <td>567000408</td>\n",
       "      <td>98144</td>\n",
       "      <td>400000.00</td>\n",
       "      <td>452500.00</td>\n",
       "      <td>3</td>\n",
       "      <td>1</td>\n",
       "    </tr>\n",
       "    <tr>\n",
       "      <th>17719</th>\n",
       "      <td>7895500550</td>\n",
       "      <td>98001</td>\n",
       "      <td>190848.00</td>\n",
       "      <td>260000.00</td>\n",
       "      <td>3</td>\n",
       "      <td>1</td>\n",
       "    </tr>\n",
       "    <tr>\n",
       "      <th>11641</th>\n",
       "      <td>4322300140</td>\n",
       "      <td>98003</td>\n",
       "      <td>265000.00</td>\n",
       "      <td>269500.00</td>\n",
       "      <td>4</td>\n",
       "      <td>1</td>\n",
       "    </tr>\n",
       "    <tr>\n",
       "      <th>9470</th>\n",
       "      <td>624110020</td>\n",
       "      <td>98077</td>\n",
       "      <td>730000.00</td>\n",
       "      <td>652475.00</td>\n",
       "      <td>3</td>\n",
       "      <td>0</td>\n",
       "    </tr>\n",
       "    <tr>\n",
       "      <th>9862</th>\n",
       "      <td>4140940150</td>\n",
       "      <td>98178</td>\n",
       "      <td>572000.00</td>\n",
       "      <td>279500.00</td>\n",
       "      <td>3</td>\n",
       "      <td>0</td>\n",
       "    </tr>\n",
       "  </tbody>\n",
       "</table>\n",
       "</div>"
      ],
      "text/plain": [
       "               id  zipcode     price  median_price  condition  decision\n",
       "1793    567000408    98144 400000.00     452500.00          3         1\n",
       "17719  7895500550    98001 190848.00     260000.00          3         1\n",
       "11641  4322300140    98003 265000.00     269500.00          4         1\n",
       "9470    624110020    98077 730000.00     652475.00          3         0\n",
       "9862   4140940150    98178 572000.00     279500.00          3         0"
      ]
     },
     "execution_count": 18,
     "metadata": {},
     "output_type": "execute_result"
    }
   ],
   "source": [
    "# buying decision\n",
    "# as variaveis levadas em conta são média de preço da região e a condição\n",
    "data['decision'] = data[['price', 'median_price', 'condition']].apply(lambda x: 1 if ((x['price'] <= x['median_price']) & (x['condition']>=3)) else 0, axis=1) \n",
    "data[['id', 'zipcode', 'price', 'median_price', 'condition', 'decision']].sample(5)"
   ]
  },
  {
   "cell_type": "code",
   "execution_count": 19,
   "id": "0d1d6703",
   "metadata": {},
   "outputs": [
    {
     "data": {
      "text/html": [
       "<div>\n",
       "<style scoped>\n",
       "    .dataframe tbody tr th:only-of-type {\n",
       "        vertical-align: middle;\n",
       "    }\n",
       "\n",
       "    .dataframe tbody tr th {\n",
       "        vertical-align: top;\n",
       "    }\n",
       "\n",
       "    .dataframe thead th {\n",
       "        text-align: right;\n",
       "    }\n",
       "</style>\n",
       "<table border=\"1\" class=\"dataframe\">\n",
       "  <thead>\n",
       "    <tr style=\"text-align: right;\">\n",
       "      <th></th>\n",
       "      <th>id</th>\n",
       "      <th>zipcode</th>\n",
       "      <th>price</th>\n",
       "      <th>median_price</th>\n",
       "      <th>condition</th>\n",
       "      <th>decision</th>\n",
       "      <th>selling_suggestion</th>\n",
       "    </tr>\n",
       "  </thead>\n",
       "  <tbody>\n",
       "    <tr>\n",
       "      <th>9267</th>\n",
       "      <td>8682282180</td>\n",
       "      <td>98053</td>\n",
       "      <td>509000.00</td>\n",
       "      <td>635000.00</td>\n",
       "      <td>3</td>\n",
       "      <td>1</td>\n",
       "      <td>636250.00</td>\n",
       "    </tr>\n",
       "    <tr>\n",
       "      <th>4883</th>\n",
       "      <td>425049146</td>\n",
       "      <td>98115</td>\n",
       "      <td>975000.00</td>\n",
       "      <td>570000.00</td>\n",
       "      <td>5</td>\n",
       "      <td>0</td>\n",
       "      <td>0.00</td>\n",
       "    </tr>\n",
       "    <tr>\n",
       "      <th>11922</th>\n",
       "      <td>5694000710</td>\n",
       "      <td>98103</td>\n",
       "      <td>352950.00</td>\n",
       "      <td>550000.00</td>\n",
       "      <td>1</td>\n",
       "      <td>0</td>\n",
       "      <td>0.00</td>\n",
       "    </tr>\n",
       "    <tr>\n",
       "      <th>12641</th>\n",
       "      <td>66000140</td>\n",
       "      <td>98126</td>\n",
       "      <td>398000.00</td>\n",
       "      <td>396587.50</td>\n",
       "      <td>4</td>\n",
       "      <td>0</td>\n",
       "      <td>0.00</td>\n",
       "    </tr>\n",
       "    <tr>\n",
       "      <th>21152</th>\n",
       "      <td>7129300595</td>\n",
       "      <td>98118</td>\n",
       "      <td>158000.00</td>\n",
       "      <td>370000.00</td>\n",
       "      <td>3</td>\n",
       "      <td>1</td>\n",
       "      <td>197500.00</td>\n",
       "    </tr>\n",
       "  </tbody>\n",
       "</table>\n",
       "</div>"
      ],
      "text/plain": [
       "               id  zipcode     price  median_price  condition  decision  selling_suggestion\n",
       "9267   8682282180    98053 509000.00     635000.00          3         1           636250.00\n",
       "4883    425049146    98115 975000.00     570000.00          5         0                0.00\n",
       "11922  5694000710    98103 352950.00     550000.00          1         0                0.00\n",
       "12641    66000140    98126 398000.00     396587.50          4         0                0.00\n",
       "21152  7129300595    98118 158000.00     370000.00          3         1           197500.00"
      ]
     },
     "execution_count": 19,
     "metadata": {},
     "output_type": "execute_result"
    }
   ],
   "source": [
    "# selling price suggestion\n",
    "data['selling_suggestion'] = data[['price', 'median_price', 'condition']].apply(lambda x: x['price']*1.25\n",
    "                                                                    if ((x['price'] <= x['median_price']) & (x['condition']>=3)) else 0, axis=1)\n",
    "\n",
    "data[['id', 'zipcode', 'price', 'median_price', 'condition', 'decision', 'selling_suggestion']].sample(5)\n"
   ]
  },
  {
   "cell_type": "code",
   "execution_count": 20,
   "id": "8a9329c7",
   "metadata": {},
   "outputs": [
    {
     "data": {
      "text/html": [
       "<div>\n",
       "<style scoped>\n",
       "    .dataframe tbody tr th:only-of-type {\n",
       "        vertical-align: middle;\n",
       "    }\n",
       "\n",
       "    .dataframe tbody tr th {\n",
       "        vertical-align: top;\n",
       "    }\n",
       "\n",
       "    .dataframe thead th {\n",
       "        text-align: right;\n",
       "    }\n",
       "</style>\n",
       "<table border=\"1\" class=\"dataframe\">\n",
       "  <thead>\n",
       "    <tr style=\"text-align: right;\">\n",
       "      <th></th>\n",
       "      <th>id</th>\n",
       "      <th>zipcode</th>\n",
       "      <th>price</th>\n",
       "      <th>median_price</th>\n",
       "      <th>condition</th>\n",
       "      <th>decision</th>\n",
       "      <th>selling_suggestion</th>\n",
       "      <th>expected_profit</th>\n",
       "    </tr>\n",
       "  </thead>\n",
       "  <tbody>\n",
       "    <tr>\n",
       "      <th>15481</th>\n",
       "      <td>715010130</td>\n",
       "      <td>98006</td>\n",
       "      <td>1750000.00</td>\n",
       "      <td>760184.50</td>\n",
       "      <td>3</td>\n",
       "      <td>0</td>\n",
       "      <td>0.00</td>\n",
       "      <td>0.00</td>\n",
       "    </tr>\n",
       "    <tr>\n",
       "      <th>1362</th>\n",
       "      <td>3622059155</td>\n",
       "      <td>98042</td>\n",
       "      <td>235000.00</td>\n",
       "      <td>292500.00</td>\n",
       "      <td>3</td>\n",
       "      <td>1</td>\n",
       "      <td>293750.00</td>\n",
       "      <td>58750.00</td>\n",
       "    </tr>\n",
       "    <tr>\n",
       "      <th>19829</th>\n",
       "      <td>8850000180</td>\n",
       "      <td>98144</td>\n",
       "      <td>295000.00</td>\n",
       "      <td>452500.00</td>\n",
       "      <td>4</td>\n",
       "      <td>1</td>\n",
       "      <td>368750.00</td>\n",
       "      <td>73750.00</td>\n",
       "    </tr>\n",
       "    <tr>\n",
       "      <th>19049</th>\n",
       "      <td>9253900408</td>\n",
       "      <td>98008</td>\n",
       "      <td>1400000.00</td>\n",
       "      <td>545000.00</td>\n",
       "      <td>3</td>\n",
       "      <td>0</td>\n",
       "      <td>0.00</td>\n",
       "      <td>0.00</td>\n",
       "    </tr>\n",
       "    <tr>\n",
       "      <th>16714</th>\n",
       "      <td>7511000050</td>\n",
       "      <td>98040</td>\n",
       "      <td>1100000.00</td>\n",
       "      <td>993750.00</td>\n",
       "      <td>4</td>\n",
       "      <td>0</td>\n",
       "      <td>0.00</td>\n",
       "      <td>0.00</td>\n",
       "    </tr>\n",
       "  </tbody>\n",
       "</table>\n",
       "</div>"
      ],
      "text/plain": [
       "               id  zipcode      price  median_price  condition  decision  selling_suggestion  expected_profit\n",
       "15481   715010130    98006 1750000.00     760184.50          3         0                0.00             0.00\n",
       "1362   3622059155    98042  235000.00     292500.00          3         1           293750.00         58750.00\n",
       "19829  8850000180    98144  295000.00     452500.00          4         1           368750.00         73750.00\n",
       "19049  9253900408    98008 1400000.00     545000.00          3         0                0.00             0.00\n",
       "16714  7511000050    98040 1100000.00     993750.00          4         0                0.00             0.00"
      ]
     },
     "execution_count": 20,
     "metadata": {},
     "output_type": "execute_result"
    }
   ],
   "source": [
    "# expected profit\n",
    "data['expected_profit'] = data[['price', 'selling_suggestion']].apply(lambda x: 0 if x['selling_suggestion']==0\n",
    "                                                                                        else (x['selling_suggestion'] - x['price']), axis=1) \n",
    "\n",
    "data[['id', 'zipcode', 'price', 'median_price', 'condition', 'decision', 'selling_suggestion', 'expected_profit']].sample(5)"
   ]
  },
  {
   "cell_type": "code",
   "execution_count": 21,
   "id": "84376154",
   "metadata": {},
   "outputs": [
    {
     "data": {
      "text/html": [
       "<div>\n",
       "<style scoped>\n",
       "    .dataframe tbody tr th:only-of-type {\n",
       "        vertical-align: middle;\n",
       "    }\n",
       "\n",
       "    .dataframe tbody tr th {\n",
       "        vertical-align: top;\n",
       "    }\n",
       "\n",
       "    .dataframe thead th {\n",
       "        text-align: right;\n",
       "    }\n",
       "</style>\n",
       "<table border=\"1\" class=\"dataframe\">\n",
       "  <thead>\n",
       "    <tr style=\"text-align: right;\">\n",
       "      <th></th>\n",
       "      <th>date</th>\n",
       "      <th>season</th>\n",
       "    </tr>\n",
       "  </thead>\n",
       "  <tbody>\n",
       "    <tr>\n",
       "      <th>0</th>\n",
       "      <td>2014-05-02</td>\n",
       "      <td>spring</td>\n",
       "    </tr>\n",
       "    <tr>\n",
       "      <th>1</th>\n",
       "      <td>2014-05-02</td>\n",
       "      <td>spring</td>\n",
       "    </tr>\n",
       "    <tr>\n",
       "      <th>2</th>\n",
       "      <td>2014-05-02</td>\n",
       "      <td>spring</td>\n",
       "    </tr>\n",
       "    <tr>\n",
       "      <th>3</th>\n",
       "      <td>2014-05-02</td>\n",
       "      <td>spring</td>\n",
       "    </tr>\n",
       "    <tr>\n",
       "      <th>4</th>\n",
       "      <td>2014-05-02</td>\n",
       "      <td>spring</td>\n",
       "    </tr>\n",
       "  </tbody>\n",
       "</table>\n",
       "</div>"
      ],
      "text/plain": [
       "        date  season\n",
       "0 2014-05-02  spring\n",
       "1 2014-05-02  spring\n",
       "2 2014-05-02  spring\n",
       "3 2014-05-02  spring\n",
       "4 2014-05-02  spring"
      ]
     },
     "execution_count": 21,
     "metadata": {},
     "output_type": "execute_result"
    }
   ],
   "source": [
    "data['date'] = pd.to_datetime(data['date'], format='%Y-%m-%d')\n",
    "# seasons of the year\n",
    "def date_season(date):\n",
    "    \n",
    "    year = str(date.year)\n",
    "    seasons = {'spring': pd.date_range(start='21/03/'+year, end='20/06/'+year),\n",
    "               'summer': pd.date_range(start='21/06/'+year, end='22/09/'+year),\n",
    "               'fall': pd.date_range(start='23/09/'+year, end='20/12/'+year)}\n",
    "    if date in seasons['spring']:\n",
    "        return 'spring'\n",
    "    if date in seasons['summer']:\n",
    "        return 'summer'\n",
    "    if date in seasons['fall']:\n",
    "        return 'fall'\n",
    "    else:\n",
    "        return 'winter'\n",
    "\n",
    "data['season'] = data['date'].map(date_season)\n",
    "data[['date','season']].head()"
   ]
  },
  {
   "cell_type": "code",
   "execution_count": 22,
   "id": "92a04ee2",
   "metadata": {},
   "outputs": [
    {
     "data": {
      "text/html": [
       "<div>\n",
       "<style scoped>\n",
       "    .dataframe tbody tr th:only-of-type {\n",
       "        vertical-align: middle;\n",
       "    }\n",
       "\n",
       "    .dataframe tbody tr th {\n",
       "        vertical-align: top;\n",
       "    }\n",
       "\n",
       "    .dataframe thead th {\n",
       "        text-align: right;\n",
       "    }\n",
       "</style>\n",
       "<table border=\"1\" class=\"dataframe\">\n",
       "  <thead>\n",
       "    <tr style=\"text-align: right;\">\n",
       "      <th></th>\n",
       "      <th>id</th>\n",
       "      <th>price</th>\n",
       "      <th>zipcode</th>\n",
       "      <th>median_price</th>\n",
       "      <th>med_fall</th>\n",
       "      <th>med_spring</th>\n",
       "      <th>med_summer</th>\n",
       "      <th>med_winter</th>\n",
       "    </tr>\n",
       "  </thead>\n",
       "  <tbody>\n",
       "    <tr>\n",
       "      <th>5157</th>\n",
       "      <td>4463400195</td>\n",
       "      <td>170000.00</td>\n",
       "      <td>98001</td>\n",
       "      <td>260000.00</td>\n",
       "      <td>250000.00</td>\n",
       "      <td>261000.00</td>\n",
       "      <td>263000.00</td>\n",
       "      <td>269950.00</td>\n",
       "    </tr>\n",
       "    <tr>\n",
       "      <th>17402</th>\n",
       "      <td>8857600680</td>\n",
       "      <td>285900.00</td>\n",
       "      <td>98032</td>\n",
       "      <td>250000.00</td>\n",
       "      <td>249500.00</td>\n",
       "      <td>250000.00</td>\n",
       "      <td>265000.00</td>\n",
       "      <td>243000.00</td>\n",
       "    </tr>\n",
       "    <tr>\n",
       "      <th>673</th>\n",
       "      <td>1853080640</td>\n",
       "      <td>966000.00</td>\n",
       "      <td>98074</td>\n",
       "      <td>645000.00</td>\n",
       "      <td>630000.00</td>\n",
       "      <td>657500.00</td>\n",
       "      <td>637000.00</td>\n",
       "      <td>627800.00</td>\n",
       "    </tr>\n",
       "    <tr>\n",
       "      <th>6809</th>\n",
       "      <td>5100404761</td>\n",
       "      <td>547500.00</td>\n",
       "      <td>98115</td>\n",
       "      <td>570000.00</td>\n",
       "      <td>555000.00</td>\n",
       "      <td>594500.00</td>\n",
       "      <td>550000.00</td>\n",
       "      <td>577850.00</td>\n",
       "    </tr>\n",
       "    <tr>\n",
       "      <th>4618</th>\n",
       "      <td>4348800080</td>\n",
       "      <td>641200.00</td>\n",
       "      <td>98004</td>\n",
       "      <td>1150000.00</td>\n",
       "      <td>1116500.00</td>\n",
       "      <td>1180000.00</td>\n",
       "      <td>1014250.00</td>\n",
       "      <td>1374000.00</td>\n",
       "    </tr>\n",
       "  </tbody>\n",
       "</table>\n",
       "</div>"
      ],
      "text/plain": [
       "               id     price  zipcode  median_price   med_fall  med_spring  med_summer  med_winter\n",
       "5157   4463400195 170000.00    98001     260000.00  250000.00   261000.00   263000.00   269950.00\n",
       "17402  8857600680 285900.00    98032     250000.00  249500.00   250000.00   265000.00   243000.00\n",
       "673    1853080640 966000.00    98074     645000.00  630000.00   657500.00   637000.00   627800.00\n",
       "6809   5100404761 547500.00    98115     570000.00  555000.00   594500.00   550000.00   577850.00\n",
       "4618   4348800080 641200.00    98004    1150000.00 1116500.00  1180000.00  1014250.00  1374000.00"
      ]
     },
     "execution_count": 22,
     "metadata": {},
     "output_type": "execute_result"
    }
   ],
   "source": [
    "# median price per season and zipcode\n",
    "\n",
    "# grouping by zipcode and median price by season\n",
    "aux = data[['price','zipcode','season']].groupby(['zipcode', 'season']).median().reset_index()\n",
    "\n",
    "aux1 = aux.pivot(index='zipcode', columns='season', values='price').reset_index()\n",
    "aux1 = aux1.rename(columns={'fall':'med_fall', 'spring':'med_spring', 'summer':'med_summer', 'winter':'med_winter'})\n",
    "\n",
    "# merge\n",
    "data = pd.merge(data, aux1, on='zipcode', how='left')\n",
    "\n",
    "# sample\n",
    "data[['id', 'price', 'zipcode', 'median_price', 'med_fall', 'med_spring', 'med_summer', 'med_winter']].sample(5)"
   ]
  },
  {
   "cell_type": "code",
   "execution_count": 23,
   "id": "7f7a65fe",
   "metadata": {},
   "outputs": [
    {
     "data": {
      "text/html": [
       "<div>\n",
       "<style scoped>\n",
       "    .dataframe tbody tr th:only-of-type {\n",
       "        vertical-align: middle;\n",
       "    }\n",
       "\n",
       "    .dataframe tbody tr th {\n",
       "        vertical-align: top;\n",
       "    }\n",
       "\n",
       "    .dataframe thead th {\n",
       "        text-align: right;\n",
       "    }\n",
       "</style>\n",
       "<table border=\"1\" class=\"dataframe\">\n",
       "  <thead>\n",
       "    <tr style=\"text-align: right;\">\n",
       "      <th></th>\n",
       "      <th>id</th>\n",
       "      <th>price</th>\n",
       "      <th>zipcode</th>\n",
       "      <th>median_price</th>\n",
       "      <th>med_fall</th>\n",
       "      <th>med_spring</th>\n",
       "      <th>med_summer</th>\n",
       "      <th>med_winter</th>\n",
       "      <th>decision</th>\n",
       "      <th>season_sell</th>\n",
       "    </tr>\n",
       "  </thead>\n",
       "  <tbody>\n",
       "    <tr>\n",
       "      <th>0</th>\n",
       "      <td>5561000190</td>\n",
       "      <td>437500.00</td>\n",
       "      <td>98027</td>\n",
       "      <td>571000.00</td>\n",
       "      <td>545000.00</td>\n",
       "      <td>574950.00</td>\n",
       "      <td>575000.00</td>\n",
       "      <td>538100.00</td>\n",
       "      <td>1</td>\n",
       "      <td>autumn spring summer winter</td>\n",
       "    </tr>\n",
       "    <tr>\n",
       "      <th>1</th>\n",
       "      <td>472000620</td>\n",
       "      <td>790000.00</td>\n",
       "      <td>98117</td>\n",
       "      <td>545000.00</td>\n",
       "      <td>535000.00</td>\n",
       "      <td>544000.00</td>\n",
       "      <td>545000.00</td>\n",
       "      <td>554500.00</td>\n",
       "      <td>0</td>\n",
       "      <td></td>\n",
       "    </tr>\n",
       "    <tr>\n",
       "      <th>2</th>\n",
       "      <td>1024069009</td>\n",
       "      <td>675000.00</td>\n",
       "      <td>98029</td>\n",
       "      <td>574500.00</td>\n",
       "      <td>575000.00</td>\n",
       "      <td>592500.00</td>\n",
       "      <td>561000.00</td>\n",
       "      <td>555000.00</td>\n",
       "      <td>0</td>\n",
       "      <td></td>\n",
       "    </tr>\n",
       "    <tr>\n",
       "      <th>3</th>\n",
       "      <td>7853361370</td>\n",
       "      <td>555000.00</td>\n",
       "      <td>98065</td>\n",
       "      <td>500000.00</td>\n",
       "      <td>452250.00</td>\n",
       "      <td>516000.00</td>\n",
       "      <td>485000.00</td>\n",
       "      <td>520000.00</td>\n",
       "      <td>0</td>\n",
       "      <td></td>\n",
       "    </tr>\n",
       "    <tr>\n",
       "      <th>4</th>\n",
       "      <td>5056500260</td>\n",
       "      <td>440000.00</td>\n",
       "      <td>98006</td>\n",
       "      <td>760184.50</td>\n",
       "      <td>760369.00</td>\n",
       "      <td>760000.00</td>\n",
       "      <td>758000.00</td>\n",
       "      <td>791270.50</td>\n",
       "      <td>1</td>\n",
       "      <td>autumn spring summer winter</td>\n",
       "    </tr>\n",
       "  </tbody>\n",
       "</table>\n",
       "</div>"
      ],
      "text/plain": [
       "           id     price  zipcode  median_price  med_fall  med_spring  med_summer  med_winter  decision                   season_sell\n",
       "0  5561000190 437500.00    98027     571000.00 545000.00   574950.00   575000.00   538100.00         1  autumn spring summer winter \n",
       "1   472000620 790000.00    98117     545000.00 535000.00   544000.00   545000.00   554500.00         0                              \n",
       "2  1024069009 675000.00    98029     574500.00 575000.00   592500.00   561000.00   555000.00         0                              \n",
       "3  7853361370 555000.00    98065     500000.00 452250.00   516000.00   485000.00   520000.00         0                              \n",
       "4  5056500260 440000.00    98006     760184.50 760369.00   760000.00   758000.00   791270.50         1  autumn spring summer winter "
      ]
     },
     "execution_count": 23,
     "metadata": {},
     "output_type": "execute_result"
    }
   ],
   "source": [
    "# Best season to sell\n",
    "\n",
    "data['season_sell'] = ''\n",
    "\n",
    "# defining best season to sell accorgding to avg price for each season\n",
    "for i in range (len(data)):\n",
    "    cols = ['med_fall', 'med_spring', 'med_summer', 'med_winter']\n",
    "    \n",
    "    if data.loc[i, 'decision']!=0:\n",
    "    \n",
    "        if data.loc[i, cols[0]] >= data.loc[i,'price']:\n",
    "            data.loc[i, 'season_sell'] = data.loc[i, 'season_sell'] + 'autumn '\n",
    "        if data.loc[i, cols[1]] >= data.loc[i,'price']:\n",
    "            data.loc[i, 'season_sell'] = data.loc[i, 'season_sell'] + 'spring '\n",
    "        if data.loc[i, cols[2]] >= data.loc[i,'price']:\n",
    "            data.loc[i, 'season_sell'] = data.loc[i, 'season_sell'] + 'summer '\n",
    "        if data.loc[i, cols[3]] >= data.loc[i,'price']:\n",
    "            data.loc[i, 'season_sell'] = data.loc[i, 'season_sell'] + 'winter '\n",
    "\n",
    "data[['id', 'price', 'zipcode', 'median_price', 'med_fall', 'med_spring', 'med_summer', 'med_winter', 'decision', 'season_sell']].head()"
   ]
  },
  {
   "cell_type": "markdown",
   "id": "9bc5b1e4",
   "metadata": {},
   "source": [
    "# Data exploration"
   ]
  },
  {
   "cell_type": "markdown",
   "id": "c0699c19",
   "metadata": {},
   "source": [
    "### Propriedades com vista para o mar são 40% mais caras.\n",
    "**Falso:** Propriedades com vista para água tem um valor 211.76% mais caras."
   ]
  },
  {
   "cell_type": "code",
   "execution_count": 27,
   "id": "27955bf8",
   "metadata": {},
   "outputs": [
    {
     "name": "stdout",
     "output_type": "stream",
     "text": [
      "\n",
      "Propriedades com vista para água são 211.76 % mais caras\n"
     ]
    }
   ],
   "source": [
    "aux = data[['waterfront', 'price']].groupby('waterfront').mean().reset_index()\n",
    "\n",
    "not_waterfront = aux.iloc[0,1]\n",
    "yes_waterfront = aux.iloc[1,1]\n",
    "\n",
    "percent = abs( ((yes_waterfront - not_waterfront) / not_waterfront)*100 )\n",
    "print('\\nPropriedades com vista para água são', '{:,.2f}'.format(percent),'% mais caras')"
   ]
  },
  {
   "cell_type": "markdown",
   "id": "c57a6949",
   "metadata": {},
   "source": [
    "### As propriedades com porões têm um estado de conservação melhor.\n",
    "**Verdade:** Propriedades com porões tem qualidade ligeiramente superior."
   ]
  },
  {
   "cell_type": "code",
   "execution_count": 52,
   "id": "c6186a65",
   "metadata": {},
   "outputs": [
    {
     "data": {
      "image/png": "[encoded data removed]",
      "text/plain": [
       "<Figure size 720x576 with 1 Axes>"
      ]
     },
     "metadata": {
      "needs_background": "light"
     },
     "output_type": "display_data"
    }
   ],
   "source": [
    "# propriedades com porão\n",
    "aux = data[data['sqft_basement']!=0][['id','condition','sqft_basement']].copy()\n",
    "\n",
    "y_porao = aux[['id','condition']].groupby('condition').count().reset_index()\n",
    "plt.bar(y_porao['condition'], y_porao['id'])\n",
    "plt.rcParams['figure.figsize'] = (10,8)"
   ]
  },
  {
   "cell_type": "code",
   "execution_count": 51,
   "id": "3901911d",
   "metadata": {},
   "outputs": [
    {
     "data": {
      "image/png": "[encoded data removed]",
      "text/plain": [
       "<Figure size 720x576 with 1 Axes>"
      ]
     },
     "metadata": {
      "needs_background": "light"
     },
     "output_type": "display_data"
    }
   ],
   "source": [
    "# propriedades sem porão\n",
    "aux = data[data['sqft_basement']==0][['id','condition','sqft_basement']].copy()\n",
    "\n",
    "n_porao = aux[['id','condition']].groupby('condition').count().reset_index()\n",
    "plt.bar(n_porao['condition'], n_porao['id'])\n",
    "plt.rcParams['figure.figsize'] = (10,8)"
   ]
  },
  {
   "cell_type": "code",
   "execution_count": 54,
   "id": "eeca55e8",
   "metadata": {},
   "outputs": [
    {
     "name": "stdout",
     "output_type": "stream",
     "text": [
      "Nota média ponderada para propriedades com porão: 3.52\n",
      "Nota média ponderada para propriedades sem porão: 3.34\n",
      "\n",
      "Pequena diferença na qualidade para propriedades com porão.\n"
     ]
    }
   ],
   "source": [
    "# weighted average grade\n",
    "avg_yporao = np.average(np.array(y_porao['condition']), weights=np.array(y_porao['id']))\n",
    "print('Nota média ponderada para propriedades com porão: {:,.2f}'.format(avg_yporao))\n",
    "\n",
    "avg_nporao = np.average(np.array(n_porao['condition']), weights=np.array(n_porao['id']))\n",
    "print('Nota média ponderada para propriedades sem porão: {:,.2f}'.format(avg_nporao))\n",
    "\n",
    "print('\\nPequena diferença na qualidade para propriedades com porão.')"
   ]
  },
  {
   "cell_type": "markdown",
   "id": "84d745ce",
   "metadata": {},
   "source": [
    "### Propriedades com porões têm maior espaço interior.\n",
    "**Verdade:** As propriedades com cave têm, em média, maior espaço interior."
   ]
  },
  {
   "cell_type": "code",
   "execution_count": 37,
   "id": "041153b6",
   "metadata": {},
   "outputs": [
    {
     "data": {
      "text/plain": [
       "sqft_living   2315.30\n",
       "dtype: float64"
      ]
     },
     "execution_count": 37,
     "metadata": {},
     "output_type": "execute_result"
    }
   ],
   "source": [
    "y_porao = data[data['sqft_basement']!=0][['sqft_living']].mean()\n",
    "y_porao"
   ]
  },
  {
   "cell_type": "code",
   "execution_count": 38,
   "id": "7fa1fe96",
   "metadata": {},
   "outputs": [
    {
     "data": {
      "text/plain": [
       "sqft_living   1932.21\n",
       "dtype: float64"
      ]
     },
     "execution_count": 38,
     "metadata": {},
     "output_type": "execute_result"
    }
   ],
   "source": [
    "n_porao = data[data['sqft_basement']==0][['sqft_living']].mean()\n",
    "n_porao"
   ]
  },
  {
   "cell_type": "markdown",
   "id": "ee55c1e0",
   "metadata": {},
   "source": [
    "### Propriedades com porões são 15% mais caras.\n",
    "**Falso:** Imóveis com subsolo são 27,84% mais caros."
   ]
  },
  {
   "cell_type": "code",
   "execution_count": 40,
   "id": "93cbedab",
   "metadata": {},
   "outputs": [
    {
     "name": "stdout",
     "output_type": "stream",
     "text": [
      "Average price of properties with basement: 623,967.32\n",
      "Average price of properties without basement: 488,388.76\n",
      "Properties with basement are 27.76 % more expensive.\n"
     ]
    }
   ],
   "source": [
    "y_porao = data[data['sqft_basement']!=0][['price']].mean()[0]\n",
    "print('Average price of properties with basement: {:,.2f}'.format(y_porao))\n",
    "\n",
    "n_porao = data[data['sqft_basement']==0][['price']].mean()[0]\n",
    "print('Average price of properties without basement: {:,.2f}'.format(n_porao))\n",
    "\n",
    "percent = abs( ((y_porao - n_porao) / n_porao)*100 )\n",
    "print('Properties with basement are', '{:,.2f}'.format(percent),'% more expensive.')"
   ]
  },
  {
   "cell_type": "markdown",
   "id": "3b9c3b6e",
   "metadata": {},
   "source": [
    "### Propriedades construídas com porões diminuíram ao longo dos anos.\n",
    "**Verdade:** Propriedades construídas com subsolos diminuíram após os anos 80."
   ]
  },
  {
   "cell_type": "code",
   "execution_count": 56,
   "id": "10d479de",
   "metadata": {},
   "outputs": [
    {
     "data": {
      "text/html": [
       "<div>\n",
       "<style scoped>\n",
       "    .dataframe tbody tr th:only-of-type {\n",
       "        vertical-align: middle;\n",
       "    }\n",
       "\n",
       "    .dataframe tbody tr th {\n",
       "        vertical-align: top;\n",
       "    }\n",
       "\n",
       "    .dataframe thead th {\n",
       "        text-align: right;\n",
       "    }\n",
       "</style>\n",
       "<table border=\"1\" class=\"dataframe\">\n",
       "  <thead>\n",
       "    <tr style=\"text-align: right;\">\n",
       "      <th></th>\n",
       "      <th>yr_built</th>\n",
       "      <th>id</th>\n",
       "    </tr>\n",
       "  </thead>\n",
       "  <tbody>\n",
       "    <tr>\n",
       "      <th>0</th>\n",
       "      <td>1900-01-01</td>\n",
       "      <td>86</td>\n",
       "    </tr>\n",
       "    <tr>\n",
       "      <th>1</th>\n",
       "      <td>1901-01-01</td>\n",
       "      <td>29</td>\n",
       "    </tr>\n",
       "    <tr>\n",
       "      <th>2</th>\n",
       "      <td>1902-01-01</td>\n",
       "      <td>27</td>\n",
       "    </tr>\n",
       "    <tr>\n",
       "      <th>3</th>\n",
       "      <td>1903-01-01</td>\n",
       "      <td>45</td>\n",
       "    </tr>\n",
       "    <tr>\n",
       "      <th>4</th>\n",
       "      <td>1904-01-01</td>\n",
       "      <td>44</td>\n",
       "    </tr>\n",
       "  </tbody>\n",
       "</table>\n",
       "</div>"
      ],
      "text/plain": [
       "     yr_built  id\n",
       "0  1900-01-01  86\n",
       "1  1901-01-01  29\n",
       "2  1902-01-01  27\n",
       "3  1903-01-01  45\n",
       "4  1904-01-01  44"
      ]
     },
     "execution_count": 56,
     "metadata": {},
     "output_type": "execute_result"
    }
   ],
   "source": [
    "total = data[['id', 'yr_built']].groupby('yr_built').count().reset_index() \n",
    "total.head()"
   ]
  },
  {
   "cell_type": "code",
   "execution_count": 57,
   "id": "d00767a2",
   "metadata": {},
   "outputs": [
    {
     "data": {
      "text/html": [
       "<div>\n",
       "<style scoped>\n",
       "    .dataframe tbody tr th:only-of-type {\n",
       "        vertical-align: middle;\n",
       "    }\n",
       "\n",
       "    .dataframe tbody tr th {\n",
       "        vertical-align: top;\n",
       "    }\n",
       "\n",
       "    .dataframe thead th {\n",
       "        text-align: right;\n",
       "    }\n",
       "</style>\n",
       "<table border=\"1\" class=\"dataframe\">\n",
       "  <thead>\n",
       "    <tr style=\"text-align: right;\">\n",
       "      <th></th>\n",
       "      <th>yr_built</th>\n",
       "      <th>sqft_basement</th>\n",
       "    </tr>\n",
       "  </thead>\n",
       "  <tbody>\n",
       "    <tr>\n",
       "      <th>0</th>\n",
       "      <td>1900-01-01</td>\n",
       "      <td>29</td>\n",
       "    </tr>\n",
       "    <tr>\n",
       "      <th>1</th>\n",
       "      <td>1901-01-01</td>\n",
       "      <td>11</td>\n",
       "    </tr>\n",
       "    <tr>\n",
       "      <th>2</th>\n",
       "      <td>1902-01-01</td>\n",
       "      <td>5</td>\n",
       "    </tr>\n",
       "    <tr>\n",
       "      <th>3</th>\n",
       "      <td>1903-01-01</td>\n",
       "      <td>10</td>\n",
       "    </tr>\n",
       "    <tr>\n",
       "      <th>4</th>\n",
       "      <td>1904-01-01</td>\n",
       "      <td>20</td>\n",
       "    </tr>\n",
       "  </tbody>\n",
       "</table>\n",
       "</div>"
      ],
      "text/plain": [
       "     yr_built  sqft_basement\n",
       "0  1900-01-01             29\n",
       "1  1901-01-01             11\n",
       "2  1902-01-01              5\n",
       "3  1903-01-01             10\n",
       "4  1904-01-01             20"
      ]
     },
     "execution_count": 57,
     "metadata": {},
     "output_type": "execute_result"
    }
   ],
   "source": [
    "y_porao = data[data['sqft_basement']!=0][['sqft_basement','yr_built']].groupby('yr_built').count().reset_index()\n",
    "y_porao.head()"
   ]
  },
  {
   "cell_type": "code",
   "execution_count": 58,
   "id": "1bf1a44f",
   "metadata": {},
   "outputs": [
    {
     "data": {
      "text/html": [
       "<div>\n",
       "<style scoped>\n",
       "    .dataframe tbody tr th:only-of-type {\n",
       "        vertical-align: middle;\n",
       "    }\n",
       "\n",
       "    .dataframe tbody tr th {\n",
       "        vertical-align: top;\n",
       "    }\n",
       "\n",
       "    .dataframe thead th {\n",
       "        text-align: right;\n",
       "    }\n",
       "</style>\n",
       "<table border=\"1\" class=\"dataframe\">\n",
       "  <thead>\n",
       "    <tr style=\"text-align: right;\">\n",
       "      <th></th>\n",
       "      <th>yr_built</th>\n",
       "      <th>properties</th>\n",
       "      <th>y_porao</th>\n",
       "      <th>n_porao</th>\n",
       "    </tr>\n",
       "  </thead>\n",
       "  <tbody>\n",
       "    <tr>\n",
       "      <th>0</th>\n",
       "      <td>1900-01-01</td>\n",
       "      <td>86</td>\n",
       "      <td>29</td>\n",
       "      <td>57</td>\n",
       "    </tr>\n",
       "    <tr>\n",
       "      <th>1</th>\n",
       "      <td>1901-01-01</td>\n",
       "      <td>29</td>\n",
       "      <td>11</td>\n",
       "      <td>18</td>\n",
       "    </tr>\n",
       "    <tr>\n",
       "      <th>2</th>\n",
       "      <td>1902-01-01</td>\n",
       "      <td>27</td>\n",
       "      <td>5</td>\n",
       "      <td>22</td>\n",
       "    </tr>\n",
       "    <tr>\n",
       "      <th>3</th>\n",
       "      <td>1903-01-01</td>\n",
       "      <td>45</td>\n",
       "      <td>10</td>\n",
       "      <td>35</td>\n",
       "    </tr>\n",
       "    <tr>\n",
       "      <th>4</th>\n",
       "      <td>1904-01-01</td>\n",
       "      <td>44</td>\n",
       "      <td>20</td>\n",
       "      <td>24</td>\n",
       "    </tr>\n",
       "  </tbody>\n",
       "</table>\n",
       "</div>"
      ],
      "text/plain": [
       "     yr_built  properties  y_porao  n_porao\n",
       "0  1900-01-01          86       29       57\n",
       "1  1901-01-01          29       11       18\n",
       "2  1902-01-01          27        5       22\n",
       "3  1903-01-01          45       10       35\n",
       "4  1904-01-01          44       20       24"
      ]
     },
     "execution_count": 58,
     "metadata": {},
     "output_type": "execute_result"
    }
   ],
   "source": [
    "compara = pd.merge(total, y_porao, on='yr_built', how='left').rename(columns={'id': 'properties', 'sqft_basement': 'y_porao'})\n",
    "compara['n_porao'] = compara['properties'] - compara['y_porao']\n",
    "compara.head()"
   ]
  },
  {
   "cell_type": "code",
   "execution_count": 44,
   "id": "1a1c7cd3",
   "metadata": {},
   "outputs": [
    {
     "data": {
      "image/png": "[encoded data removed]",
      "text/plain": [
       "<Figure size 720x576 with 1 Axes>"
      ]
     },
     "metadata": {
      "needs_background": "light"
     },
     "output_type": "display_data"
    }
   ],
   "source": [
    "plt.plot(compara['yr_built'], compara['y_porao'], color='blue', label='Possui porão')\n",
    "plt.plot(compara['yr_built'], compara['n_porao'], color='orange', label='Não possui porão')\n",
    "plt.xlabel('Ano de construção')\n",
    "plt.ylabel('N° de propriedades')\n",
    "plt.legend()\n",
    "plt.show()"
   ]
  },
  {
   "cell_type": "markdown",
   "id": "db9d5501",
   "metadata": {},
   "source": [
    "### Imóveis com 2 banheiros são 20% mais caros do que imóveis com até 1 banheiro.\n",
    "**Falso:** Imóveis com 2 banheiros são 37,99% mais caros do que aqueles com até 1 banheiro."
   ]
  },
  {
   "cell_type": "code",
   "execution_count": 63,
   "id": "4ff10b5a",
   "metadata": {},
   "outputs": [
    {
     "name": "stdout",
     "output_type": "stream",
     "text": [
      "Average price of properties with up to 1 bathroom: 332,861.36\n",
      "Average price of properties with 2 bathroom: 459,307.01\n",
      "Properties with 1 to 2 bathrooms are 37.99 % more expensive.\n"
     ]
    }
   ],
   "source": [
    "aux = data[['id', 'bathrooms', 'price']].copy()\n",
    "\n",
    "aux1 = (aux.groupby('bathrooms').agg(properties = ('id', 'count'),\n",
    "                                avg_price  = ('price', 'mean'))).reset_index()\n",
    "\n",
    "aux2 = aux1[aux1['bathrooms']<=1] # up to 1 bathroom\n",
    "aux2_mean = aux2['avg_price'].mean()\n",
    "print('Average price of properties with up to 1 bathroom: {:,.2f}'.format(aux2_mean))\n",
    "\n",
    "# aux3 = aux1[(aux1['bathrooms']>1) & (aux1['bathrooms']<=2)] # 1 to 2 bathrooms\n",
    "aux3 = aux1[(aux1['bathrooms']==2)] # 1 to 2 bathrooms\n",
    "aux3_mean = aux3['avg_price'].mean()\n",
    "print('Average price of properties with 2 bathroom: {:,.2f}'.format(aux3_mean))\n",
    "\n",
    "percentage = abs( ((aux3_mean - aux2_mean) / aux2_mean)*100 )\n",
    "print('Properties with 1 to 2 bathrooms are', '{:,.2f}'.format(percentage),'% more expensive.')"
   ]
  },
  {
   "cell_type": "code",
   "execution_count": 70,
   "id": "a9471cef",
   "metadata": {},
   "outputs": [
    {
     "name": "stdout",
     "output_type": "stream",
     "text": [
      "Média de preço de imóveis reformados: 647,088.46\n",
      "Média de preço de imóveis sem reformas: 531,875.73\n",
      "Imóveis reformados são  17.80 % mais caros.\n"
     ]
    }
   ],
   "source": [
    "# imóveis reformados são 30% mais caros\n",
    "\n",
    "aux = data[['id', 'yr_renovated', 'price']].copy()\n",
    "\n",
    "aux1 = (aux.groupby('yr_renovated').agg(properties = ('id', 'count'),\n",
    "                                    avg_price  = ('price', 'mean'))).reset_index()\n",
    "\n",
    "aux2 = aux1[aux1['yr_renovated'] > 0 ]\n",
    "aux2_mean = aux2['avg_price'].mean()\n",
    "print('Média de preço de imóveis reformados: {:,.2f}'.format(aux2_mean))\n",
    "\n",
    "aux3 = aux1[aux1['yr_renovated'] == 0 ]\n",
    "aux3_mean = aux3['avg_price'].mean()\n",
    "print('Média de preço de imóveis sem reformas: {:,.2f}'.format(aux3_mean))\n",
    "\n",
    "percentage = abs( ((aux3_mean - aux2_mean) / aux2_mean)*100 )\n",
    "print('Imóveis reformados são ', '{:,.2f}'.format(percentage),'% mais caros.')"
   ]
  },
  {
   "cell_type": "markdown",
   "id": "6fddf01c",
   "metadata": {},
   "source": [
    "### Propriedades com 3 quartos são 30% mais caras do que aquelas com 2 quartos.\n",
    "** Falso: ** Imóveis com 3 quartos são 25,24% mais caros do que aqueles com 2 quartos."
   ]
  },
  {
   "cell_type": "code",
   "execution_count": 59,
   "id": "e6888295",
   "metadata": {},
   "outputs": [
    {
     "name": "stdout",
     "output_type": "stream",
     "text": [
      "Average price of properties with 2 bedrooms: 321180.07216494845\n",
      "Average price of properties with 3 bedrooms: 402230.3735380117\n",
      "Properties with 3 bedrooms are  25.24 % more expensive than those which have 2 bedrooms.\n"
     ]
    }
   ],
   "source": [
    "aux = data[['id', 'bedrooms', 'price']].copy()\n",
    "\n",
    "aux1 = (aux.groupby('bedrooms').agg(properties = ('id', 'count'),\n",
    "                               avg_price  = ('price', 'mean'))).reset_index()\n",
    "\n",
    "aux2 = aux1.iloc[1,2]\n",
    "aux3 = aux1.iloc[2,2]\n",
    "\n",
    "print('Average price of properties with 2 bedrooms:', aux2)\n",
    "print('Average price of properties with 3 bedrooms:', aux3)\n",
    "\n",
    "percentage = abs( ((aux3 - aux2) / aux2)*100 )\n",
    "print('Properties with 3 bedrooms are ', '{:,.2f}'.format(percentage),'% more expensive than those which have 2 bedrooms.')"
   ]
  },
  {
   "cell_type": "markdown",
   "id": "bbf33ec9",
   "metadata": {},
   "source": [
    "### Imóveis com 2 pavimentos são 15% mais caros do que imóveis com 1 pavimento.\n",
    "** Falso: ** Imóveis com 2 pavimentos são 29,25% mais caros do que imóveis com 1 pavimento."
   ]
  },
  {
   "cell_type": "code",
   "execution_count": null,
   "id": "b097266e",
   "metadata": {},
   "outputs": [],
   "source": [
    "aux = data[['id', 'floors', 'buying_price']].copy()\n",
    "\n",
    "aux1 = (aux.groupby('floors').agg(properties = ('id', 'count'),\n",
    "                             avg_price  = ('buying_price', 'mean'))).reset_index()\n",
    "\n",
    "f1 = aux1[aux1['floors']<2]\n",
    "f1_mean = f1['avg_price'].mean()\n",
    "print('Average price of properties with less than 2 floors: {:,.2f}'.format(f1_mean))\n",
    "\n",
    "f2= aux1[aux1['floors']==2]\n",
    "f2_mean = f2['avg_price'].mean()\n",
    "print('Average price of properties with 2 floors: {:,.2f}'.format(f2_mean))\n",
    "\n",
    "percentage = abs( ((f2_mean - f1_mean) / f1_mean)*100 )\n",
    "print('Properties with 2 floors are {:,.2f}'.format(percentage),'% more expensive than those with 1 floor.')"
   ]
  },
  {
   "cell_type": "markdown",
   "id": "558a4beb",
   "metadata": {},
   "source": [
    "### A maioria das propriedades (+ 50%) ficou disponível durante o verão / primavera.\n",
    "** Verdadeiro: ** Quase 60% das propriedades ficaram disponíveis durante o verão / primavera."
   ]
  },
  {
   "cell_type": "code",
   "execution_count": null,
   "id": "8259199c",
   "metadata": {},
   "outputs": [],
   "source": [
    "season = df42[['season', 'id']].copy()\n",
    "\n",
    "season['SS_FW'] = season.apply(lambda x: 'SS' if x['season']=='summer' \n",
    "                          else 'SS' if x['season']=='spring' \n",
    "                          else 'FW', axis=1)\n",
    "\n",
    "\n",
    "disp = season[['SS_FW', 'id']].groupby('SS_FW').count().sort_values('id', ascending=False).reset_index()\n",
    "disp['cumultive_%'] = disp['id'].cumsum()/disp['id'].sum()*100\n",
    "disp.head()"
   ]
  },
  {
   "cell_type": "markdown",
   "id": "feb99b68",
   "metadata": {},
   "source": [
    "### Propriedades disponíveis durante o verão / primavera são 20% mais caras.\n",
    "** Falso: ** As propriedades disponíveis no verão / primavera são 4,5% mais caras."
   ]
  },
  {
   "cell_type": "code",
   "execution_count": null,
   "id": "9c09494b",
   "metadata": {},
   "outputs": [],
   "source": [
    "aux = data[['id', 'season', 'buying_price']].copy()\n",
    "\n",
    "aux['SS_AW'] = aux.apply(lambda x: 'SS' if x['season']=='summer' \n",
    "                          else 'SS' if x['season']=='spring' \n",
    "                          else 'AW', axis=1)\n",
    "\n",
    "valor = (aux.groupby('SS_AW').agg(properties   = ('id', 'count'),\n",
    "                            price_min    = ('buying_price', 'min'),\n",
    "                            price_max    = ('buying_price', 'max'),\n",
    "                            price_median = ('buying_price', 'median'),\n",
    "                            price_mean   = ('buying_price', 'mean')) ).sort_values('price_mean', ascending=False).reset_index()\n",
    "\n",
    "SS_mean = valor.iloc[0,5]\n",
    "FW_mean = valor.iloc[1,5]\n",
    "\n",
    "percentage = abs( ((SS_mean - FW_mean) / FW_mean)*100 )\n",
    "print('Properties with available during Summer/Spring are', '{:,.2f}'.format(percentage),'% more expensive.')\n",
    "\n",
    "valor.head()"
   ]
  },
  {
   "cell_type": "markdown",
   "id": "6fd135ed",
   "metadata": {},
   "source": [
    "### A maioria das propriedades (+ 50%) estão localizadas em um raio de 15 km do lago.\n",
    "** Verdadeiro: ** 50% das propriedades estão localizadas em um raio de 15 km do lago."
   ]
  },
  {
   "cell_type": "code",
   "execution_count": null,
   "id": "18b9f42d",
   "metadata": {},
   "outputs": [],
   "source": [
    "aux = data[['id', 'dist_fromlake']].copy()\n",
    "\n",
    "bin_groups = list(np.arange(0,90,15)) # maximum dist =~ 71\n",
    "aux['dist_fromlake_binned'] = pd.cut(aux['dist_fromlake'], bins=bin_groups)\n",
    "\n",
    "aux1 = aux[['dist_fromlake_binned', 'id']].groupby('dist_fromlake_binned').count().sort_values('id', ascending=False).reset_index()\n",
    "\n",
    "aux1['cumultive_%'] = aux1['id'].cumsum()/aux1['id'].sum()*100\n",
    "\n",
    "aux1.head()"
   ]
  },
  {
   "cell_type": "markdown",
   "id": "b7d69f3d",
   "metadata": {},
   "source": [
    "### A maioria das propriedades (+ 50%) que devem ser compradas estão em um raio de 15 km do lago.\n",
    "** Verdadeiro: ** 50% das propriedades que devem ser adquiridas estão em um raio de 15 km do lago."
   ]
  },
  {
   "cell_type": "code",
   "execution_count": null,
   "id": "ac5a36a0",
   "metadata": {},
   "outputs": [],
   "source": [
    "aux = data[data['decision']!=0][['id', 'dist_fromlake', 'decision']].copy()\n",
    "\n",
    "bin_groups = list(np.arange(0,90,15)) # maximum dist =~ 71 km\n",
    "aux['dist_fromlake_binned'] = pd.cut(aux['dist_fromlake'], bins=bin_groups)\n",
    "aux.head()\n",
    "\n",
    "aux1 = aux[['dist_fromlake_binned', 'decision']].groupby('dist_fromlake_binned').count().sort_values('decision', ascending=False).reset_index()\n",
    "\n",
    "aux1['cumultive_%']=b['decision'].cumsum()/b['decision'].sum()*100\n",
    "\n",
    "aux1.head()"
   ]
  },
  {
   "cell_type": "markdown",
   "id": "a7434014",
   "metadata": {},
   "source": [
    "### As propriedades selecionadas para compra localizadas em um raio de 15 km do lago correspondem a mais de 50% do lucro esperado.\n",
    "** Verdadeiro: ** As propriedades selecionadas para compra em um raio de 15 km do lago correspondem a quase 60% do lucro esperado."
   ]
  },
  {
   "cell_type": "code",
   "execution_count": null,
   "id": "dcd014a5",
   "metadata": {},
   "outputs": [],
   "source": [
    "aux = data[data['expected_profit']!=0][['id', 'dist_fromlake', 'expected_profit']].copy()\n",
    "\n",
    "bin_groups = list(np.arange(0,90,15)) # maximum dist =~ 71\n",
    "aux['dist_fromlake_binned'] = pd.cut(aux['dist_fromlake'], bins=bin_groups)\n",
    "\n",
    "aux1 = ( aux[['dist_fromlake_binned', 'expected_profit']].groupby('dist_fromlake_binned')\n",
    "                                                    .agg(profit_min    = ('expected_profit', 'min'),\n",
    "                                                         profit_max    = ('expected_profit', 'max'),\n",
    "                                                         profit_median = ('expected_profit', 'median'),\n",
    "                                                         profit_mean   = ('expected_profit', 'mean'),\n",
    "                                                         profit_sum    = ('expected_profit', 'sum'),) ).reset_index()\n",
    "\n",
    "aux1['cumulative_%']=aux1['profit_sum'].cumsum()/aux1['profit_sum'].sum()*100\n",
    "\n",
    "aux1['max_dist'] = [15, 30, 45, 60, 75]\n",
    "\n",
    "aux1.head()"
   ]
  },
  {
   "cell_type": "code",
   "execution_count": null,
   "id": "b8c5f4ac",
   "metadata": {},
   "outputs": [],
   "source": [
    "ax1 = sns.barplot(data=b , x='max_dist', y='profit_sum', color='royalblue')"
   ]
  },
  {
   "cell_type": "markdown",
   "id": "b3652540",
   "metadata": {},
   "source": [
    "### As propriedades têm maior espaço interior ao longo do cronograma do ano de construção.\n",
    "** Verdadeiro: ** As propriedades têm maior espaço interior ao longo do cronograma do ano de construção."
   ]
  },
  {
   "cell_type": "code",
   "execution_count": null,
   "id": "35bd45fa",
   "metadata": {},
   "outputs": [],
   "source": [
    "aux = data[['sqft_living', 'yr_built']].copy()\n",
    "\n",
    "aux1 = aux.groupby('yr_built').mean().reset_index()\n",
    "\n",
    "plt.plot(aux1['yr_built'], aux1['sqft_living'])\n",
    "plt.show()"
   ]
  },
  {
   "cell_type": "markdown",
   "id": "a0cf91d6",
   "metadata": {},
   "source": [
    "### Propriedades que não foram reformadas são 40% mais baratas.\n",
    "** Verdadeiro: ** Os imóveis que não foram reformados são 43,17% mais baratos."
   ]
  },
  {
   "cell_type": "code",
   "execution_count": null,
   "id": "b356b51b",
   "metadata": {},
   "outputs": [],
   "source": [
    "aux = data[['buying_price', 'yr_renovated']].copy()\n",
    "\n",
    "aux['was_renovated'] = aux.apply(lambda x: 0 if x['yr_renovated']==0 else 1, axis=1)\n",
    "\n",
    "aux1 = aux[['was_renovated', 'buying_price']].groupby('was_renovated').mean().reset_index()\n",
    "\n",
    "wasnot_renovated = aux1.iloc[0,1]\n",
    "was_renovated = aux1.iloc[1,1]\n",
    "\n",
    "print('Average price of properties that were not renovated: {:,.2f}'.format(wasnot_renovated))\n",
    "print('Average price of properties that were renovated: {:,.2f}'.format(was_renovated))\n",
    "\n",
    "percentage = abs( ((was_renovated - wasnot_renovated) / wasnot_renovated)*100 )\n",
    "print('Properties that were not renovated are {:,.2f}'.format(percentage),'% cheaper.')"
   ]
  },
  {
   "cell_type": "code",
   "execution_count": null,
   "id": "f426009e",
   "metadata": {},
   "outputs": [],
   "source": []
  },
  {
   "cell_type": "code",
   "execution_count": null,
   "id": "7c1692bb",
   "metadata": {},
   "outputs": [],
   "source": []
  },
  {
   "cell_type": "code",
   "execution_count": null,
   "id": "a749f453",
   "metadata": {},
   "outputs": [],
   "source": []
  },
  {
   "cell_type": "code",
   "execution_count": null,
   "id": "6834d5e1",
   "metadata": {},
   "outputs": [],
   "source": []
  }
 ],
 "metadata": {
  "kernelspec": {
   "display_name": "Python 3",
   "language": "python",
   "name": "python3"
  },
  "language_info": {
   "codemirror_mode": {
    "name": "ipython",
    "version": 3
   },
   "file_extension": ".py",
   "mimetype": "text/x-python",
   "name": "python",
   "nbconvert_exporter": "python",
   "pygments_lexer": "ipython3",
   "version": "3.8.10"
  }
 },
 "nbformat": 4,
 "nbformat_minor": 5
}
